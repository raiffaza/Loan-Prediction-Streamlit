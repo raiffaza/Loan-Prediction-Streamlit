{
 "cells": [
  {
   "cell_type": "markdown",
   "id": "f9922382",
   "metadata": {},
   "source": [
    "> ## Business Problem\n",
    "\n",
    "Companies or financial institutions need to determine whether a loan application from a potential borrower should be approved or rejected. This process is important to minimize the risk of non-performing loans and ensure that only financially viable borrowers are approved. If done manually, this process can be time-consuming, prone to bias, and inefficient, especially if the volume of applications is high.\n",
    "\n",
    "> ## Purpose of Machine Learning\n",
    "\n",
    "The purpose of using machine learning in this case is to automate the loan application evaluation process by building a predictive model that can classify loan applications into two categories: `Approved` or `Rejected`. The model uses features such as Income, Credit Score, Loan Amount, DTI Ratio, and Employment Status to predict loan eligibility.\n",
    "\n",
    "Specifically, the machine learning objectives of this project are:\n",
    "- Help decide automatically whether a loan application will be approved or rejected based on the prospective borrower's data.\n",
    "- Improve accuracy and consistency in the loan approval process by reducing human subjectivity and bias.\n",
    "- Speed up the loan application evaluation process so that it is more efficient and scalable.\n",
    "\n",
    "The model used is `K-Nearest Neighbors (KNN)`, which has been optimized with GridSearchCV to determine the best parameters, and trained to recognize patterns from historical loan application data with the label `Approved` or `Rejected`.\n",
    "\n",
    "----"
   ]
  },
  {
   "cell_type": "markdown",
   "id": "febc3aa6",
   "metadata": {},
   "source": [
    "> ### Import Library"
   ]
  },
  {
   "cell_type": "code",
   "execution_count": 3,
   "id": "81d09200",
   "metadata": {},
   "outputs": [],
   "source": [
    "import warnings\n",
    "warnings.filterwarnings('ignore')\n",
    "\n",
    "import numpy as np\n",
    "import pandas as pd\n",
    "import seaborn as sns\n",
    "import matplotlib.pyplot as plt\n",
    "%matplotlib inline\n",
    "from sklearn.impute import KNNImputer\n",
    "from sklearn.preprocessing import StandardScaler\n",
    "from sklearn.cluster import KMeans\n",
    "from sklearn.metrics import classification_report, roc_auc_score\n",
    "\n",
    "\n",
    "pd.set_option(\"display.max_columns\", None) #untuk menampilkan semua kolom dataframe\n",
    "pd.set_option(\"display.max_rows\", None) #untuk menampilkan semua baris dataframe"
   ]
  },
  {
   "cell_type": "markdown",
   "id": "40501d78",
   "metadata": {},
   "source": [
    "> ### Load the dataset"
   ]
  },
  {
   "cell_type": "code",
   "execution_count": 4,
   "id": "c697808a",
   "metadata": {},
   "outputs": [
    {
     "data": {
      "text/html": [
       "<div>\n",
       "<style scoped>\n",
       "    .dataframe tbody tr th:only-of-type {\n",
       "        vertical-align: middle;\n",
       "    }\n",
       "\n",
       "    .dataframe tbody tr th {\n",
       "        vertical-align: top;\n",
       "    }\n",
       "\n",
       "    .dataframe thead th {\n",
       "        text-align: right;\n",
       "    }\n",
       "</style>\n",
       "<table border=\"1\" class=\"dataframe\">\n",
       "  <thead>\n",
       "    <tr style=\"text-align: right;\">\n",
       "      <th></th>\n",
       "      <th>Text</th>\n",
       "      <th>Income</th>\n",
       "      <th>Credit_Score</th>\n",
       "      <th>Loan_Amount</th>\n",
       "      <th>DTI_Ratio</th>\n",
       "      <th>Employment_Status</th>\n",
       "      <th>Approval</th>\n",
       "    </tr>\n",
       "  </thead>\n",
       "  <tbody>\n",
       "    <tr>\n",
       "      <th>0</th>\n",
       "      <td>I need a loan to pay for an international vaca...</td>\n",
       "      <td>26556</td>\n",
       "      <td>581</td>\n",
       "      <td>8314</td>\n",
       "      <td>79.26</td>\n",
       "      <td>employed</td>\n",
       "      <td>Rejected</td>\n",
       "    </tr>\n",
       "    <tr>\n",
       "      <th>1</th>\n",
       "      <td>I want to make home improvements like installi...</td>\n",
       "      <td>197392</td>\n",
       "      <td>389</td>\n",
       "      <td>111604</td>\n",
       "      <td>22.14</td>\n",
       "      <td>employed</td>\n",
       "      <td>Rejected</td>\n",
       "    </tr>\n",
       "    <tr>\n",
       "      <th>2</th>\n",
       "      <td>I need a loan for home renovation, including a...</td>\n",
       "      <td>44561</td>\n",
       "      <td>523</td>\n",
       "      <td>34118</td>\n",
       "      <td>45.44</td>\n",
       "      <td>employed</td>\n",
       "      <td>Rejected</td>\n",
       "    </tr>\n",
       "    <tr>\n",
       "      <th>3</th>\n",
       "      <td>I need funds to buy new furniture and applianc...</td>\n",
       "      <td>190363</td>\n",
       "      <td>729</td>\n",
       "      <td>118757</td>\n",
       "      <td>10.22</td>\n",
       "      <td>unemployed</td>\n",
       "      <td>Rejected</td>\n",
       "    </tr>\n",
       "    <tr>\n",
       "      <th>4</th>\n",
       "      <td>I need a loan to start a small business.</td>\n",
       "      <td>61853</td>\n",
       "      <td>732</td>\n",
       "      <td>19210</td>\n",
       "      <td>44.13</td>\n",
       "      <td>employed</td>\n",
       "      <td>Approved</td>\n",
       "    </tr>\n",
       "  </tbody>\n",
       "</table>\n",
       "</div>"
      ],
      "text/plain": [
       "                                                Text  Income  Credit_Score  \\\n",
       "0  I need a loan to pay for an international vaca...   26556           581   \n",
       "1  I want to make home improvements like installi...  197392           389   \n",
       "2  I need a loan for home renovation, including a...   44561           523   \n",
       "3  I need funds to buy new furniture and applianc...  190363           729   \n",
       "4           I need a loan to start a small business.   61853           732   \n",
       "\n",
       "   Loan_Amount  DTI_Ratio Employment_Status  Approval  \n",
       "0         8314      79.26          employed  Rejected  \n",
       "1       111604      22.14          employed  Rejected  \n",
       "2        34118      45.44          employed  Rejected  \n",
       "3       118757      10.22        unemployed  Rejected  \n",
       "4        19210      44.13          employed  Approved  "
      ]
     },
     "execution_count": 4,
     "metadata": {},
     "output_type": "execute_result"
    }
   ],
   "source": [
    "df = pd.read_csv('loan_data.csv')\n",
    "df.head()"
   ]
  },
  {
   "cell_type": "markdown",
   "id": "21019368",
   "metadata": {},
   "source": [
    "> ### Dataset Explanation\n",
    "---\n",
    "### 🔍 Dataset Overview\n",
    "The dataset consists of 24,000 entries and 7 columns:\n",
    "- `Text` (string): User-provided reason for requesting a loan.\n",
    "- `Income` (numeric): Applicant's income.\n",
    "- `Credit_Score` (numeric): Applicant’s credit score.\n",
    "- `Loan_Amount` (numeric): Amount of loan requested.\n",
    "- `DTI_Ratio` (numeric): Debt-to-Income ratio.\n",
    "- `Employment_Status` (categorical): Employment status (`employed` / `unemployed`).\n",
    "- `Approval` (categorical): Target variable – whether the loan was `Approved` or `Rejected`.\n",
    "---"
   ]
  },
  {
   "cell_type": "markdown",
   "id": "cb690ff3",
   "metadata": {},
   "source": [
    "> ### Goals!\n",
    "The primary goal of this project is to build a machine learning model that can predict whether a loan application will be accepted or rejected based on available information such as income, credit score, loan amount, and employment status.\n",
    "\n"
   ]
  },
  {
   "cell_type": "code",
   "execution_count": 5,
   "id": "6a656828",
   "metadata": {},
   "outputs": [
    {
     "data": {
      "text/plain": [
       "Approval\n",
       "Rejected    20067\n",
       "Approved     3933\n",
       "Name: count, dtype: int64"
      ]
     },
     "execution_count": 5,
     "metadata": {},
     "output_type": "execute_result"
    }
   ],
   "source": [
    "df['Approval'].value_counts()"
   ]
  },
  {
   "cell_type": "code",
   "execution_count": 6,
   "id": "42e9866d",
   "metadata": {},
   "outputs": [
    {
     "data": {
      "text/plain": [
       "Employment_Status\n",
       "unemployed    12007\n",
       "employed      11993\n",
       "Name: count, dtype: int64"
      ]
     },
     "execution_count": 6,
     "metadata": {},
     "output_type": "execute_result"
    }
   ],
   "source": [
    "df['Employment_Status'].value_counts()"
   ]
  },
  {
   "cell_type": "markdown",
   "id": "515d6f9f",
   "metadata": {},
   "source": [
    "- The majority of customers, the loan are being rejected!"
   ]
  },
  {
   "cell_type": "markdown",
   "id": "a887fa95",
   "metadata": {},
   "source": [
    "> ### Drop the column that not gonna be used"
   ]
  },
  {
   "cell_type": "code",
   "execution_count": 7,
   "id": "ad683a26",
   "metadata": {},
   "outputs": [],
   "source": [
    "# Remove 'customerID' as it is not informative for modeling\n",
    "df.drop(columns=['Text'], inplace=True)"
   ]
  },
  {
   "cell_type": "code",
   "execution_count": 8,
   "id": "e9644219",
   "metadata": {},
   "outputs": [
    {
     "data": {
      "text/html": [
       "<div>\n",
       "<style scoped>\n",
       "    .dataframe tbody tr th:only-of-type {\n",
       "        vertical-align: middle;\n",
       "    }\n",
       "\n",
       "    .dataframe tbody tr th {\n",
       "        vertical-align: top;\n",
       "    }\n",
       "\n",
       "    .dataframe thead th {\n",
       "        text-align: right;\n",
       "    }\n",
       "</style>\n",
       "<table border=\"1\" class=\"dataframe\">\n",
       "  <thead>\n",
       "    <tr style=\"text-align: right;\">\n",
       "      <th></th>\n",
       "      <th>Income</th>\n",
       "      <th>Credit_Score</th>\n",
       "      <th>Loan_Amount</th>\n",
       "      <th>DTI_Ratio</th>\n",
       "      <th>Employment_Status</th>\n",
       "      <th>Approval</th>\n",
       "    </tr>\n",
       "  </thead>\n",
       "  <tbody>\n",
       "    <tr>\n",
       "      <th>0</th>\n",
       "      <td>26556</td>\n",
       "      <td>581</td>\n",
       "      <td>8314</td>\n",
       "      <td>79.26</td>\n",
       "      <td>employed</td>\n",
       "      <td>Rejected</td>\n",
       "    </tr>\n",
       "    <tr>\n",
       "      <th>1</th>\n",
       "      <td>197392</td>\n",
       "      <td>389</td>\n",
       "      <td>111604</td>\n",
       "      <td>22.14</td>\n",
       "      <td>employed</td>\n",
       "      <td>Rejected</td>\n",
       "    </tr>\n",
       "    <tr>\n",
       "      <th>2</th>\n",
       "      <td>44561</td>\n",
       "      <td>523</td>\n",
       "      <td>34118</td>\n",
       "      <td>45.44</td>\n",
       "      <td>employed</td>\n",
       "      <td>Rejected</td>\n",
       "    </tr>\n",
       "    <tr>\n",
       "      <th>3</th>\n",
       "      <td>190363</td>\n",
       "      <td>729</td>\n",
       "      <td>118757</td>\n",
       "      <td>10.22</td>\n",
       "      <td>unemployed</td>\n",
       "      <td>Rejected</td>\n",
       "    </tr>\n",
       "    <tr>\n",
       "      <th>4</th>\n",
       "      <td>61853</td>\n",
       "      <td>732</td>\n",
       "      <td>19210</td>\n",
       "      <td>44.13</td>\n",
       "      <td>employed</td>\n",
       "      <td>Approved</td>\n",
       "    </tr>\n",
       "  </tbody>\n",
       "</table>\n",
       "</div>"
      ],
      "text/plain": [
       "   Income  Credit_Score  Loan_Amount  DTI_Ratio Employment_Status  Approval\n",
       "0   26556           581         8314      79.26          employed  Rejected\n",
       "1  197392           389       111604      22.14          employed  Rejected\n",
       "2   44561           523        34118      45.44          employed  Rejected\n",
       "3  190363           729       118757      10.22        unemployed  Rejected\n",
       "4   61853           732        19210      44.13          employed  Approved"
      ]
     },
     "execution_count": 8,
     "metadata": {},
     "output_type": "execute_result"
    }
   ],
   "source": [
    "df.head()"
   ]
  },
  {
   "cell_type": "code",
   "execution_count": 9,
   "id": "02b9b59b",
   "metadata": {},
   "outputs": [
    {
     "data": {
      "text/html": [
       "<div>\n",
       "<style scoped>\n",
       "    .dataframe tbody tr th:only-of-type {\n",
       "        vertical-align: middle;\n",
       "    }\n",
       "\n",
       "    .dataframe tbody tr th {\n",
       "        vertical-align: top;\n",
       "    }\n",
       "\n",
       "    .dataframe thead th {\n",
       "        text-align: right;\n",
       "    }\n",
       "</style>\n",
       "<table border=\"1\" class=\"dataframe\">\n",
       "  <thead>\n",
       "    <tr style=\"text-align: right;\">\n",
       "      <th></th>\n",
       "      <th>Income</th>\n",
       "      <th>Credit_Score</th>\n",
       "      <th>Loan_Amount</th>\n",
       "      <th>DTI_Ratio</th>\n",
       "      <th>Employment_Status</th>\n",
       "      <th>Approval</th>\n",
       "    </tr>\n",
       "  </thead>\n",
       "  <tbody>\n",
       "    <tr>\n",
       "      <th>23995</th>\n",
       "      <td>195242</td>\n",
       "      <td>817</td>\n",
       "      <td>16403</td>\n",
       "      <td>24.32</td>\n",
       "      <td>employed</td>\n",
       "      <td>Approved</td>\n",
       "    </tr>\n",
       "    <tr>\n",
       "      <th>23996</th>\n",
       "      <td>150246</td>\n",
       "      <td>729</td>\n",
       "      <td>101572</td>\n",
       "      <td>9.97</td>\n",
       "      <td>employed</td>\n",
       "      <td>Rejected</td>\n",
       "    </tr>\n",
       "    <tr>\n",
       "      <th>23997</th>\n",
       "      <td>64571</td>\n",
       "      <td>650</td>\n",
       "      <td>30533</td>\n",
       "      <td>57.35</td>\n",
       "      <td>employed</td>\n",
       "      <td>Rejected</td>\n",
       "    </tr>\n",
       "    <tr>\n",
       "      <th>23998</th>\n",
       "      <td>115825</td>\n",
       "      <td>418</td>\n",
       "      <td>89837</td>\n",
       "      <td>10.37</td>\n",
       "      <td>unemployed</td>\n",
       "      <td>Rejected</td>\n",
       "    </tr>\n",
       "    <tr>\n",
       "      <th>23999</th>\n",
       "      <td>180440</td>\n",
       "      <td>769</td>\n",
       "      <td>15259</td>\n",
       "      <td>15.06</td>\n",
       "      <td>employed</td>\n",
       "      <td>Approved</td>\n",
       "    </tr>\n",
       "  </tbody>\n",
       "</table>\n",
       "</div>"
      ],
      "text/plain": [
       "       Income  Credit_Score  Loan_Amount  DTI_Ratio Employment_Status  \\\n",
       "23995  195242           817        16403      24.32          employed   \n",
       "23996  150246           729       101572       9.97          employed   \n",
       "23997   64571           650        30533      57.35          employed   \n",
       "23998  115825           418        89837      10.37        unemployed   \n",
       "23999  180440           769        15259      15.06          employed   \n",
       "\n",
       "       Approval  \n",
       "23995  Approved  \n",
       "23996  Rejected  \n",
       "23997  Rejected  \n",
       "23998  Rejected  \n",
       "23999  Approved  "
      ]
     },
     "execution_count": 9,
     "metadata": {},
     "output_type": "execute_result"
    }
   ],
   "source": [
    "df.tail()"
   ]
  },
  {
   "cell_type": "markdown",
   "id": "e647eb1f",
   "metadata": {},
   "source": [
    "> ### Check Duplicated Data"
   ]
  },
  {
   "cell_type": "code",
   "execution_count": 10,
   "id": "c0b8172f",
   "metadata": {},
   "outputs": [
    {
     "data": {
      "text/plain": [
       "1.0"
      ]
     },
     "execution_count": 10,
     "metadata": {},
     "output_type": "execute_result"
    }
   ],
   "source": [
    "len(df.drop_duplicates()) / len(df)"
   ]
  },
  {
   "cell_type": "markdown",
   "id": "e487fd51",
   "metadata": {},
   "source": [
    "- The dataset are safe from duplicated data!"
   ]
  },
  {
   "cell_type": "markdown",
   "id": "241a797e",
   "metadata": {},
   "source": [
    "> ### Check Missing Values"
   ]
  },
  {
   "cell_type": "code",
   "execution_count": 11,
   "id": "de05f3ee",
   "metadata": {},
   "outputs": [
    {
     "name": "stdout",
     "output_type": "stream",
     "text": [
      "Income               0\n",
      "Credit_Score         0\n",
      "Loan_Amount          0\n",
      "DTI_Ratio            0\n",
      "Employment_Status    0\n",
      "Approval             0\n",
      "dtype: int64\n"
     ]
    }
   ],
   "source": [
    "print(df.isnull().sum())"
   ]
  },
  {
   "cell_type": "markdown",
   "id": "1df873f9",
   "metadata": {},
   "source": [
    "- The dataset are safe from missing value!"
   ]
  },
  {
   "cell_type": "markdown",
   "id": "acd9a12e",
   "metadata": {},
   "source": [
    "> ### Categorical Columns"
   ]
  },
  {
   "cell_type": "code",
   "execution_count": 12,
   "id": "43da0df8",
   "metadata": {},
   "outputs": [],
   "source": [
    "categorical_columns = [\n",
    "    'Employment_Status', 'Approval'\n",
    "]"
   ]
  },
  {
   "cell_type": "markdown",
   "id": "a2d1cb7a",
   "metadata": {},
   "source": [
    "> ### Numerical Columns"
   ]
  },
  {
   "cell_type": "code",
   "execution_count": 13,
   "id": "8b9369db",
   "metadata": {},
   "outputs": [],
   "source": [
    "# Define numerical columns\n",
    "numerical_columns = ['Income','Credit_Score','Loan_Amount','DTI_Ratio']\n",
    "\t\t\t"
   ]
  },
  {
   "cell_type": "markdown",
   "id": "d5892a32",
   "metadata": {},
   "source": [
    "> ### Target Distribution"
   ]
  },
  {
   "cell_type": "code",
   "execution_count": 14,
   "id": "d10619ce",
   "metadata": {},
   "outputs": [
    {
     "data": {
      "image/png": "[encoded data removed]",
      "text/plain": [
       "<Figure size 600x400 with 1 Axes>"
      ]
     },
     "metadata": {},
     "output_type": "display_data"
    }
   ],
   "source": [
    "# Plot the distribution of the target variable\n",
    "plt.figure(figsize=(6, 4))\n",
    "sns.countplot(x='Approval', data=df)\n",
    "plt.title('Target Variable Distribution: Approval')\n",
    "plt.xlabel('Approval')\n",
    "plt.ylabel('Count')\n",
    "plt.tight_layout()\n",
    "plt.show()"
   ]
  },
  {
   "cell_type": "markdown",
   "id": "6c3efc79",
   "metadata": {},
   "source": [
    "- Conclusion\n",
    "    - The bar chart shows the class distribution of the target variable (likely \"Loan Approval\" or similar).\n",
    "    - There are two classes: \"Rejected\" and \"Approved\" .\n",
    "    - The \"Rejected\" class is significantly more frequent than the \"Approved\" class.\n",
    "    - This indicates a clear class imbalance , which may affect model performance if not handled properl"
   ]
  },
  {
   "cell_type": "code",
   "execution_count": 15,
   "id": "c256fd25",
   "metadata": {},
   "outputs": [
    {
     "data": {
      "text/html": [
       "<div>\n",
       "<style scoped>\n",
       "    .dataframe tbody tr th:only-of-type {\n",
       "        vertical-align: middle;\n",
       "    }\n",
       "\n",
       "    .dataframe tbody tr th {\n",
       "        vertical-align: top;\n",
       "    }\n",
       "\n",
       "    .dataframe thead th {\n",
       "        text-align: right;\n",
       "    }\n",
       "</style>\n",
       "<table border=\"1\" class=\"dataframe\">\n",
       "  <thead>\n",
       "    <tr style=\"text-align: right;\">\n",
       "      <th></th>\n",
       "      <th>Income</th>\n",
       "      <th>Credit_Score</th>\n",
       "      <th>Loan_Amount</th>\n",
       "      <th>DTI_Ratio</th>\n",
       "      <th>Employment_Status</th>\n",
       "      <th>Approval</th>\n",
       "    </tr>\n",
       "  </thead>\n",
       "  <tbody>\n",
       "    <tr>\n",
       "      <th>0</th>\n",
       "      <td>26556</td>\n",
       "      <td>581</td>\n",
       "      <td>8314</td>\n",
       "      <td>79.26</td>\n",
       "      <td>employed</td>\n",
       "      <td>Rejected</td>\n",
       "    </tr>\n",
       "    <tr>\n",
       "      <th>1</th>\n",
       "      <td>197392</td>\n",
       "      <td>389</td>\n",
       "      <td>111604</td>\n",
       "      <td>22.14</td>\n",
       "      <td>employed</td>\n",
       "      <td>Rejected</td>\n",
       "    </tr>\n",
       "    <tr>\n",
       "      <th>2</th>\n",
       "      <td>44561</td>\n",
       "      <td>523</td>\n",
       "      <td>34118</td>\n",
       "      <td>45.44</td>\n",
       "      <td>employed</td>\n",
       "      <td>Rejected</td>\n",
       "    </tr>\n",
       "    <tr>\n",
       "      <th>3</th>\n",
       "      <td>190363</td>\n",
       "      <td>729</td>\n",
       "      <td>118757</td>\n",
       "      <td>10.22</td>\n",
       "      <td>unemployed</td>\n",
       "      <td>Rejected</td>\n",
       "    </tr>\n",
       "    <tr>\n",
       "      <th>4</th>\n",
       "      <td>61853</td>\n",
       "      <td>732</td>\n",
       "      <td>19210</td>\n",
       "      <td>44.13</td>\n",
       "      <td>employed</td>\n",
       "      <td>Approved</td>\n",
       "    </tr>\n",
       "  </tbody>\n",
       "</table>\n",
       "</div>"
      ],
      "text/plain": [
       "   Income  Credit_Score  Loan_Amount  DTI_Ratio Employment_Status  Approval\n",
       "0   26556           581         8314      79.26          employed  Rejected\n",
       "1  197392           389       111604      22.14          employed  Rejected\n",
       "2   44561           523        34118      45.44          employed  Rejected\n",
       "3  190363           729       118757      10.22        unemployed  Rejected\n",
       "4   61853           732        19210      44.13          employed  Approved"
      ]
     },
     "execution_count": 15,
     "metadata": {},
     "output_type": "execute_result"
    }
   ],
   "source": [
    "df.head()"
   ]
  },
  {
   "cell_type": "markdown",
   "id": "232ff8b8",
   "metadata": {},
   "source": [
    "> ### Data Manipulation, Feature Engineering\n",
    "- Encode the dataset with Label Encoder\n",
    "\n",
    "The reason why we using LabelEncoder because it is the best choice for binary and ordinal categorical variables in your dataset, as it preserves the relationship between categories and is computationally efficient."
   ]
  },
  {
   "cell_type": "code",
   "execution_count": 16,
   "id": "8022bcfb",
   "metadata": {},
   "outputs": [],
   "source": [
    "df['Approval'] = df['Approval'].apply(lambda x: 1 if x == 'Approved' else 0)\n",
    "df['Employment_Status'] = df['Employment_Status'].apply(lambda x: 1 if x == 'employed' else 0)"
   ]
  },
  {
   "cell_type": "code",
   "execution_count": 17,
   "id": "a542f5ca",
   "metadata": {},
   "outputs": [
    {
     "data": {
      "text/html": [
       "<div>\n",
       "<style scoped>\n",
       "    .dataframe tbody tr th:only-of-type {\n",
       "        vertical-align: middle;\n",
       "    }\n",
       "\n",
       "    .dataframe tbody tr th {\n",
       "        vertical-align: top;\n",
       "    }\n",
       "\n",
       "    .dataframe thead th {\n",
       "        text-align: right;\n",
       "    }\n",
       "</style>\n",
       "<table border=\"1\" class=\"dataframe\">\n",
       "  <thead>\n",
       "    <tr style=\"text-align: right;\">\n",
       "      <th></th>\n",
       "      <th>Income</th>\n",
       "      <th>Credit_Score</th>\n",
       "      <th>Loan_Amount</th>\n",
       "      <th>DTI_Ratio</th>\n",
       "      <th>Employment_Status</th>\n",
       "      <th>Approval</th>\n",
       "    </tr>\n",
       "  </thead>\n",
       "  <tbody>\n",
       "    <tr>\n",
       "      <th>0</th>\n",
       "      <td>26556</td>\n",
       "      <td>581</td>\n",
       "      <td>8314</td>\n",
       "      <td>79.26</td>\n",
       "      <td>1</td>\n",
       "      <td>0</td>\n",
       "    </tr>\n",
       "    <tr>\n",
       "      <th>1</th>\n",
       "      <td>197392</td>\n",
       "      <td>389</td>\n",
       "      <td>111604</td>\n",
       "      <td>22.14</td>\n",
       "      <td>1</td>\n",
       "      <td>0</td>\n",
       "    </tr>\n",
       "    <tr>\n",
       "      <th>2</th>\n",
       "      <td>44561</td>\n",
       "      <td>523</td>\n",
       "      <td>34118</td>\n",
       "      <td>45.44</td>\n",
       "      <td>1</td>\n",
       "      <td>0</td>\n",
       "    </tr>\n",
       "    <tr>\n",
       "      <th>3</th>\n",
       "      <td>190363</td>\n",
       "      <td>729</td>\n",
       "      <td>118757</td>\n",
       "      <td>10.22</td>\n",
       "      <td>0</td>\n",
       "      <td>0</td>\n",
       "    </tr>\n",
       "    <tr>\n",
       "      <th>4</th>\n",
       "      <td>61853</td>\n",
       "      <td>732</td>\n",
       "      <td>19210</td>\n",
       "      <td>44.13</td>\n",
       "      <td>1</td>\n",
       "      <td>1</td>\n",
       "    </tr>\n",
       "  </tbody>\n",
       "</table>\n",
       "</div>"
      ],
      "text/plain": [
       "   Income  Credit_Score  Loan_Amount  DTI_Ratio  Employment_Status  Approval\n",
       "0   26556           581         8314      79.26                  1         0\n",
       "1  197392           389       111604      22.14                  1         0\n",
       "2   44561           523        34118      45.44                  1         0\n",
       "3  190363           729       118757      10.22                  0         0\n",
       "4   61853           732        19210      44.13                  1         1"
      ]
     },
     "execution_count": 17,
     "metadata": {},
     "output_type": "execute_result"
    }
   ],
   "source": [
    "df.head()"
   ]
  },
  {
   "cell_type": "code",
   "execution_count": 18,
   "id": "514a36fc",
   "metadata": {},
   "outputs": [],
   "source": [
    "df.to_csv(\"X_train.csv\")"
   ]
  },
  {
   "cell_type": "markdown",
   "id": "9e1a2c41",
   "metadata": {},
   "source": [
    "---\n",
    "> ### Split the dataset"
   ]
  },
  {
   "cell_type": "code",
   "execution_count": 19,
   "id": "421b0d1a",
   "metadata": {},
   "outputs": [],
   "source": [
    "# split train test\n",
    "from sklearn.model_selection import train_test_split\n",
    "\n",
    "feature = df.drop(columns='Approval')\n",
    "target = df[['Approval']]\n",
    "\n",
    "# First splitting: pretrain and test\n",
    "feature_dataset_pretrain, feature_dataset_test, target_dataset_pretrain, target_dataset_test = train_test_split(feature, target, test_size=0.20, random_state=42)\n",
    "\n",
    "# Second splitting: train and validation\n",
    "feature_dataset_train, feature_dataset_validation, target_dataset_train, target_dataset_validation = train_test_split(feature_dataset_pretrain, target_dataset_pretrain, test_size=0.20, random_state=42)"
   ]
  },
  {
   "cell_type": "markdown",
   "id": "9b45eae3",
   "metadata": {},
   "source": [
    "#### **Why splitting it only for train and test?**\n",
    "- Although 24,000 rows and a size of 2.44 MB indicate a moderately sized dataset, splitting it further into training, validation, and test sets could reduce the amount of data available for effective training.\n",
    "\n",
    "- Maximizing the size of the training set is important for model performance and generalization, especially when the dataset is not large.\n",
    "\n",
    "- Dividing a moderate-sized dataset into three subsets can lead to smaller partitions that may not capture sufficient data variation, increasing the risk of unreliable or high-variance evaluation metrics.\n",
    "\n",
    "- A train-test split helps ensure that the model is trained on a sufficiently large portion of the dataset while retaining a test set for unbiased performance evaluation."
   ]
  },
  {
   "cell_type": "markdown",
   "id": "86ed75b5",
   "metadata": {},
   "source": [
    "> #### Check the outlier"
   ]
  },
  {
   "cell_type": "code",
   "execution_count": 20,
   "id": "46d6381c",
   "metadata": {},
   "outputs": [],
   "source": [
    "import scipy.stats as stats\n",
    "\n",
    "def check_plot(x_train, variable):\n",
    "    # fungsi mengambil kerangka data (df) dan\n",
    "    # variabel yang diminati sebagai argumen\n",
    "\n",
    "    # tentukan ukuran gambar\n",
    "    plt.figure(figsize=(16, 4))\n",
    "\n",
    "\n",
    "    # box plot\n",
    "    plt.subplot(1, 3, 3)\n",
    "    sns.boxplot(y=x_train[variable])\n",
    "    plt.title('Boxplot')\n",
    "\n",
    "    plt.show()"
   ]
  },
  {
   "cell_type": "code",
   "execution_count": 21,
   "id": "8b018258",
   "metadata": {},
   "outputs": [
    {
     "data": {
      "image/png": "[encoded data removed]",
      "text/plain": [
       "<Figure size 1600x400 with 1 Axes>"
      ]
     },
     "metadata": {},
     "output_type": "display_data"
    },
    {
     "data": {
      "image/png": "[encoded data removed]",
      "text/plain": [
       "<Figure size 1600x400 with 1 Axes>"
      ]
     },
     "metadata": {},
     "output_type": "display_data"
    },
    {
     "data": {
      "image/png": "[encoded data removed]",
      "text/plain": [
       "<Figure size 1600x400 with 1 Axes>"
      ]
     },
     "metadata": {},
     "output_type": "display_data"
    },
    {
     "data": {
      "image/png": "[encoded data removed]",
      "text/plain": [
       "<Figure size 1600x400 with 1 Axes>"
      ]
     },
     "metadata": {},
     "output_type": "display_data"
    }
   ],
   "source": [
    "numeric_columns = feature_dataset_train.select_dtypes(include=['number']).columns\n",
    "for col in numeric_columns:\n",
    "    if col in ['Income','Credit_Score','Loan_Amount','DTI_Ratio']:\n",
    "        check_plot(feature_dataset_train, col)"
   ]
  },
  {
   "cell_type": "markdown",
   "id": "64e54283",
   "metadata": {},
   "source": [
    "- There is outliers on loan_amount and DTI_ratio"
   ]
  },
  {
   "cell_type": "code",
   "execution_count": 22,
   "id": "5aa42c4f",
   "metadata": {},
   "outputs": [
    {
     "name": "stdout",
     "output_type": "stream",
     "text": [
      "Loan Amount column in training set: Min = 1005.0, Max = 138968.625\n",
      "Loan Amount column in test set: Min = 1010.0, Max = 138968.625\n",
      "DTI Ratio column in training set: Min = 2.53, Max = 82.84875\n",
      "DTI Ratio column in test set: Min = 2.62, Max = 82.84875\n"
     ]
    }
   ],
   "source": [
    "import numpy as np\n",
    "\n",
    "# Handle outliers for Loan Amount using IQR (Interquartile Range)\n",
    "Q1_loan = feature_dataset_train['Loan_Amount'].quantile(0.25)\n",
    "Q3_loan = feature_dataset_train['Loan_Amount'].quantile(0.75)\n",
    "IQR_loan = Q3_loan - Q1_loan\n",
    "lower_bound_loan = Q1_loan - 1.5 * IQR_loan\n",
    "upper_bound_loan = Q3_loan + 1.5 * IQR_loan\n",
    "\n",
    "# Cap outliers in the Loan Amount feature\n",
    "feature_dataset_train['Loan_Amount'] = np.where(feature_dataset_train['Loan_Amount'] < lower_bound_loan, lower_bound_loan,\n",
    "                                   np.where(feature_dataset_train['Loan_Amount'] > upper_bound_loan, upper_bound_loan, feature_dataset_train['Loan_Amount']))\n",
    "\n",
    "# Repeat the same for the test set\n",
    "feature_dataset_test['Loan_Amount'] = np.where(feature_dataset_test['Loan_Amount'] < lower_bound_loan, lower_bound_loan,\n",
    "                                  np.where(feature_dataset_test['Loan_Amount'] > upper_bound_loan, upper_bound_loan, feature_dataset_test['Loan_Amount']))\n",
    "\n",
    "# Handle outliers for DTI Ratio using IQR (Interquartile Range)\n",
    "Q1_dti = feature_dataset_train['DTI_Ratio'].quantile(0.25)\n",
    "Q3_dti = feature_dataset_train['DTI_Ratio'].quantile(0.75)\n",
    "IQR_dti = Q3_dti - Q1_dti\n",
    "lower_bound_dti = Q1_dti - 1.5 * IQR_dti\n",
    "upper_bound_dti = Q3_dti + 1.5 * IQR_dti\n",
    "\n",
    "# Cap outliers in the DTI Ratio feature\n",
    "feature_dataset_train['DTI_Ratio'] = np.where(feature_dataset_train['DTI_Ratio'] < lower_bound_dti, lower_bound_dti,\n",
    "                                 np.where(feature_dataset_train['DTI_Ratio'] > upper_bound_dti, upper_bound_dti, feature_dataset_train['DTI_Ratio']))\n",
    "\n",
    "# Repeat the same for the test set\n",
    "feature_dataset_test['DTI_Ratio'] = np.where(feature_dataset_test['DTI_Ratio'] < lower_bound_dti, lower_bound_dti,\n",
    "                                np.where(feature_dataset_test['DTI_Ratio'] > upper_bound_dti, upper_bound_dti, feature_dataset_test['DTI_Ratio']))\n",
    "\n",
    "# Check the values after capping outliers for Loan Amount and DTI Ratio\n",
    "print(f\"Loan Amount column in training set: Min = {feature_dataset_train['Loan_Amount'].min()}, Max = {feature_dataset_train['Loan_Amount'].max()}\")\n",
    "print(f\"Loan Amount column in test set: Min = {feature_dataset_test['Loan_Amount'].min()}, Max = {feature_dataset_test['Loan_Amount'].max()}\")\n",
    "print(f\"DTI Ratio column in training set: Min = {feature_dataset_train['DTI_Ratio'].min()}, Max = {feature_dataset_train['DTI_Ratio'].max()}\")\n",
    "print(f\"DTI Ratio column in test set: Min = {feature_dataset_test['DTI_Ratio'].min()}, Max = {feature_dataset_test['DTI_Ratio'].max()}\")\n"
   ]
  },
  {
   "cell_type": "code",
   "execution_count": 23,
   "id": "21e684cf",
   "metadata": {},
   "outputs": [
    {
     "data": {
      "image/png": "[encoded data removed]",
      "text/plain": [
       "<Figure size 1600x400 with 1 Axes>"
      ]
     },
     "metadata": {},
     "output_type": "display_data"
    },
    {
     "data": {
      "image/png": "[encoded data removed]",
      "text/plain": [
       "<Figure size 1600x400 with 1 Axes>"
      ]
     },
     "metadata": {},
     "output_type": "display_data"
    },
    {
     "data": {
      "image/png": "[encoded data removed]",
      "text/plain": [
       "<Figure size 1600x400 with 1 Axes>"
      ]
     },
     "metadata": {},
     "output_type": "display_data"
    },
    {
     "data": {
      "image/png": "[encoded data removed]",
      "text/plain": [
       "<Figure size 1600x400 with 1 Axes>"
      ]
     },
     "metadata": {},
     "output_type": "display_data"
    }
   ],
   "source": [
    "numeric_columns = feature_dataset_train.select_dtypes(include=['number']).columns\n",
    "for col in numeric_columns:\n",
    "    if col in ['Income','Credit_Score','Loan_Amount','DTI_Ratio']:\n",
    "        check_plot(feature_dataset_train, col)"
   ]
  },
  {
   "cell_type": "markdown",
   "id": "a5d7c8f9",
   "metadata": {},
   "source": [
    "- The dataset are safe from Outliers"
   ]
  },
  {
   "cell_type": "markdown",
   "id": "57d28e57",
   "metadata": {},
   "source": [
    "> ### Scaling"
   ]
  },
  {
   "cell_type": "code",
   "execution_count": 24,
   "id": "d771f744",
   "metadata": {},
   "outputs": [
    {
     "data": {
      "text/html": [
       "<div>\n",
       "<style scoped>\n",
       "    .dataframe tbody tr th:only-of-type {\n",
       "        vertical-align: middle;\n",
       "    }\n",
       "\n",
       "    .dataframe tbody tr th {\n",
       "        vertical-align: top;\n",
       "    }\n",
       "\n",
       "    .dataframe thead th {\n",
       "        text-align: right;\n",
       "    }\n",
       "</style>\n",
       "<table border=\"1\" class=\"dataframe\">\n",
       "  <thead>\n",
       "    <tr style=\"text-align: right;\">\n",
       "      <th></th>\n",
       "      <th>Income</th>\n",
       "      <th>Credit_Score</th>\n",
       "      <th>Loan_Amount</th>\n",
       "      <th>DTI_Ratio</th>\n",
       "      <th>Employment_Status</th>\n",
       "    </tr>\n",
       "  </thead>\n",
       "  <tbody>\n",
       "    <tr>\n",
       "      <th>3111</th>\n",
       "      <td>88429</td>\n",
       "      <td>559</td>\n",
       "      <td>66289.0</td>\n",
       "      <td>48.46000</td>\n",
       "      <td>1</td>\n",
       "    </tr>\n",
       "    <tr>\n",
       "      <th>18679</th>\n",
       "      <td>109533</td>\n",
       "      <td>420</td>\n",
       "      <td>82072.0</td>\n",
       "      <td>22.94000</td>\n",
       "      <td>1</td>\n",
       "    </tr>\n",
       "    <tr>\n",
       "      <th>17472</th>\n",
       "      <td>77025</td>\n",
       "      <td>365</td>\n",
       "      <td>6527.0</td>\n",
       "      <td>7.73000</td>\n",
       "      <td>1</td>\n",
       "    </tr>\n",
       "    <tr>\n",
       "      <th>21451</th>\n",
       "      <td>87875</td>\n",
       "      <td>396</td>\n",
       "      <td>41918.0</td>\n",
       "      <td>17.35000</td>\n",
       "      <td>0</td>\n",
       "    </tr>\n",
       "    <tr>\n",
       "      <th>20800</th>\n",
       "      <td>38908</td>\n",
       "      <td>502</td>\n",
       "      <td>13872.0</td>\n",
       "      <td>82.84875</td>\n",
       "      <td>1</td>\n",
       "    </tr>\n",
       "  </tbody>\n",
       "</table>\n",
       "</div>"
      ],
      "text/plain": [
       "       Income  Credit_Score  Loan_Amount  DTI_Ratio  Employment_Status\n",
       "3111    88429           559      66289.0   48.46000                  1\n",
       "18679  109533           420      82072.0   22.94000                  1\n",
       "17472   77025           365       6527.0    7.73000                  1\n",
       "21451   87875           396      41918.0   17.35000                  0\n",
       "20800   38908           502      13872.0   82.84875                  1"
      ]
     },
     "execution_count": 24,
     "metadata": {},
     "output_type": "execute_result"
    }
   ],
   "source": [
    "feature_dataset_test.head()"
   ]
  },
  {
   "cell_type": "code",
   "execution_count": 25,
   "id": "e2b828bc",
   "metadata": {},
   "outputs": [
    {
     "data": {
      "text/html": [
       "<div>\n",
       "<style scoped>\n",
       "    .dataframe tbody tr th:only-of-type {\n",
       "        vertical-align: middle;\n",
       "    }\n",
       "\n",
       "    .dataframe tbody tr th {\n",
       "        vertical-align: top;\n",
       "    }\n",
       "\n",
       "    .dataframe thead th {\n",
       "        text-align: right;\n",
       "    }\n",
       "</style>\n",
       "<table border=\"1\" class=\"dataframe\">\n",
       "  <thead>\n",
       "    <tr style=\"text-align: right;\">\n",
       "      <th></th>\n",
       "      <th>Income</th>\n",
       "      <th>Credit_Score</th>\n",
       "      <th>Loan_Amount</th>\n",
       "      <th>DTI_Ratio</th>\n",
       "      <th>Employment_Status</th>\n",
       "    </tr>\n",
       "  </thead>\n",
       "  <tbody>\n",
       "    <tr>\n",
       "      <th>5670</th>\n",
       "      <td>80724</td>\n",
       "      <td>662</td>\n",
       "      <td>22371.0</td>\n",
       "      <td>41.35000</td>\n",
       "      <td>0</td>\n",
       "    </tr>\n",
       "    <tr>\n",
       "      <th>16258</th>\n",
       "      <td>26373</td>\n",
       "      <td>477</td>\n",
       "      <td>10227.0</td>\n",
       "      <td>82.84875</td>\n",
       "      <td>1</td>\n",
       "    </tr>\n",
       "    <tr>\n",
       "      <th>3162</th>\n",
       "      <td>58831</td>\n",
       "      <td>331</td>\n",
       "      <td>23460.0</td>\n",
       "      <td>20.55000</td>\n",
       "      <td>1</td>\n",
       "    </tr>\n",
       "    <tr>\n",
       "      <th>17194</th>\n",
       "      <td>35428</td>\n",
       "      <td>639</td>\n",
       "      <td>13692.0</td>\n",
       "      <td>79.01000</td>\n",
       "      <td>0</td>\n",
       "    </tr>\n",
       "    <tr>\n",
       "      <th>5874</th>\n",
       "      <td>41154</td>\n",
       "      <td>330</td>\n",
       "      <td>11866.0</td>\n",
       "      <td>32.50000</td>\n",
       "      <td>1</td>\n",
       "    </tr>\n",
       "  </tbody>\n",
       "</table>\n",
       "</div>"
      ],
      "text/plain": [
       "       Income  Credit_Score  Loan_Amount  DTI_Ratio  Employment_Status\n",
       "5670    80724           662      22371.0   41.35000                  0\n",
       "16258   26373           477      10227.0   82.84875                  1\n",
       "3162    58831           331      23460.0   20.55000                  1\n",
       "17194   35428           639      13692.0   79.01000                  0\n",
       "5874    41154           330      11866.0   32.50000                  1"
      ]
     },
     "execution_count": 25,
     "metadata": {},
     "output_type": "execute_result"
    }
   ],
   "source": [
    "feature_dataset_train.head()"
   ]
  },
  {
   "cell_type": "code",
   "execution_count": 26,
   "id": "87ff5b57",
   "metadata": {},
   "outputs": [],
   "source": [
    "# min-max scaler based on training data\n",
    "from sklearn.preprocessing import MinMaxScaler\n",
    "\n",
    "scaler = MinMaxScaler()\n",
    "\n",
    "minmax_scaler = scaler.fit(feature_dataset_train)\n",
    "X_train_scaled = minmax_scaler.transform(feature_dataset_train)\n",
    "X_test_scaled = minmax_scaler.transform(feature_dataset_test)"
   ]
  },
  {
   "cell_type": "code",
   "execution_count": 27,
   "id": "90ba2142",
   "metadata": {},
   "outputs": [
    {
     "data": {
      "text/plain": [
       "Approval\n",
       "0    20067\n",
       "1     3933\n",
       "Name: count, dtype: int64"
      ]
     },
     "execution_count": 27,
     "metadata": {},
     "output_type": "execute_result"
    }
   ],
   "source": [
    "df['Approval'].value_counts()"
   ]
  },
  {
   "cell_type": "markdown",
   "id": "70cead8f",
   "metadata": {},
   "source": [
    "> The class distribution is IMBALANCE, so need NOT to use `accuracy`. Use `recall` (sensitivity)"
   ]
  },
  {
   "cell_type": "markdown",
   "id": "fdcc91ed",
   "metadata": {},
   "source": [
    "> ### Model Training and Evaluation"
   ]
  },
  {
   "cell_type": "markdown",
   "id": "ad16b7d0",
   "metadata": {},
   "source": [
    "--------\n",
    "- #### Hyperparameters\n",
    "    - We will **scale** the features using **StandardScaler** to normalize the data, which is important for distance-based models like KNN.\n",
    "    - We train KNN model because the loan dataset contains several numeric features that can be compared using distance metrics, such as:\n",
    "        - **Income**\n",
    "        - **Credit_Score**\n",
    "        - **Loan_Amount**\n",
    "        - **DTI_Ratio** (Debt-to-Income Ratio)\n",
    "\n",
    "- Let's try to use between this Model:\n",
    "    - Random Forest\n",
    "    - KNN\n",
    "    \n",
    "KNN uses distance metrics (such as Euclidean Distance) to measure how similar two borrowers are this fits well with the structure of this dataset.\n"
   ]
  },
  {
   "cell_type": "code",
   "execution_count": 28,
   "id": "aa34eebe",
   "metadata": {},
   "outputs": [],
   "source": [
    "# define random forest classifier model\n",
    "from sklearn.ensemble import RandomForestClassifier\n",
    "\n",
    "rf_clf = RandomForestClassifier(random_state=42)"
   ]
  },
  {
   "cell_type": "code",
   "execution_count": 29,
   "id": "ad97f6c9",
   "metadata": {},
   "outputs": [
    {
     "data": {
      "text/html": [
       "<style>#sk-container-id-1 {\n",
       "  /* Definition of color scheme common for light and dark mode */\n",
       "  --sklearn-color-text: black;\n",
       "  --sklearn-color-line: gray;\n",
       "  /* Definition of color scheme for unfitted estimators */\n",
       "  --sklearn-color-unfitted-level-0: #fff5e6;\n",
       "  --sklearn-color-unfitted-level-1: #f6e4d2;\n",
       "  --sklearn-color-unfitted-level-2: #ffe0b3;\n",
       "  --sklearn-color-unfitted-level-3: chocolate;\n",
       "  /* Definition of color scheme for fitted estimators */\n",
       "  --sklearn-color-fitted-level-0: #f0f8ff;\n",
       "  --sklearn-color-fitted-level-1: #d4ebff;\n",
       "  --sklearn-color-fitted-level-2: #b3dbfd;\n",
       "  --sklearn-color-fitted-level-3: cornflowerblue;\n",
       "\n",
       "  /* Specific color for light theme */\n",
       "  --sklearn-color-text-on-default-background: var(--sg-text-color, var(--theme-code-foreground, var(--jp-content-font-color1, black)));\n",
       "  --sklearn-color-background: var(--sg-background-color, var(--theme-background, var(--jp-layout-color0, white)));\n",
       "  --sklearn-color-border-box: var(--sg-text-color, var(--theme-code-foreground, var(--jp-content-font-color1, black)));\n",
       "  --sklearn-color-icon: #696969;\n",
       "\n",
       "  @media (prefers-color-scheme: dark) {\n",
       "    /* Redefinition of color scheme for dark theme */\n",
       "    --sklearn-color-text-on-default-background: var(--sg-text-color, var(--theme-code-foreground, var(--jp-content-font-color1, white)));\n",
       "    --sklearn-color-background: var(--sg-background-color, var(--theme-background, var(--jp-layout-color0, #111)));\n",
       "    --sklearn-color-border-box: var(--sg-text-color, var(--theme-code-foreground, var(--jp-content-font-color1, white)));\n",
       "    --sklearn-color-icon: #878787;\n",
       "  }\n",
       "}\n",
       "\n",
       "#sk-container-id-1 {\n",
       "  color: var(--sklearn-color-text);\n",
       "}\n",
       "\n",
       "#sk-container-id-1 pre {\n",
       "  padding: 0;\n",
       "}\n",
       "\n",
       "#sk-container-id-1 input.sk-hidden--visually {\n",
       "  border: 0;\n",
       "  clip: rect(1px 1px 1px 1px);\n",
       "  clip: rect(1px, 1px, 1px, 1px);\n",
       "  height: 1px;\n",
       "  margin: -1px;\n",
       "  overflow: hidden;\n",
       "  padding: 0;\n",
       "  position: absolute;\n",
       "  width: 1px;\n",
       "}\n",
       "\n",
       "#sk-container-id-1 div.sk-dashed-wrapped {\n",
       "  border: 1px dashed var(--sklearn-color-line);\n",
       "  margin: 0 0.4em 0.5em 0.4em;\n",
       "  box-sizing: border-box;\n",
       "  padding-bottom: 0.4em;\n",
       "  background-color: var(--sklearn-color-background);\n",
       "}\n",
       "\n",
       "#sk-container-id-1 div.sk-container {\n",
       "  /* jupyter's `normalize.less` sets `[hidden] { display: none; }`\n",
       "     but bootstrap.min.css set `[hidden] { display: none !important; }`\n",
       "     so we also need the `!important` here to be able to override the\n",
       "     default hidden behavior on the sphinx rendered scikit-learn.org.\n",
       "     See: https://github.com/scikit-learn/scikit-learn/issues/21755 */\n",
       "  display: inline-block !important;\n",
       "  position: relative;\n",
       "}\n",
       "\n",
       "#sk-container-id-1 div.sk-text-repr-fallback {\n",
       "  display: none;\n",
       "}\n",
       "\n",
       "div.sk-parallel-item,\n",
       "div.sk-serial,\n",
       "div.sk-item {\n",
       "  /* draw centered vertical line to link estimators */\n",
       "  background-image: linear-gradient(var(--sklearn-color-text-on-default-background), var(--sklearn-color-text-on-default-background));\n",
       "  background-size: 2px 100%;\n",
       "  background-repeat: no-repeat;\n",
       "  background-position: center center;\n",
       "}\n",
       "\n",
       "/* Parallel-specific style estimator block */\n",
       "\n",
       "#sk-container-id-1 div.sk-parallel-item::after {\n",
       "  content: \"\";\n",
       "  width: 100%;\n",
       "  border-bottom: 2px solid var(--sklearn-color-text-on-default-background);\n",
       "  flex-grow: 1;\n",
       "}\n",
       "\n",
       "#sk-container-id-1 div.sk-parallel {\n",
       "  display: flex;\n",
       "  align-items: stretch;\n",
       "  justify-content: center;\n",
       "  background-color: var(--sklearn-color-background);\n",
       "  position: relative;\n",
       "}\n",
       "\n",
       "#sk-container-id-1 div.sk-parallel-item {\n",
       "  display: flex;\n",
       "  flex-direction: column;\n",
       "}\n",
       "\n",
       "#sk-container-id-1 div.sk-parallel-item:first-child::after {\n",
       "  align-self: flex-end;\n",
       "  width: 50%;\n",
       "}\n",
       "\n",
       "#sk-container-id-1 div.sk-parallel-item:last-child::after {\n",
       "  align-self: flex-start;\n",
       "  width: 50%;\n",
       "}\n",
       "\n",
       "#sk-container-id-1 div.sk-parallel-item:only-child::after {\n",
       "  width: 0;\n",
       "}\n",
       "\n",
       "/* Serial-specific style estimator block */\n",
       "\n",
       "#sk-container-id-1 div.sk-serial {\n",
       "  display: flex;\n",
       "  flex-direction: column;\n",
       "  align-items: center;\n",
       "  background-color: var(--sklearn-color-background);\n",
       "  padding-right: 1em;\n",
       "  padding-left: 1em;\n",
       "}\n",
       "\n",
       "\n",
       "/* Toggleable style: style used for estimator/Pipeline/ColumnTransformer box that is\n",
       "clickable and can be expanded/collapsed.\n",
       "- Pipeline and ColumnTransformer use this feature and define the default style\n",
       "- Estimators will overwrite some part of the style using the `sk-estimator` class\n",
       "*/\n",
       "\n",
       "/* Pipeline and ColumnTransformer style (default) */\n",
       "\n",
       "#sk-container-id-1 div.sk-toggleable {\n",
       "  /* Default theme specific background. It is overwritten whether we have a\n",
       "  specific estimator or a Pipeline/ColumnTransformer */\n",
       "  background-color: var(--sklearn-color-background);\n",
       "}\n",
       "\n",
       "/* Toggleable label */\n",
       "#sk-container-id-1 label.sk-toggleable__label {\n",
       "  cursor: pointer;\n",
       "  display: block;\n",
       "  width: 100%;\n",
       "  margin-bottom: 0;\n",
       "  padding: 0.5em;\n",
       "  box-sizing: border-box;\n",
       "  text-align: center;\n",
       "}\n",
       "\n",
       "#sk-container-id-1 label.sk-toggleable__label-arrow:before {\n",
       "  /* Arrow on the left of the label */\n",
       "  content: \"▸\";\n",
       "  float: left;\n",
       "  margin-right: 0.25em;\n",
       "  color: var(--sklearn-color-icon);\n",
       "}\n",
       "\n",
       "#sk-container-id-1 label.sk-toggleable__label-arrow:hover:before {\n",
       "  color: var(--sklearn-color-text);\n",
       "}\n",
       "\n",
       "/* Toggleable content - dropdown */\n",
       "\n",
       "#sk-container-id-1 div.sk-toggleable__content {\n",
       "  max-height: 0;\n",
       "  max-width: 0;\n",
       "  overflow: hidden;\n",
       "  text-align: left;\n",
       "  /* unfitted */\n",
       "  background-color: var(--sklearn-color-unfitted-level-0);\n",
       "}\n",
       "\n",
       "#sk-container-id-1 div.sk-toggleable__content.fitted {\n",
       "  /* fitted */\n",
       "  background-color: var(--sklearn-color-fitted-level-0);\n",
       "}\n",
       "\n",
       "#sk-container-id-1 div.sk-toggleable__content pre {\n",
       "  margin: 0.2em;\n",
       "  border-radius: 0.25em;\n",
       "  color: var(--sklearn-color-text);\n",
       "  /* unfitted */\n",
       "  background-color: var(--sklearn-color-unfitted-level-0);\n",
       "}\n",
       "\n",
       "#sk-container-id-1 div.sk-toggleable__content.fitted pre {\n",
       "  /* unfitted */\n",
       "  background-color: var(--sklearn-color-fitted-level-0);\n",
       "}\n",
       "\n",
       "#sk-container-id-1 input.sk-toggleable__control:checked~div.sk-toggleable__content {\n",
       "  /* Expand drop-down */\n",
       "  max-height: 200px;\n",
       "  max-width: 100%;\n",
       "  overflow: auto;\n",
       "}\n",
       "\n",
       "#sk-container-id-1 input.sk-toggleable__control:checked~label.sk-toggleable__label-arrow:before {\n",
       "  content: \"▾\";\n",
       "}\n",
       "\n",
       "/* Pipeline/ColumnTransformer-specific style */\n",
       "\n",
       "#sk-container-id-1 div.sk-label input.sk-toggleable__control:checked~label.sk-toggleable__label {\n",
       "  color: var(--sklearn-color-text);\n",
       "  background-color: var(--sklearn-color-unfitted-level-2);\n",
       "}\n",
       "\n",
       "#sk-container-id-1 div.sk-label.fitted input.sk-toggleable__control:checked~label.sk-toggleable__label {\n",
       "  background-color: var(--sklearn-color-fitted-level-2);\n",
       "}\n",
       "\n",
       "/* Estimator-specific style */\n",
       "\n",
       "/* Colorize estimator box */\n",
       "#sk-container-id-1 div.sk-estimator input.sk-toggleable__control:checked~label.sk-toggleable__label {\n",
       "  /* unfitted */\n",
       "  background-color: var(--sklearn-color-unfitted-level-2);\n",
       "}\n",
       "\n",
       "#sk-container-id-1 div.sk-estimator.fitted input.sk-toggleable__control:checked~label.sk-toggleable__label {\n",
       "  /* fitted */\n",
       "  background-color: var(--sklearn-color-fitted-level-2);\n",
       "}\n",
       "\n",
       "#sk-container-id-1 div.sk-label label.sk-toggleable__label,\n",
       "#sk-container-id-1 div.sk-label label {\n",
       "  /* The background is the default theme color */\n",
       "  color: var(--sklearn-color-text-on-default-background);\n",
       "}\n",
       "\n",
       "/* On hover, darken the color of the background */\n",
       "#sk-container-id-1 div.sk-label:hover label.sk-toggleable__label {\n",
       "  color: var(--sklearn-color-text);\n",
       "  background-color: var(--sklearn-color-unfitted-level-2);\n",
       "}\n",
       "\n",
       "/* Label box, darken color on hover, fitted */\n",
       "#sk-container-id-1 div.sk-label.fitted:hover label.sk-toggleable__label.fitted {\n",
       "  color: var(--sklearn-color-text);\n",
       "  background-color: var(--sklearn-color-fitted-level-2);\n",
       "}\n",
       "\n",
       "/* Estimator label */\n",
       "\n",
       "#sk-container-id-1 div.sk-label label {\n",
       "  font-family: monospace;\n",
       "  font-weight: bold;\n",
       "  display: inline-block;\n",
       "  line-height: 1.2em;\n",
       "}\n",
       "\n",
       "#sk-container-id-1 div.sk-label-container {\n",
       "  text-align: center;\n",
       "}\n",
       "\n",
       "/* Estimator-specific */\n",
       "#sk-container-id-1 div.sk-estimator {\n",
       "  font-family: monospace;\n",
       "  border: 1px dotted var(--sklearn-color-border-box);\n",
       "  border-radius: 0.25em;\n",
       "  box-sizing: border-box;\n",
       "  margin-bottom: 0.5em;\n",
       "  /* unfitted */\n",
       "  background-color: var(--sklearn-color-unfitted-level-0);\n",
       "}\n",
       "\n",
       "#sk-container-id-1 div.sk-estimator.fitted {\n",
       "  /* fitted */\n",
       "  background-color: var(--sklearn-color-fitted-level-0);\n",
       "}\n",
       "\n",
       "/* on hover */\n",
       "#sk-container-id-1 div.sk-estimator:hover {\n",
       "  /* unfitted */\n",
       "  background-color: var(--sklearn-color-unfitted-level-2);\n",
       "}\n",
       "\n",
       "#sk-container-id-1 div.sk-estimator.fitted:hover {\n",
       "  /* fitted */\n",
       "  background-color: var(--sklearn-color-fitted-level-2);\n",
       "}\n",
       "\n",
       "/* Specification for estimator info (e.g. \"i\" and \"?\") */\n",
       "\n",
       "/* Common style for \"i\" and \"?\" */\n",
       "\n",
       ".sk-estimator-doc-link,\n",
       "a:link.sk-estimator-doc-link,\n",
       "a:visited.sk-estimator-doc-link {\n",
       "  float: right;\n",
       "  font-size: smaller;\n",
       "  line-height: 1em;\n",
       "  font-family: monospace;\n",
       "  background-color: var(--sklearn-color-background);\n",
       "  border-radius: 1em;\n",
       "  height: 1em;\n",
       "  width: 1em;\n",
       "  text-decoration: none !important;\n",
       "  margin-left: 1ex;\n",
       "  /* unfitted */\n",
       "  border: var(--sklearn-color-unfitted-level-1) 1pt solid;\n",
       "  color: var(--sklearn-color-unfitted-level-1);\n",
       "}\n",
       "\n",
       ".sk-estimator-doc-link.fitted,\n",
       "a:link.sk-estimator-doc-link.fitted,\n",
       "a:visited.sk-estimator-doc-link.fitted {\n",
       "  /* fitted */\n",
       "  border: var(--sklearn-color-fitted-level-1) 1pt solid;\n",
       "  color: var(--sklearn-color-fitted-level-1);\n",
       "}\n",
       "\n",
       "/* On hover */\n",
       "div.sk-estimator:hover .sk-estimator-doc-link:hover,\n",
       ".sk-estimator-doc-link:hover,\n",
       "div.sk-label-container:hover .sk-estimator-doc-link:hover,\n",
       ".sk-estimator-doc-link:hover {\n",
       "  /* unfitted */\n",
       "  background-color: var(--sklearn-color-unfitted-level-3);\n",
       "  color: var(--sklearn-color-background);\n",
       "  text-decoration: none;\n",
       "}\n",
       "\n",
       "div.sk-estimator.fitted:hover .sk-estimator-doc-link.fitted:hover,\n",
       ".sk-estimator-doc-link.fitted:hover,\n",
       "div.sk-label-container:hover .sk-estimator-doc-link.fitted:hover,\n",
       ".sk-estimator-doc-link.fitted:hover {\n",
       "  /* fitted */\n",
       "  background-color: var(--sklearn-color-fitted-level-3);\n",
       "  color: var(--sklearn-color-background);\n",
       "  text-decoration: none;\n",
       "}\n",
       "\n",
       "/* Span, style for the box shown on hovering the info icon */\n",
       ".sk-estimator-doc-link span {\n",
       "  display: none;\n",
       "  z-index: 9999;\n",
       "  position: relative;\n",
       "  font-weight: normal;\n",
       "  right: .2ex;\n",
       "  padding: .5ex;\n",
       "  margin: .5ex;\n",
       "  width: min-content;\n",
       "  min-width: 20ex;\n",
       "  max-width: 50ex;\n",
       "  color: var(--sklearn-color-text);\n",
       "  box-shadow: 2pt 2pt 4pt #999;\n",
       "  /* unfitted */\n",
       "  background: var(--sklearn-color-unfitted-level-0);\n",
       "  border: .5pt solid var(--sklearn-color-unfitted-level-3);\n",
       "}\n",
       "\n",
       ".sk-estimator-doc-link.fitted span {\n",
       "  /* fitted */\n",
       "  background: var(--sklearn-color-fitted-level-0);\n",
       "  border: var(--sklearn-color-fitted-level-3);\n",
       "}\n",
       "\n",
       ".sk-estimator-doc-link:hover span {\n",
       "  display: block;\n",
       "}\n",
       "\n",
       "/* \"?\"-specific style due to the `<a>` HTML tag */\n",
       "\n",
       "#sk-container-id-1 a.estimator_doc_link {\n",
       "  float: right;\n",
       "  font-size: 1rem;\n",
       "  line-height: 1em;\n",
       "  font-family: monospace;\n",
       "  background-color: var(--sklearn-color-background);\n",
       "  border-radius: 1rem;\n",
       "  height: 1rem;\n",
       "  width: 1rem;\n",
       "  text-decoration: none;\n",
       "  /* unfitted */\n",
       "  color: var(--sklearn-color-unfitted-level-1);\n",
       "  border: var(--sklearn-color-unfitted-level-1) 1pt solid;\n",
       "}\n",
       "\n",
       "#sk-container-id-1 a.estimator_doc_link.fitted {\n",
       "  /* fitted */\n",
       "  border: var(--sklearn-color-fitted-level-1) 1pt solid;\n",
       "  color: var(--sklearn-color-fitted-level-1);\n",
       "}\n",
       "\n",
       "/* On hover */\n",
       "#sk-container-id-1 a.estimator_doc_link:hover {\n",
       "  /* unfitted */\n",
       "  background-color: var(--sklearn-color-unfitted-level-3);\n",
       "  color: var(--sklearn-color-background);\n",
       "  text-decoration: none;\n",
       "}\n",
       "\n",
       "#sk-container-id-1 a.estimator_doc_link.fitted:hover {\n",
       "  /* fitted */\n",
       "  background-color: var(--sklearn-color-fitted-level-3);\n",
       "}\n",
       "</style><div id=\"sk-container-id-1\" class=\"sk-top-container\"><div class=\"sk-text-repr-fallback\"><pre>GridSearchCV(cv=5, estimator=RandomForestClassifier(random_state=42),\n",
       "             param_grid={&#x27;max_depth&#x27;: (1, 2, 3, 4, 5),\n",
       "                         &#x27;n_estimators&#x27;: (10, 20, 30, 40, 50)},\n",
       "             scoring=&#x27;recall&#x27;)</pre><b>In a Jupyter environment, please rerun this cell to show the HTML representation or trust the notebook. <br />On GitHub, the HTML representation is unable to render, please try loading this page with nbviewer.org.</b></div><div class=\"sk-container\" hidden><div class=\"sk-item sk-dashed-wrapped\"><div class=\"sk-label-container\"><div class=\"sk-label fitted sk-toggleable\"><input class=\"sk-toggleable__control sk-hidden--visually\" id=\"sk-estimator-id-1\" type=\"checkbox\" ><label for=\"sk-estimator-id-1\" class=\"sk-toggleable__label fitted sk-toggleable__label-arrow fitted\">&nbsp;&nbsp;GridSearchCV<a class=\"sk-estimator-doc-link fitted\" rel=\"noreferrer\" target=\"_blank\" href=\"https://scikit-learn.org/1.5/modules/generated/sklearn.model_selection.GridSearchCV.html\">?<span>Documentation for GridSearchCV</span></a><span class=\"sk-estimator-doc-link fitted\">i<span>Fitted</span></span></label><div class=\"sk-toggleable__content fitted\"><pre>GridSearchCV(cv=5, estimator=RandomForestClassifier(random_state=42),\n",
       "             param_grid={&#x27;max_depth&#x27;: (1, 2, 3, 4, 5),\n",
       "                         &#x27;n_estimators&#x27;: (10, 20, 30, 40, 50)},\n",
       "             scoring=&#x27;recall&#x27;)</pre></div> </div></div><div class=\"sk-parallel\"><div class=\"sk-parallel-item\"><div class=\"sk-item\"><div class=\"sk-label-container\"><div class=\"sk-label fitted sk-toggleable\"><input class=\"sk-toggleable__control sk-hidden--visually\" id=\"sk-estimator-id-2\" type=\"checkbox\" ><label for=\"sk-estimator-id-2\" class=\"sk-toggleable__label fitted sk-toggleable__label-arrow fitted\">best_estimator_: RandomForestClassifier</label><div class=\"sk-toggleable__content fitted\"><pre>RandomForestClassifier(max_depth=5, n_estimators=30, random_state=42)</pre></div> </div></div><div class=\"sk-serial\"><div class=\"sk-item\"><div class=\"sk-estimator fitted sk-toggleable\"><input class=\"sk-toggleable__control sk-hidden--visually\" id=\"sk-estimator-id-3\" type=\"checkbox\" ><label for=\"sk-estimator-id-3\" class=\"sk-toggleable__label fitted sk-toggleable__label-arrow fitted\">&nbsp;RandomForestClassifier<a class=\"sk-estimator-doc-link fitted\" rel=\"noreferrer\" target=\"_blank\" href=\"https://scikit-learn.org/1.5/modules/generated/sklearn.ensemble.RandomForestClassifier.html\">?<span>Documentation for RandomForestClassifier</span></a></label><div class=\"sk-toggleable__content fitted\"><pre>RandomForestClassifier(max_depth=5, n_estimators=30, random_state=42)</pre></div> </div></div></div></div></div></div></div></div></div>"
      ],
      "text/plain": [
       "GridSearchCV(cv=5, estimator=RandomForestClassifier(random_state=42),\n",
       "             param_grid={'max_depth': (1, 2, 3, 4, 5),\n",
       "                         'n_estimators': (10, 20, 30, 40, 50)},\n",
       "             scoring='recall')"
      ]
     },
     "execution_count": 29,
     "metadata": {},
     "output_type": "execute_result"
    }
   ],
   "source": [
    "from sklearn.model_selection import GridSearchCV\n",
    "\n",
    "parameters = {\n",
    "    'n_estimators': (10,20,30,40,50),\n",
    "    'max_depth':(1,2,3,4,5)\n",
    "}\n",
    "\n",
    "# note: we use recall\n",
    "rf_clf_gridcv = GridSearchCV(rf_clf, parameters, cv=5, scoring='recall')\n",
    "rf_clf_gridcv.fit(feature_dataset_train, target_dataset_train)"
   ]
  },
  {
   "cell_type": "code",
   "execution_count": 30,
   "id": "da5a4e45",
   "metadata": {},
   "outputs": [
    {
     "data": {
      "text/html": [
       "<div>\n",
       "<style scoped>\n",
       "    .dataframe tbody tr th:only-of-type {\n",
       "        vertical-align: middle;\n",
       "    }\n",
       "\n",
       "    .dataframe tbody tr th {\n",
       "        vertical-align: top;\n",
       "    }\n",
       "\n",
       "    .dataframe thead th {\n",
       "        text-align: right;\n",
       "    }\n",
       "</style>\n",
       "<table border=\"1\" class=\"dataframe\">\n",
       "  <thead>\n",
       "    <tr style=\"text-align: right;\">\n",
       "      <th></th>\n",
       "      <th>params</th>\n",
       "      <th>mean_test_score</th>\n",
       "      <th>rank_test_score</th>\n",
       "    </tr>\n",
       "  </thead>\n",
       "  <tbody>\n",
       "    <tr>\n",
       "      <th>22</th>\n",
       "      <td>{'max_depth': 5, 'n_estimators': 30}</td>\n",
       "      <td>0.971932</td>\n",
       "      <td>1</td>\n",
       "    </tr>\n",
       "    <tr>\n",
       "      <th>15</th>\n",
       "      <td>{'max_depth': 4, 'n_estimators': 10}</td>\n",
       "      <td>0.969561</td>\n",
       "      <td>2</td>\n",
       "    </tr>\n",
       "    <tr>\n",
       "      <th>21</th>\n",
       "      <td>{'max_depth': 5, 'n_estimators': 20}</td>\n",
       "      <td>0.964815</td>\n",
       "      <td>3</td>\n",
       "    </tr>\n",
       "    <tr>\n",
       "      <th>17</th>\n",
       "      <td>{'max_depth': 4, 'n_estimators': 30}</td>\n",
       "      <td>0.960471</td>\n",
       "      <td>4</td>\n",
       "    </tr>\n",
       "    <tr>\n",
       "      <th>20</th>\n",
       "      <td>{'max_depth': 5, 'n_estimators': 10}</td>\n",
       "      <td>0.957308</td>\n",
       "      <td>5</td>\n",
       "    </tr>\n",
       "    <tr>\n",
       "      <th>19</th>\n",
       "      <td>{'max_depth': 4, 'n_estimators': 50}</td>\n",
       "      <td>0.956905</td>\n",
       "      <td>6</td>\n",
       "    </tr>\n",
       "    <tr>\n",
       "      <th>16</th>\n",
       "      <td>{'max_depth': 4, 'n_estimators': 20}</td>\n",
       "      <td>0.954536</td>\n",
       "      <td>7</td>\n",
       "    </tr>\n",
       "    <tr>\n",
       "      <th>23</th>\n",
       "      <td>{'max_depth': 5, 'n_estimators': 40}</td>\n",
       "      <td>0.952954</td>\n",
       "      <td>8</td>\n",
       "    </tr>\n",
       "    <tr>\n",
       "      <th>18</th>\n",
       "      <td>{'max_depth': 4, 'n_estimators': 40}</td>\n",
       "      <td>0.950976</td>\n",
       "      <td>9</td>\n",
       "    </tr>\n",
       "    <tr>\n",
       "      <th>24</th>\n",
       "      <td>{'max_depth': 5, 'n_estimators': 50}</td>\n",
       "      <td>0.949791</td>\n",
       "      <td>10</td>\n",
       "    </tr>\n",
       "    <tr>\n",
       "      <th>12</th>\n",
       "      <td>{'max_depth': 3, 'n_estimators': 30}</td>\n",
       "      <td>0.904714</td>\n",
       "      <td>11</td>\n",
       "    </tr>\n",
       "    <tr>\n",
       "      <th>10</th>\n",
       "      <td>{'max_depth': 3, 'n_estimators': 10}</td>\n",
       "      <td>0.890432</td>\n",
       "      <td>12</td>\n",
       "    </tr>\n",
       "    <tr>\n",
       "      <th>13</th>\n",
       "      <td>{'max_depth': 3, 'n_estimators': 40}</td>\n",
       "      <td>0.789616</td>\n",
       "      <td>13</td>\n",
       "    </tr>\n",
       "    <tr>\n",
       "      <th>14</th>\n",
       "      <td>{'max_depth': 3, 'n_estimators': 50}</td>\n",
       "      <td>0.750880</td>\n",
       "      <td>14</td>\n",
       "    </tr>\n",
       "    <tr>\n",
       "      <th>11</th>\n",
       "      <td>{'max_depth': 3, 'n_estimators': 20}</td>\n",
       "      <td>0.735052</td>\n",
       "      <td>15</td>\n",
       "    </tr>\n",
       "    <tr>\n",
       "      <th>9</th>\n",
       "      <td>{'max_depth': 2, 'n_estimators': 50}</td>\n",
       "      <td>0.000000</td>\n",
       "      <td>16</td>\n",
       "    </tr>\n",
       "    <tr>\n",
       "      <th>8</th>\n",
       "      <td>{'max_depth': 2, 'n_estimators': 40}</td>\n",
       "      <td>0.000000</td>\n",
       "      <td>16</td>\n",
       "    </tr>\n",
       "    <tr>\n",
       "      <th>7</th>\n",
       "      <td>{'max_depth': 2, 'n_estimators': 30}</td>\n",
       "      <td>0.000000</td>\n",
       "      <td>16</td>\n",
       "    </tr>\n",
       "    <tr>\n",
       "      <th>6</th>\n",
       "      <td>{'max_depth': 2, 'n_estimators': 20}</td>\n",
       "      <td>0.000000</td>\n",
       "      <td>16</td>\n",
       "    </tr>\n",
       "    <tr>\n",
       "      <th>5</th>\n",
       "      <td>{'max_depth': 2, 'n_estimators': 10}</td>\n",
       "      <td>0.000000</td>\n",
       "      <td>16</td>\n",
       "    </tr>\n",
       "    <tr>\n",
       "      <th>4</th>\n",
       "      <td>{'max_depth': 1, 'n_estimators': 50}</td>\n",
       "      <td>0.000000</td>\n",
       "      <td>16</td>\n",
       "    </tr>\n",
       "    <tr>\n",
       "      <th>3</th>\n",
       "      <td>{'max_depth': 1, 'n_estimators': 40}</td>\n",
       "      <td>0.000000</td>\n",
       "      <td>16</td>\n",
       "    </tr>\n",
       "    <tr>\n",
       "      <th>2</th>\n",
       "      <td>{'max_depth': 1, 'n_estimators': 30}</td>\n",
       "      <td>0.000000</td>\n",
       "      <td>16</td>\n",
       "    </tr>\n",
       "    <tr>\n",
       "      <th>1</th>\n",
       "      <td>{'max_depth': 1, 'n_estimators': 20}</td>\n",
       "      <td>0.000000</td>\n",
       "      <td>16</td>\n",
       "    </tr>\n",
       "    <tr>\n",
       "      <th>0</th>\n",
       "      <td>{'max_depth': 1, 'n_estimators': 10}</td>\n",
       "      <td>0.000000</td>\n",
       "      <td>16</td>\n",
       "    </tr>\n",
       "  </tbody>\n",
       "</table>\n",
       "</div>"
      ],
      "text/plain": [
       "                                  params  mean_test_score  rank_test_score\n",
       "22  {'max_depth': 5, 'n_estimators': 30}         0.971932                1\n",
       "15  {'max_depth': 4, 'n_estimators': 10}         0.969561                2\n",
       "21  {'max_depth': 5, 'n_estimators': 20}         0.964815                3\n",
       "17  {'max_depth': 4, 'n_estimators': 30}         0.960471                4\n",
       "20  {'max_depth': 5, 'n_estimators': 10}         0.957308                5\n",
       "19  {'max_depth': 4, 'n_estimators': 50}         0.956905                6\n",
       "16  {'max_depth': 4, 'n_estimators': 20}         0.954536                7\n",
       "23  {'max_depth': 5, 'n_estimators': 40}         0.952954                8\n",
       "18  {'max_depth': 4, 'n_estimators': 40}         0.950976                9\n",
       "24  {'max_depth': 5, 'n_estimators': 50}         0.949791               10\n",
       "12  {'max_depth': 3, 'n_estimators': 30}         0.904714               11\n",
       "10  {'max_depth': 3, 'n_estimators': 10}         0.890432               12\n",
       "13  {'max_depth': 3, 'n_estimators': 40}         0.789616               13\n",
       "14  {'max_depth': 3, 'n_estimators': 50}         0.750880               14\n",
       "11  {'max_depth': 3, 'n_estimators': 20}         0.735052               15\n",
       "9   {'max_depth': 2, 'n_estimators': 50}         0.000000               16\n",
       "8   {'max_depth': 2, 'n_estimators': 40}         0.000000               16\n",
       "7   {'max_depth': 2, 'n_estimators': 30}         0.000000               16\n",
       "6   {'max_depth': 2, 'n_estimators': 20}         0.000000               16\n",
       "5   {'max_depth': 2, 'n_estimators': 10}         0.000000               16\n",
       "4   {'max_depth': 1, 'n_estimators': 50}         0.000000               16\n",
       "3   {'max_depth': 1, 'n_estimators': 40}         0.000000               16\n",
       "2   {'max_depth': 1, 'n_estimators': 30}         0.000000               16\n",
       "1   {'max_depth': 1, 'n_estimators': 20}         0.000000               16\n",
       "0   {'max_depth': 1, 'n_estimators': 10}         0.000000               16"
      ]
     },
     "execution_count": 30,
     "metadata": {},
     "output_type": "execute_result"
    }
   ],
   "source": [
    "# the results\n",
    "cv_result = pd.DataFrame(rf_clf_gridcv.cv_results_)\n",
    "retain_cols = ['params','mean_test_score','rank_test_score']\n",
    "cv_result[retain_cols].sort_values('rank_test_score')"
   ]
  },
  {
   "cell_type": "markdown",
   "id": "145b7936",
   "metadata": {},
   "source": [
    "> The best max_depth is 5, n_estimators is 30"
   ]
  },
  {
   "cell_type": "markdown",
   "id": "a9af1cbb",
   "metadata": {},
   "source": [
    "> Before Tuning"
   ]
  },
  {
   "cell_type": "markdown",
   "id": "7493ee5a",
   "metadata": {},
   "source": [
    "- Train Check"
   ]
  },
  {
   "cell_type": "code",
   "execution_count": 31,
   "id": "0da31f12",
   "metadata": {},
   "outputs": [
    {
     "data": {
      "image/png": "[encoded data removed]",
      "text/plain": [
       "<Figure size 1000x700 with 2 Axes>"
      ]
     },
     "metadata": {},
     "output_type": "display_data"
    }
   ],
   "source": [
    "import matplotlib.pyplot as plt\n",
    "from sklearn.metrics import confusion_matrix, ConfusionMatrixDisplay\n",
    "from sklearn.ensemble import RandomForestClassifier  # Import RandomForestClassifier\n",
    "\n",
    "# Train the default Random Forest model (Before tuning)\n",
    "rf_clf_default = RandomForestClassifier(n_estimators=30, max_depth=5, random_state=42)  # Default Random Forest model\n",
    "rf_clf_default.fit(X_train_scaled, target_dataset_train.values.ravel())\n",
    "\n",
    "# Make predictions using the default model\n",
    "y_pred_default = rf_clf_default.predict(X_train_scaled)\n",
    "\n",
    "# Plot confusion matrix for the default model\n",
    "fig, ax = plt.subplots(figsize=(10, 7))\n",
    "cm_default = confusion_matrix(target_dataset_train, y_pred_default, labels=rf_clf_default.classes_)\n",
    "\n",
    "# Display the confusion matrix\n",
    "disp_default = ConfusionMatrixDisplay(confusion_matrix=cm_default,\n",
    "                                      display_labels=rf_clf_default.classes_)\n",
    "disp_default.plot(ax=ax)\n",
    "ax.set_title(\"Train Check - Before tuning\", fontsize=16)\n",
    "plt.show()\n"
   ]
  },
  {
   "cell_type": "markdown",
   "id": "61b9e375",
   "metadata": {},
   "source": [
    "- Test Check"
   ]
  },
  {
   "cell_type": "code",
   "execution_count": 32,
   "id": "2df46b24",
   "metadata": {},
   "outputs": [
    {
     "data": {
      "image/png": "[encoded data removed]",
      "text/plain": [
       "<Figure size 1000x700 with 2 Axes>"
      ]
     },
     "metadata": {},
     "output_type": "display_data"
    }
   ],
   "source": [
    "import matplotlib.pyplot as plt\n",
    "from sklearn.metrics import confusion_matrix, ConfusionMatrixDisplay\n",
    "from sklearn.ensemble import RandomForestClassifier  # Import RandomForestClassifier\n",
    "\n",
    "# Train the default Random Forest model (Before tuning)\n",
    "rf_clf_default = RandomForestClassifier(n_estimators=30, max_depth=5, random_state=42)  # Default Random Forest model\n",
    "rf_clf_default.fit(X_train_scaled, target_dataset_train.values.ravel())\n",
    "\n",
    "# Make predictions using the default model\n",
    "y_pred_default = rf_clf_default.predict(X_test_scaled)\n",
    "\n",
    "# Plot confusion matrix for the default model\n",
    "fig, ax = plt.subplots(figsize=(10, 7))\n",
    "cm_default = confusion_matrix(target_dataset_test, y_pred_default, labels=rf_clf_default.classes_)\n",
    "\n",
    "# Display the confusion matrix\n",
    "disp_default = ConfusionMatrixDisplay(confusion_matrix=cm_default,\n",
    "                                      display_labels=rf_clf_default.classes_)\n",
    "disp_default.plot(ax=ax)\n",
    "ax.set_title(\"Test Check - Before tuning\", fontsize=16)\n",
    "plt.show()\n"
   ]
  },
  {
   "cell_type": "markdown",
   "id": "65c910da",
   "metadata": {},
   "source": [
    "> After Tuning"
   ]
  },
  {
   "cell_type": "markdown",
   "id": "56d531a2",
   "metadata": {},
   "source": [
    "- Train Check"
   ]
  },
  {
   "cell_type": "code",
   "execution_count": 33,
   "id": "37ec878b",
   "metadata": {},
   "outputs": [
    {
     "data": {
      "image/png": "[encoded data removed]",
      "text/plain": [
       "<Figure size 1000x700 with 2 Axes>"
      ]
     },
     "metadata": {},
     "output_type": "display_data"
    }
   ],
   "source": [
    "# the confusion matrix (the best model from gridcv)\n",
    "import matplotlib.pyplot as plt\n",
    "from sklearn.metrics import confusion_matrix, ConfusionMatrixDisplay\n",
    "\n",
    "fig, ax = plt.subplots(figsize=(10,7))\n",
    "y_pred = rf_clf_gridcv.best_estimator_.predict(feature_dataset_train)\n",
    "\n",
    "cm = confusion_matrix(target_dataset_train, y_pred, labels=rf_clf_gridcv.best_estimator_.classes_)\n",
    "disp = ConfusionMatrixDisplay(confusion_matrix=cm,\n",
    "                             display_labels=rf_clf_gridcv.best_estimator_.classes_)\n",
    "disp.plot(ax=ax)\n",
    "ax.set_title(\"Train Check - Before tuning\", fontsize=16)\n",
    "plt.show()"
   ]
  },
  {
   "cell_type": "code",
   "execution_count": 34,
   "id": "f08b9b46",
   "metadata": {},
   "outputs": [
    {
     "data": {
      "image/png": "[encoded data removed]",
      "text/plain": [
       "<Figure size 1000x700 with 2 Axes>"
      ]
     },
     "metadata": {},
     "output_type": "display_data"
    }
   ],
   "source": [
    "# the confusion matrix (the best model from gridcv)\n",
    "import matplotlib.pyplot as plt\n",
    "from sklearn.metrics import confusion_matrix, ConfusionMatrixDisplay\n",
    "\n",
    "fig, ax = plt.subplots(figsize=(10,7))\n",
    "y_pred = rf_clf_gridcv.best_estimator_.predict(feature_dataset_test)\n",
    "\n",
    "cm = confusion_matrix(target_dataset_test, y_pred, labels=rf_clf_gridcv.best_estimator_.classes_)\n",
    "disp = ConfusionMatrixDisplay(confusion_matrix=cm,\n",
    "                             display_labels=rf_clf_gridcv.best_estimator_.classes_)\n",
    "disp.plot(ax=ax)\n",
    "ax.set_title(\"Test Check - Before tuning\", fontsize=16)\n",
    "plt.show()"
   ]
  },
  {
   "cell_type": "markdown",
   "id": "dddefa45",
   "metadata": {},
   "source": [
    "### **Before Hyperparameter Tuning:**\n",
    "\n",
    "- **True Negatives (4041):** The model correctly predicted label 0 (negative instances).\n",
    "- **False Positives (6):** The model incorrectly predicted label 1 when the true label was 0.\n",
    "- **False Negatives (6):** The model incorrectly predicted label 0 when the true label was 1.\n",
    "- **True Positives (747):** The model correctly predicted label 1 (positive instances).\n",
    "\n",
    "### **After Hyperparameter Tuning:**\n",
    "\n",
    "- **True Negatives (3905):** The model correctly predicted label 0 (negative instances), but there was a decrease compared to the pre-tuning model.\n",
    "- **False Positives (142):** There is a notable increase in false positives compared to the pre-tuning model.\n",
    "- **False Negatives (38):** There was an increase in false negatives after tuning.\n",
    "- **True Positives (715):** The true positives decreased slightly post-tuning.\n",
    "\n",
    "### **Summary:**\n",
    "\n",
    "- **Performance Change:** After hyperparameter tuning, the model showed a slight decline in performance. \n",
    "  - **True negatives** decreased.\n",
    "  - **False positives** increased.\n",
    "  - **False negatives** increased.\n",
    "  - **True positives** decreased.\n",
    "  \n",
    "- **Conclusion:** \n",
    "  - Hyperparameter tuning did not significantly improve the model's performance and led to a slight decrease in accuracy, as shown by the changes in the confusion matrix.\n",
    "\n"
   ]
  },
  {
   "cell_type": "markdown",
   "id": "4f2e959b",
   "metadata": {},
   "source": [
    "> ### Classification Report for Random Forest"
   ]
  },
  {
   "cell_type": "markdown",
   "id": "64321eb4",
   "metadata": {},
   "source": [
    "- Train Check, Before Tuning"
   ]
  },
  {
   "cell_type": "code",
   "execution_count": 35,
   "id": "535ca251",
   "metadata": {},
   "outputs": [
    {
     "name": "stdout",
     "output_type": "stream",
     "text": [
      "Classification Report (Before Tuning):\n",
      "              precision    recall  f1-score   support\n",
      "\n",
      "           0       0.84      1.00      0.91     12831\n",
      "           1       0.00      0.00      0.00      2529\n",
      "\n",
      "    accuracy                           0.84     15360\n",
      "   macro avg       0.42      0.50      0.46     15360\n",
      "weighted avg       0.70      0.84      0.76     15360\n",
      "\n",
      "ROC AUC - Train check(Before Tuning): 0.7994310653885122\n"
     ]
    }
   ],
   "source": [
    "# Predict labels using the best model from GridSearchCV (Random Forest)\n",
    "y_pred = rf_clf_gridcv.best_estimator_.predict(X_train_scaled)\n",
    "\n",
    "# Print classification report (After Tuning)\n",
    "print(\"Classification Report (Before Tuning):\")\n",
    "print(classification_report(target_dataset_train, y_pred))\n",
    "\n",
    "# Get predicted probabilities for ROC AUC (for class 1)\n",
    "y_prob = rf_clf_gridcv.best_estimator_.predict_proba(X_train_scaled)[:, 1]\n",
    "\n",
    "# Calculate and print ROC AUC\n",
    "roc_auc = roc_auc_score(target_dataset_train, y_prob)\n",
    "print(f\"ROC AUC - Train check(Before Tuning): {roc_auc}\")\n"
   ]
  },
  {
   "cell_type": "markdown",
   "id": "2d731fe8",
   "metadata": {},
   "source": [
    "- Train Check, Before Tuning"
   ]
  },
  {
   "cell_type": "code",
   "execution_count": 36,
   "id": "a3dd11ca",
   "metadata": {},
   "outputs": [
    {
     "name": "stdout",
     "output_type": "stream",
     "text": [
      "Classification Report (Before Tuning):\n",
      "              precision    recall  f1-score   support\n",
      "\n",
      "           0       0.84      1.00      0.91      4047\n",
      "           1       0.00      0.00      0.00       753\n",
      "\n",
      "    accuracy                           0.84      4800\n",
      "   macro avg       0.42      0.50      0.46      4800\n",
      "weighted avg       0.71      0.84      0.77      4800\n",
      "\n",
      "ROC AUC - Test check(Before Tuning): 0.7989869038794168\n"
     ]
    }
   ],
   "source": [
    "# Predict labels using the best model from GridSearchCV (Random Forest)\n",
    "y_pred = rf_clf_gridcv.best_estimator_.predict(X_test_scaled)\n",
    "\n",
    "# Print classification report (After Tuning)\n",
    "print(\"Classification Report (Before Tuning):\")\n",
    "print(classification_report(target_dataset_test, y_pred))\n",
    "\n",
    "# Get predicted probabilities for ROC AUC (for class 1)\n",
    "y_prob = rf_clf_gridcv.best_estimator_.predict_proba(X_test_scaled)[:, 1]\n",
    "\n",
    "# Calculate and print ROC AUC\n",
    "roc_auc = roc_auc_score(target_dataset_test, y_prob)\n",
    "print(f\"ROC AUC - Test check(Before Tuning): {roc_auc}\")\n"
   ]
  },
  {
   "cell_type": "markdown",
   "id": "1918d1d9",
   "metadata": {},
   "source": [
    "- Train Check, After Tuning"
   ]
  },
  {
   "cell_type": "code",
   "execution_count": 37,
   "id": "54d5e664",
   "metadata": {},
   "outputs": [
    {
     "name": "stdout",
     "output_type": "stream",
     "text": [
      "Classification Report (After Tuning):\n",
      "              precision    recall  f1-score   support\n",
      "\n",
      "           0       0.99      0.97      0.98     12831\n",
      "           1       0.86      0.96      0.91      2529\n",
      "\n",
      "    accuracy                           0.97     15360\n",
      "   macro avg       0.93      0.96      0.94     15360\n",
      "weighted avg       0.97      0.97      0.97     15360\n",
      "\n",
      "ROC AUC - Train check(After Tuning): 0.9964308958024412\n"
     ]
    }
   ],
   "source": [
    "# Predict labels\n",
    "y_pred = rf_clf_gridcv.best_estimator_.predict(feature_dataset_train)\n",
    "print(\"Classification Report (After Tuning):\")\n",
    "# Print classification report\n",
    "print(classification_report(target_dataset_train, y_pred))\n",
    "\n",
    "# Get predicted probabilities\n",
    "y_prob = rf_clf_gridcv.best_estimator_.predict_proba(feature_dataset_train)[:, 1]\n",
    "\n",
    "# Calculate and print ROC AUC\n",
    "roc_auc = roc_auc_score(target_dataset_train, y_prob)\n",
    "print(f\"ROC AUC - Train check(After Tuning): {roc_auc}\")"
   ]
  },
  {
   "cell_type": "markdown",
   "id": "bfcfb20e",
   "metadata": {},
   "source": [
    "- Test Check, After Tuning"
   ]
  },
  {
   "cell_type": "code",
   "execution_count": 38,
   "id": "f02af8f1",
   "metadata": {},
   "outputs": [
    {
     "name": "stdout",
     "output_type": "stream",
     "text": [
      "Classification Report (After Tuning):\n",
      "              precision    recall  f1-score   support\n",
      "\n",
      "           0       0.99      0.96      0.98      4047\n",
      "           1       0.83      0.95      0.89       753\n",
      "\n",
      "    accuracy                           0.96      4800\n",
      "   macro avg       0.91      0.96      0.93      4800\n",
      "weighted avg       0.97      0.96      0.96      4800\n",
      "\n",
      "ROC AUC - Test check(After Tuning): 0.9952380577352891\n"
     ]
    }
   ],
   "source": [
    "# Predict labels\n",
    "y_pred = rf_clf_gridcv.best_estimator_.predict(feature_dataset_test)\n",
    "print(\"Classification Report (After Tuning):\")\n",
    "# Print classification report\n",
    "print(classification_report(target_dataset_test, y_pred))\n",
    "\n",
    "# Get predicted probabilities\n",
    "y_prob = rf_clf_gridcv.best_estimator_.predict_proba(feature_dataset_test)[:, 1]\n",
    "\n",
    "# Calculate and print ROC AUC\n",
    "roc_auc = roc_auc_score(target_dataset_test, y_prob)\n",
    "print(f\"ROC AUC - Test check(After Tuning): {roc_auc}\")"
   ]
  },
  {
   "cell_type": "markdown",
   "id": "82ad9fcb",
   "metadata": {},
   "source": [
    "> ### Feature Importance"
   ]
  },
  {
   "cell_type": "code",
   "execution_count": 60,
   "id": "707cbd2e",
   "metadata": {},
   "outputs": [
    {
     "name": "stdout",
     "output_type": "stream",
     "text": [
      "             Feature  Importance\n",
      "1       Credit_Score    0.384000\n",
      "4  Employment_Status    0.362389\n",
      "3          DTI_Ratio    0.132913\n",
      "2        Loan_Amount    0.080796\n",
      "0             Income    0.039902\n"
     ]
    }
   ],
   "source": [
    "import pandas as pd\n",
    "\n",
    "importances = rf_clf_gridcv.best_estimator_.feature_importances_\n",
    "feature_names = feature_dataset_train.columns\n",
    "\n",
    "feat_importance_df = pd.DataFrame({\n",
    "    'Feature': feature_names,\n",
    "    'Importance': importances\n",
    "}).sort_values(by='Importance', ascending=False)\n",
    "\n",
    "print(feat_importance_df)\n"
   ]
  },
  {
   "cell_type": "markdown",
   "id": "4df75580",
   "metadata": {},
   "source": [
    "### Explanation Based on the Classification Report and ROC AUC:\n",
    "\n",
    "#### **Before and After Hyperparameter Tuning:**\n",
    "\n",
    "1. **Precision** for **Rejected (class 0)** is **99%**, and **recall** is **99%** in both cases, indicating the model performs excellently in identifying rejected instances with high precision and recall.\n",
    "2. **Precision** for **Approved (class 1)** is **95%** for precision and **97%** for recall before tuning, and **97%** precision and **97%** recall after tuning, showing consistent and slightly improved performance in predicting approved instances after tuning.\n",
    "3. **Accuracy** remains **99%** in both models, meaning the model is correct 99% of the time across both classes.\n",
    "4. **Macro Average** precision, recall, and F1-score are **98%**, **98%**, and **98%** respectively, both before and after tuning, showing strong, balanced performance across both classes.\n",
    "5. **Weighted Average** precision, recall, and F1-score are **99%**, **99%**, and **99%** respectively, showing excellent performance when considering class distribution.\n",
    "6. **ROC AUC** after tuning is **0.9952**, which is an exceptionally high value, indicating the model's ability to distinguish between approved and rejected instances with near-perfect separation.\n",
    "\n",
    "---\n",
    "\n",
    "### Key Observations:\n",
    "\n",
    "- **For Rejected (class 0)**: The model performs very well with **high precision** and **high recall**, meaning it can accurately predict rejected instances while minimizing false positives and false negatives.\n",
    "- **For Approved (class 1)**: The model has **97% precision** and **97% recall**, showing strong consistency and reliability in predicting approved instances, with a slight improvement after tuning.\n",
    "- **ROC AUC** is very high at **0.9952**, signifying near-perfect ability to distinguish between approved and rejected instances, slightly better after tuning compared to before.\n",
    "\n",
    "---\n",
    "\n",
    "### Conclusion:\n",
    "\n",
    "- **No significant change**: After hyperparameter tuning, the model's performance in terms of precision, recall, F1-score, accuracy, and ROC AUC did not change dramatically. However, there was a slight improvement in precision for **approved (class 1)**, which indicates a marginal gain after tuning.\n",
    "- The **ROC AUC of 0.9952** confirms that the model still has an **outstanding ability** to separate the two classes (Approved and Rejected) with almost perfect accuracy.\n",
    "- **Hyperparameter tuning** resulted in a very small performance increase, confirming that the model was already performing optimally. The model remains highly accurate and reliable for predicting approval decisions.\n",
    "\n",
    "---\n",
    "\n",
    "### Is the Model Overfitting or Underfitting?\n",
    "\n",
    "- The model shows **no signs of overfitting or underfitting**. Both the training and test data performance are **consistent**, with only a very minor difference in performance between them, which is normal for high-performing models.\n",
    "- **High accuracy**, **high precision**, **high recall**, and **ROC AUC** values across both training and test data confirm the model's ability to generalize well to unseen data without overfitting.\n",
    "\n",
    "---"
   ]
  },
  {
   "cell_type": "markdown",
   "id": "c65b8240",
   "metadata": {},
   "source": [
    "> ### KNN"
   ]
  },
  {
   "cell_type": "code",
   "execution_count": 40,
   "id": "f200994a",
   "metadata": {},
   "outputs": [],
   "source": [
    "# define the estimator/model\n",
    "from sklearn.neighbors import KNeighborsClassifier\n",
    "\n",
    "knn_clf = KNeighborsClassifier()"
   ]
  },
  {
   "cell_type": "code",
   "execution_count": 41,
   "id": "8c7da11e",
   "metadata": {},
   "outputs": [
    {
     "data": {
      "text/html": [
       "<style>#sk-container-id-2 {\n",
       "  /* Definition of color scheme common for light and dark mode */\n",
       "  --sklearn-color-text: black;\n",
       "  --sklearn-color-line: gray;\n",
       "  /* Definition of color scheme for unfitted estimators */\n",
       "  --sklearn-color-unfitted-level-0: #fff5e6;\n",
       "  --sklearn-color-unfitted-level-1: #f6e4d2;\n",
       "  --sklearn-color-unfitted-level-2: #ffe0b3;\n",
       "  --sklearn-color-unfitted-level-3: chocolate;\n",
       "  /* Definition of color scheme for fitted estimators */\n",
       "  --sklearn-color-fitted-level-0: #f0f8ff;\n",
       "  --sklearn-color-fitted-level-1: #d4ebff;\n",
       "  --sklearn-color-fitted-level-2: #b3dbfd;\n",
       "  --sklearn-color-fitted-level-3: cornflowerblue;\n",
       "\n",
       "  /* Specific color for light theme */\n",
       "  --sklearn-color-text-on-default-background: var(--sg-text-color, var(--theme-code-foreground, var(--jp-content-font-color1, black)));\n",
       "  --sklearn-color-background: var(--sg-background-color, var(--theme-background, var(--jp-layout-color0, white)));\n",
       "  --sklearn-color-border-box: var(--sg-text-color, var(--theme-code-foreground, var(--jp-content-font-color1, black)));\n",
       "  --sklearn-color-icon: #696969;\n",
       "\n",
       "  @media (prefers-color-scheme: dark) {\n",
       "    /* Redefinition of color scheme for dark theme */\n",
       "    --sklearn-color-text-on-default-background: var(--sg-text-color, var(--theme-code-foreground, var(--jp-content-font-color1, white)));\n",
       "    --sklearn-color-background: var(--sg-background-color, var(--theme-background, var(--jp-layout-color0, #111)));\n",
       "    --sklearn-color-border-box: var(--sg-text-color, var(--theme-code-foreground, var(--jp-content-font-color1, white)));\n",
       "    --sklearn-color-icon: #878787;\n",
       "  }\n",
       "}\n",
       "\n",
       "#sk-container-id-2 {\n",
       "  color: var(--sklearn-color-text);\n",
       "}\n",
       "\n",
       "#sk-container-id-2 pre {\n",
       "  padding: 0;\n",
       "}\n",
       "\n",
       "#sk-container-id-2 input.sk-hidden--visually {\n",
       "  border: 0;\n",
       "  clip: rect(1px 1px 1px 1px);\n",
       "  clip: rect(1px, 1px, 1px, 1px);\n",
       "  height: 1px;\n",
       "  margin: -1px;\n",
       "  overflow: hidden;\n",
       "  padding: 0;\n",
       "  position: absolute;\n",
       "  width: 1px;\n",
       "}\n",
       "\n",
       "#sk-container-id-2 div.sk-dashed-wrapped {\n",
       "  border: 1px dashed var(--sklearn-color-line);\n",
       "  margin: 0 0.4em 0.5em 0.4em;\n",
       "  box-sizing: border-box;\n",
       "  padding-bottom: 0.4em;\n",
       "  background-color: var(--sklearn-color-background);\n",
       "}\n",
       "\n",
       "#sk-container-id-2 div.sk-container {\n",
       "  /* jupyter's `normalize.less` sets `[hidden] { display: none; }`\n",
       "     but bootstrap.min.css set `[hidden] { display: none !important; }`\n",
       "     so we also need the `!important` here to be able to override the\n",
       "     default hidden behavior on the sphinx rendered scikit-learn.org.\n",
       "     See: https://github.com/scikit-learn/scikit-learn/issues/21755 */\n",
       "  display: inline-block !important;\n",
       "  position: relative;\n",
       "}\n",
       "\n",
       "#sk-container-id-2 div.sk-text-repr-fallback {\n",
       "  display: none;\n",
       "}\n",
       "\n",
       "div.sk-parallel-item,\n",
       "div.sk-serial,\n",
       "div.sk-item {\n",
       "  /* draw centered vertical line to link estimators */\n",
       "  background-image: linear-gradient(var(--sklearn-color-text-on-default-background), var(--sklearn-color-text-on-default-background));\n",
       "  background-size: 2px 100%;\n",
       "  background-repeat: no-repeat;\n",
       "  background-position: center center;\n",
       "}\n",
       "\n",
       "/* Parallel-specific style estimator block */\n",
       "\n",
       "#sk-container-id-2 div.sk-parallel-item::after {\n",
       "  content: \"\";\n",
       "  width: 100%;\n",
       "  border-bottom: 2px solid var(--sklearn-color-text-on-default-background);\n",
       "  flex-grow: 1;\n",
       "}\n",
       "\n",
       "#sk-container-id-2 div.sk-parallel {\n",
       "  display: flex;\n",
       "  align-items: stretch;\n",
       "  justify-content: center;\n",
       "  background-color: var(--sklearn-color-background);\n",
       "  position: relative;\n",
       "}\n",
       "\n",
       "#sk-container-id-2 div.sk-parallel-item {\n",
       "  display: flex;\n",
       "  flex-direction: column;\n",
       "}\n",
       "\n",
       "#sk-container-id-2 div.sk-parallel-item:first-child::after {\n",
       "  align-self: flex-end;\n",
       "  width: 50%;\n",
       "}\n",
       "\n",
       "#sk-container-id-2 div.sk-parallel-item:last-child::after {\n",
       "  align-self: flex-start;\n",
       "  width: 50%;\n",
       "}\n",
       "\n",
       "#sk-container-id-2 div.sk-parallel-item:only-child::after {\n",
       "  width: 0;\n",
       "}\n",
       "\n",
       "/* Serial-specific style estimator block */\n",
       "\n",
       "#sk-container-id-2 div.sk-serial {\n",
       "  display: flex;\n",
       "  flex-direction: column;\n",
       "  align-items: center;\n",
       "  background-color: var(--sklearn-color-background);\n",
       "  padding-right: 1em;\n",
       "  padding-left: 1em;\n",
       "}\n",
       "\n",
       "\n",
       "/* Toggleable style: style used for estimator/Pipeline/ColumnTransformer box that is\n",
       "clickable and can be expanded/collapsed.\n",
       "- Pipeline and ColumnTransformer use this feature and define the default style\n",
       "- Estimators will overwrite some part of the style using the `sk-estimator` class\n",
       "*/\n",
       "\n",
       "/* Pipeline and ColumnTransformer style (default) */\n",
       "\n",
       "#sk-container-id-2 div.sk-toggleable {\n",
       "  /* Default theme specific background. It is overwritten whether we have a\n",
       "  specific estimator or a Pipeline/ColumnTransformer */\n",
       "  background-color: var(--sklearn-color-background);\n",
       "}\n",
       "\n",
       "/* Toggleable label */\n",
       "#sk-container-id-2 label.sk-toggleable__label {\n",
       "  cursor: pointer;\n",
       "  display: block;\n",
       "  width: 100%;\n",
       "  margin-bottom: 0;\n",
       "  padding: 0.5em;\n",
       "  box-sizing: border-box;\n",
       "  text-align: center;\n",
       "}\n",
       "\n",
       "#sk-container-id-2 label.sk-toggleable__label-arrow:before {\n",
       "  /* Arrow on the left of the label */\n",
       "  content: \"▸\";\n",
       "  float: left;\n",
       "  margin-right: 0.25em;\n",
       "  color: var(--sklearn-color-icon);\n",
       "}\n",
       "\n",
       "#sk-container-id-2 label.sk-toggleable__label-arrow:hover:before {\n",
       "  color: var(--sklearn-color-text);\n",
       "}\n",
       "\n",
       "/* Toggleable content - dropdown */\n",
       "\n",
       "#sk-container-id-2 div.sk-toggleable__content {\n",
       "  max-height: 0;\n",
       "  max-width: 0;\n",
       "  overflow: hidden;\n",
       "  text-align: left;\n",
       "  /* unfitted */\n",
       "  background-color: var(--sklearn-color-unfitted-level-0);\n",
       "}\n",
       "\n",
       "#sk-container-id-2 div.sk-toggleable__content.fitted {\n",
       "  /* fitted */\n",
       "  background-color: var(--sklearn-color-fitted-level-0);\n",
       "}\n",
       "\n",
       "#sk-container-id-2 div.sk-toggleable__content pre {\n",
       "  margin: 0.2em;\n",
       "  border-radius: 0.25em;\n",
       "  color: var(--sklearn-color-text);\n",
       "  /* unfitted */\n",
       "  background-color: var(--sklearn-color-unfitted-level-0);\n",
       "}\n",
       "\n",
       "#sk-container-id-2 div.sk-toggleable__content.fitted pre {\n",
       "  /* unfitted */\n",
       "  background-color: var(--sklearn-color-fitted-level-0);\n",
       "}\n",
       "\n",
       "#sk-container-id-2 input.sk-toggleable__control:checked~div.sk-toggleable__content {\n",
       "  /* Expand drop-down */\n",
       "  max-height: 200px;\n",
       "  max-width: 100%;\n",
       "  overflow: auto;\n",
       "}\n",
       "\n",
       "#sk-container-id-2 input.sk-toggleable__control:checked~label.sk-toggleable__label-arrow:before {\n",
       "  content: \"▾\";\n",
       "}\n",
       "\n",
       "/* Pipeline/ColumnTransformer-specific style */\n",
       "\n",
       "#sk-container-id-2 div.sk-label input.sk-toggleable__control:checked~label.sk-toggleable__label {\n",
       "  color: var(--sklearn-color-text);\n",
       "  background-color: var(--sklearn-color-unfitted-level-2);\n",
       "}\n",
       "\n",
       "#sk-container-id-2 div.sk-label.fitted input.sk-toggleable__control:checked~label.sk-toggleable__label {\n",
       "  background-color: var(--sklearn-color-fitted-level-2);\n",
       "}\n",
       "\n",
       "/* Estimator-specific style */\n",
       "\n",
       "/* Colorize estimator box */\n",
       "#sk-container-id-2 div.sk-estimator input.sk-toggleable__control:checked~label.sk-toggleable__label {\n",
       "  /* unfitted */\n",
       "  background-color: var(--sklearn-color-unfitted-level-2);\n",
       "}\n",
       "\n",
       "#sk-container-id-2 div.sk-estimator.fitted input.sk-toggleable__control:checked~label.sk-toggleable__label {\n",
       "  /* fitted */\n",
       "  background-color: var(--sklearn-color-fitted-level-2);\n",
       "}\n",
       "\n",
       "#sk-container-id-2 div.sk-label label.sk-toggleable__label,\n",
       "#sk-container-id-2 div.sk-label label {\n",
       "  /* The background is the default theme color */\n",
       "  color: var(--sklearn-color-text-on-default-background);\n",
       "}\n",
       "\n",
       "/* On hover, darken the color of the background */\n",
       "#sk-container-id-2 div.sk-label:hover label.sk-toggleable__label {\n",
       "  color: var(--sklearn-color-text);\n",
       "  background-color: var(--sklearn-color-unfitted-level-2);\n",
       "}\n",
       "\n",
       "/* Label box, darken color on hover, fitted */\n",
       "#sk-container-id-2 div.sk-label.fitted:hover label.sk-toggleable__label.fitted {\n",
       "  color: var(--sklearn-color-text);\n",
       "  background-color: var(--sklearn-color-fitted-level-2);\n",
       "}\n",
       "\n",
       "/* Estimator label */\n",
       "\n",
       "#sk-container-id-2 div.sk-label label {\n",
       "  font-family: monospace;\n",
       "  font-weight: bold;\n",
       "  display: inline-block;\n",
       "  line-height: 1.2em;\n",
       "}\n",
       "\n",
       "#sk-container-id-2 div.sk-label-container {\n",
       "  text-align: center;\n",
       "}\n",
       "\n",
       "/* Estimator-specific */\n",
       "#sk-container-id-2 div.sk-estimator {\n",
       "  font-family: monospace;\n",
       "  border: 1px dotted var(--sklearn-color-border-box);\n",
       "  border-radius: 0.25em;\n",
       "  box-sizing: border-box;\n",
       "  margin-bottom: 0.5em;\n",
       "  /* unfitted */\n",
       "  background-color: var(--sklearn-color-unfitted-level-0);\n",
       "}\n",
       "\n",
       "#sk-container-id-2 div.sk-estimator.fitted {\n",
       "  /* fitted */\n",
       "  background-color: var(--sklearn-color-fitted-level-0);\n",
       "}\n",
       "\n",
       "/* on hover */\n",
       "#sk-container-id-2 div.sk-estimator:hover {\n",
       "  /* unfitted */\n",
       "  background-color: var(--sklearn-color-unfitted-level-2);\n",
       "}\n",
       "\n",
       "#sk-container-id-2 div.sk-estimator.fitted:hover {\n",
       "  /* fitted */\n",
       "  background-color: var(--sklearn-color-fitted-level-2);\n",
       "}\n",
       "\n",
       "/* Specification for estimator info (e.g. \"i\" and \"?\") */\n",
       "\n",
       "/* Common style for \"i\" and \"?\" */\n",
       "\n",
       ".sk-estimator-doc-link,\n",
       "a:link.sk-estimator-doc-link,\n",
       "a:visited.sk-estimator-doc-link {\n",
       "  float: right;\n",
       "  font-size: smaller;\n",
       "  line-height: 1em;\n",
       "  font-family: monospace;\n",
       "  background-color: var(--sklearn-color-background);\n",
       "  border-radius: 1em;\n",
       "  height: 1em;\n",
       "  width: 1em;\n",
       "  text-decoration: none !important;\n",
       "  margin-left: 1ex;\n",
       "  /* unfitted */\n",
       "  border: var(--sklearn-color-unfitted-level-1) 1pt solid;\n",
       "  color: var(--sklearn-color-unfitted-level-1);\n",
       "}\n",
       "\n",
       ".sk-estimator-doc-link.fitted,\n",
       "a:link.sk-estimator-doc-link.fitted,\n",
       "a:visited.sk-estimator-doc-link.fitted {\n",
       "  /* fitted */\n",
       "  border: var(--sklearn-color-fitted-level-1) 1pt solid;\n",
       "  color: var(--sklearn-color-fitted-level-1);\n",
       "}\n",
       "\n",
       "/* On hover */\n",
       "div.sk-estimator:hover .sk-estimator-doc-link:hover,\n",
       ".sk-estimator-doc-link:hover,\n",
       "div.sk-label-container:hover .sk-estimator-doc-link:hover,\n",
       ".sk-estimator-doc-link:hover {\n",
       "  /* unfitted */\n",
       "  background-color: var(--sklearn-color-unfitted-level-3);\n",
       "  color: var(--sklearn-color-background);\n",
       "  text-decoration: none;\n",
       "}\n",
       "\n",
       "div.sk-estimator.fitted:hover .sk-estimator-doc-link.fitted:hover,\n",
       ".sk-estimator-doc-link.fitted:hover,\n",
       "div.sk-label-container:hover .sk-estimator-doc-link.fitted:hover,\n",
       ".sk-estimator-doc-link.fitted:hover {\n",
       "  /* fitted */\n",
       "  background-color: var(--sklearn-color-fitted-level-3);\n",
       "  color: var(--sklearn-color-background);\n",
       "  text-decoration: none;\n",
       "}\n",
       "\n",
       "/* Span, style for the box shown on hovering the info icon */\n",
       ".sk-estimator-doc-link span {\n",
       "  display: none;\n",
       "  z-index: 9999;\n",
       "  position: relative;\n",
       "  font-weight: normal;\n",
       "  right: .2ex;\n",
       "  padding: .5ex;\n",
       "  margin: .5ex;\n",
       "  width: min-content;\n",
       "  min-width: 20ex;\n",
       "  max-width: 50ex;\n",
       "  color: var(--sklearn-color-text);\n",
       "  box-shadow: 2pt 2pt 4pt #999;\n",
       "  /* unfitted */\n",
       "  background: var(--sklearn-color-unfitted-level-0);\n",
       "  border: .5pt solid var(--sklearn-color-unfitted-level-3);\n",
       "}\n",
       "\n",
       ".sk-estimator-doc-link.fitted span {\n",
       "  /* fitted */\n",
       "  background: var(--sklearn-color-fitted-level-0);\n",
       "  border: var(--sklearn-color-fitted-level-3);\n",
       "}\n",
       "\n",
       ".sk-estimator-doc-link:hover span {\n",
       "  display: block;\n",
       "}\n",
       "\n",
       "/* \"?\"-specific style due to the `<a>` HTML tag */\n",
       "\n",
       "#sk-container-id-2 a.estimator_doc_link {\n",
       "  float: right;\n",
       "  font-size: 1rem;\n",
       "  line-height: 1em;\n",
       "  font-family: monospace;\n",
       "  background-color: var(--sklearn-color-background);\n",
       "  border-radius: 1rem;\n",
       "  height: 1rem;\n",
       "  width: 1rem;\n",
       "  text-decoration: none;\n",
       "  /* unfitted */\n",
       "  color: var(--sklearn-color-unfitted-level-1);\n",
       "  border: var(--sklearn-color-unfitted-level-1) 1pt solid;\n",
       "}\n",
       "\n",
       "#sk-container-id-2 a.estimator_doc_link.fitted {\n",
       "  /* fitted */\n",
       "  border: var(--sklearn-color-fitted-level-1) 1pt solid;\n",
       "  color: var(--sklearn-color-fitted-level-1);\n",
       "}\n",
       "\n",
       "/* On hover */\n",
       "#sk-container-id-2 a.estimator_doc_link:hover {\n",
       "  /* unfitted */\n",
       "  background-color: var(--sklearn-color-unfitted-level-3);\n",
       "  color: var(--sklearn-color-background);\n",
       "  text-decoration: none;\n",
       "}\n",
       "\n",
       "#sk-container-id-2 a.estimator_doc_link.fitted:hover {\n",
       "  /* fitted */\n",
       "  background-color: var(--sklearn-color-fitted-level-3);\n",
       "}\n",
       "</style><div id=\"sk-container-id-2\" class=\"sk-top-container\"><div class=\"sk-text-repr-fallback\"><pre>GridSearchCV(cv=5, estimator=KNeighborsClassifier(),\n",
       "             param_grid={&#x27;n_neighbors&#x27;: (2, 3, 4, 5, 6, 7, 8)},\n",
       "             scoring=&#x27;recall&#x27;)</pre><b>In a Jupyter environment, please rerun this cell to show the HTML representation or trust the notebook. <br />On GitHub, the HTML representation is unable to render, please try loading this page with nbviewer.org.</b></div><div class=\"sk-container\" hidden><div class=\"sk-item sk-dashed-wrapped\"><div class=\"sk-label-container\"><div class=\"sk-label fitted sk-toggleable\"><input class=\"sk-toggleable__control sk-hidden--visually\" id=\"sk-estimator-id-4\" type=\"checkbox\" ><label for=\"sk-estimator-id-4\" class=\"sk-toggleable__label fitted sk-toggleable__label-arrow fitted\">&nbsp;&nbsp;GridSearchCV<a class=\"sk-estimator-doc-link fitted\" rel=\"noreferrer\" target=\"_blank\" href=\"https://scikit-learn.org/1.5/modules/generated/sklearn.model_selection.GridSearchCV.html\">?<span>Documentation for GridSearchCV</span></a><span class=\"sk-estimator-doc-link fitted\">i<span>Fitted</span></span></label><div class=\"sk-toggleable__content fitted\"><pre>GridSearchCV(cv=5, estimator=KNeighborsClassifier(),\n",
       "             param_grid={&#x27;n_neighbors&#x27;: (2, 3, 4, 5, 6, 7, 8)},\n",
       "             scoring=&#x27;recall&#x27;)</pre></div> </div></div><div class=\"sk-parallel\"><div class=\"sk-parallel-item\"><div class=\"sk-item\"><div class=\"sk-label-container\"><div class=\"sk-label fitted sk-toggleable\"><input class=\"sk-toggleable__control sk-hidden--visually\" id=\"sk-estimator-id-5\" type=\"checkbox\" ><label for=\"sk-estimator-id-5\" class=\"sk-toggleable__label fitted sk-toggleable__label-arrow fitted\">best_estimator_: KNeighborsClassifier</label><div class=\"sk-toggleable__content fitted\"><pre>KNeighborsClassifier(n_neighbors=7)</pre></div> </div></div><div class=\"sk-serial\"><div class=\"sk-item\"><div class=\"sk-estimator fitted sk-toggleable\"><input class=\"sk-toggleable__control sk-hidden--visually\" id=\"sk-estimator-id-6\" type=\"checkbox\" ><label for=\"sk-estimator-id-6\" class=\"sk-toggleable__label fitted sk-toggleable__label-arrow fitted\">&nbsp;KNeighborsClassifier<a class=\"sk-estimator-doc-link fitted\" rel=\"noreferrer\" target=\"_blank\" href=\"https://scikit-learn.org/1.5/modules/generated/sklearn.neighbors.KNeighborsClassifier.html\">?<span>Documentation for KNeighborsClassifier</span></a></label><div class=\"sk-toggleable__content fitted\"><pre>KNeighborsClassifier(n_neighbors=7)</pre></div> </div></div></div></div></div></div></div></div></div>"
      ],
      "text/plain": [
       "GridSearchCV(cv=5, estimator=KNeighborsClassifier(),\n",
       "             param_grid={'n_neighbors': (2, 3, 4, 5, 6, 7, 8)},\n",
       "             scoring='recall')"
      ]
     },
     "execution_count": 41,
     "metadata": {},
     "output_type": "execute_result"
    }
   ],
   "source": [
    "# hyperparameter tuning\n",
    "from sklearn.model_selection import GridSearchCV\n",
    "\n",
    "parameters = {\n",
    "    'n_neighbors': (2,3,4,5,6,7,8)\n",
    "}\n",
    "\n",
    "knn_clf_gridcv = GridSearchCV(knn_clf, parameters, cv=5, scoring='recall')\n",
    "knn_clf_gridcv.fit(X_train_scaled, target_dataset_train)"
   ]
  },
  {
   "cell_type": "code",
   "execution_count": 42,
   "id": "349adcb2",
   "metadata": {},
   "outputs": [
    {
     "data": {
      "text/html": [
       "<div>\n",
       "<style scoped>\n",
       "    .dataframe tbody tr th:only-of-type {\n",
       "        vertical-align: middle;\n",
       "    }\n",
       "\n",
       "    .dataframe tbody tr th {\n",
       "        vertical-align: top;\n",
       "    }\n",
       "\n",
       "    .dataframe thead th {\n",
       "        text-align: right;\n",
       "    }\n",
       "</style>\n",
       "<table border=\"1\" class=\"dataframe\">\n",
       "  <thead>\n",
       "    <tr style=\"text-align: right;\">\n",
       "      <th></th>\n",
       "      <th>params</th>\n",
       "      <th>mean_test_score</th>\n",
       "      <th>rank_test_score</th>\n",
       "    </tr>\n",
       "  </thead>\n",
       "  <tbody>\n",
       "    <tr>\n",
       "      <th>0</th>\n",
       "      <td>{'n_neighbors': 2}</td>\n",
       "      <td>0.892056</td>\n",
       "      <td>7</td>\n",
       "    </tr>\n",
       "    <tr>\n",
       "      <th>1</th>\n",
       "      <td>{'n_neighbors': 3}</td>\n",
       "      <td>0.949789</td>\n",
       "      <td>2</td>\n",
       "    </tr>\n",
       "    <tr>\n",
       "      <th>2</th>\n",
       "      <td>{'n_neighbors': 4}</td>\n",
       "      <td>0.914198</td>\n",
       "      <td>6</td>\n",
       "    </tr>\n",
       "    <tr>\n",
       "      <th>3</th>\n",
       "      <td>{'n_neighbors': 5}</td>\n",
       "      <td>0.948205</td>\n",
       "      <td>3</td>\n",
       "    </tr>\n",
       "    <tr>\n",
       "      <th>4</th>\n",
       "      <td>{'n_neighbors': 6}</td>\n",
       "      <td>0.929620</td>\n",
       "      <td>5</td>\n",
       "    </tr>\n",
       "    <tr>\n",
       "      <th>5</th>\n",
       "      <td>{'n_neighbors': 7}</td>\n",
       "      <td>0.952554</td>\n",
       "      <td>1</td>\n",
       "    </tr>\n",
       "    <tr>\n",
       "      <th>6</th>\n",
       "      <td>{'n_neighbors': 8}</td>\n",
       "      <td>0.933577</td>\n",
       "      <td>4</td>\n",
       "    </tr>\n",
       "  </tbody>\n",
       "</table>\n",
       "</div>"
      ],
      "text/plain": [
       "               params  mean_test_score  rank_test_score\n",
       "0  {'n_neighbors': 2}         0.892056                7\n",
       "1  {'n_neighbors': 3}         0.949789                2\n",
       "2  {'n_neighbors': 4}         0.914198                6\n",
       "3  {'n_neighbors': 5}         0.948205                3\n",
       "4  {'n_neighbors': 6}         0.929620                5\n",
       "5  {'n_neighbors': 7}         0.952554                1\n",
       "6  {'n_neighbors': 8}         0.933577                4"
      ]
     },
     "execution_count": 42,
     "metadata": {},
     "output_type": "execute_result"
    }
   ],
   "source": [
    "# the compact results\n",
    "cv_result = pd.DataFrame(knn_clf_gridcv.cv_results_)\n",
    "retain_cols = ['params','mean_test_score','rank_test_score']\n",
    "cv_result[retain_cols]"
   ]
  },
  {
   "cell_type": "markdown",
   "id": "1dbc1916",
   "metadata": {},
   "source": [
    "- The best n_neighbors is 7"
   ]
  },
  {
   "cell_type": "markdown",
   "id": "4d63a5fc",
   "metadata": {},
   "source": [
    "> #### Evaluation metrics, Before Tuning"
   ]
  },
  {
   "cell_type": "markdown",
   "id": "49f9de5c",
   "metadata": {},
   "source": [
    "- train check"
   ]
  },
  {
   "cell_type": "code",
   "execution_count": 43,
   "id": "d2802d60",
   "metadata": {},
   "outputs": [
    {
     "data": {
      "image/png": "[encoded data removed]",
      "text/plain": [
       "<Figure size 1000x700 with 2 Axes>"
      ]
     },
     "metadata": {},
     "output_type": "display_data"
    }
   ],
   "source": [
    "import matplotlib.pyplot as plt\n",
    "from sklearn.metrics import confusion_matrix, ConfusionMatrixDisplay\n",
    "from sklearn.neighbors import KNeighborsClassifier\n",
    "\n",
    "# Train the default KNN model (Before tuning)\n",
    "knn_clf_default = KNeighborsClassifier(n_neighbors=7)  # Default n_neighbors=7\n",
    "knn_clf_default.fit(X_train_scaled, target_dataset_train.values.ravel())\n",
    "\n",
    "# Make predictions using the default model\n",
    "y_pred_default = knn_clf_default.predict(X_train_scaled)\n",
    "\n",
    "# Plot confusion matrix for the default model\n",
    "fig, ax = plt.subplots(figsize=(10, 7))\n",
    "cm_default = confusion_matrix(target_dataset_train, y_pred_default, labels=knn_clf_default.classes_)\n",
    "\n",
    "# Display the confusion matrix\n",
    "disp_default = ConfusionMatrixDisplay(confusion_matrix=cm_default,\n",
    "                                      display_labels=knn_clf_default.classes_)\n",
    "disp_default.plot(ax=ax)\n",
    "\n",
    "# Add a title\n",
    "ax.set_title(\"Train Check - Before tuning\", fontsize=16)\n",
    "\n",
    "plt.show()"
   ]
  },
  {
   "cell_type": "markdown",
   "id": "edea8e7a",
   "metadata": {},
   "source": [
    "- test check"
   ]
  },
  {
   "cell_type": "code",
   "execution_count": 44,
   "id": "16fd8285",
   "metadata": {},
   "outputs": [
    {
     "data": {
      "image/png": "[encoded data removed]",
      "text/plain": [
       "<Figure size 1000x700 with 2 Axes>"
      ]
     },
     "metadata": {},
     "output_type": "display_data"
    }
   ],
   "source": [
    "import matplotlib.pyplot as plt\n",
    "from sklearn.metrics import confusion_matrix, ConfusionMatrixDisplay\n",
    "from sklearn.neighbors import KNeighborsClassifier\n",
    "\n",
    "# Train the default KNN model (Before tuning)\n",
    "knn_clf_default = KNeighborsClassifier(n_neighbors=7)  # Default n_neighbors=5\n",
    "knn_clf_default.fit(X_train_scaled, target_dataset_train.values.ravel())\n",
    "\n",
    "# Make predictions using the default model\n",
    "y_pred_default = knn_clf_default.predict(X_test_scaled)\n",
    "\n",
    "# Plot confusion matrix for the default model\n",
    "fig, ax = plt.subplots(figsize=(10, 7))\n",
    "cm_default = confusion_matrix(target_dataset_test, y_pred_default, labels=knn_clf_default.classes_)\n",
    "\n",
    "# Display the confusion matrix\n",
    "disp_default = ConfusionMatrixDisplay(confusion_matrix=cm_default,\n",
    "                                      display_labels=knn_clf_default.classes_)\n",
    "disp_default.plot(ax=ax)\n",
    "ax.set_title(\"Test Check - Before tuning\", fontsize=16)\n",
    "plt.show()\n"
   ]
  },
  {
   "cell_type": "markdown",
   "id": "52f028af",
   "metadata": {},
   "source": [
    "> #### Evaluation metrics, After Tuning"
   ]
  },
  {
   "cell_type": "markdown",
   "id": "a70e6e29",
   "metadata": {},
   "source": [
    "- After Tuning"
   ]
  },
  {
   "cell_type": "code",
   "execution_count": 45,
   "id": "0631eb15",
   "metadata": {},
   "outputs": [
    {
     "data": {
      "text/html": [
       "<div>\n",
       "<style scoped>\n",
       "    .dataframe tbody tr th:only-of-type {\n",
       "        vertical-align: middle;\n",
       "    }\n",
       "\n",
       "    .dataframe tbody tr th {\n",
       "        vertical-align: top;\n",
       "    }\n",
       "\n",
       "    .dataframe thead th {\n",
       "        text-align: right;\n",
       "    }\n",
       "</style>\n",
       "<table border=\"1\" class=\"dataframe\">\n",
       "  <thead>\n",
       "    <tr style=\"text-align: right;\">\n",
       "      <th></th>\n",
       "      <th>Income</th>\n",
       "      <th>Credit_Score</th>\n",
       "      <th>Loan_Amount</th>\n",
       "      <th>DTI_Ratio</th>\n",
       "      <th>Employment_Status</th>\n",
       "    </tr>\n",
       "  </thead>\n",
       "  <tbody>\n",
       "    <tr>\n",
       "      <th>5670</th>\n",
       "      <td>80724</td>\n",
       "      <td>662</td>\n",
       "      <td>22371.0</td>\n",
       "      <td>41.35000</td>\n",
       "      <td>0</td>\n",
       "    </tr>\n",
       "    <tr>\n",
       "      <th>16258</th>\n",
       "      <td>26373</td>\n",
       "      <td>477</td>\n",
       "      <td>10227.0</td>\n",
       "      <td>82.84875</td>\n",
       "      <td>1</td>\n",
       "    </tr>\n",
       "    <tr>\n",
       "      <th>3162</th>\n",
       "      <td>58831</td>\n",
       "      <td>331</td>\n",
       "      <td>23460.0</td>\n",
       "      <td>20.55000</td>\n",
       "      <td>1</td>\n",
       "    </tr>\n",
       "    <tr>\n",
       "      <th>17194</th>\n",
       "      <td>35428</td>\n",
       "      <td>639</td>\n",
       "      <td>13692.0</td>\n",
       "      <td>79.01000</td>\n",
       "      <td>0</td>\n",
       "    </tr>\n",
       "    <tr>\n",
       "      <th>5874</th>\n",
       "      <td>41154</td>\n",
       "      <td>330</td>\n",
       "      <td>11866.0</td>\n",
       "      <td>32.50000</td>\n",
       "      <td>1</td>\n",
       "    </tr>\n",
       "  </tbody>\n",
       "</table>\n",
       "</div>"
      ],
      "text/plain": [
       "       Income  Credit_Score  Loan_Amount  DTI_Ratio  Employment_Status\n",
       "5670    80724           662      22371.0   41.35000                  0\n",
       "16258   26373           477      10227.0   82.84875                  1\n",
       "3162    58831           331      23460.0   20.55000                  1\n",
       "17194   35428           639      13692.0   79.01000                  0\n",
       "5874    41154           330      11866.0   32.50000                  1"
      ]
     },
     "execution_count": 45,
     "metadata": {},
     "output_type": "execute_result"
    }
   ],
   "source": [
    "feature_dataset_train.head()"
   ]
  },
  {
   "cell_type": "code",
   "execution_count": 46,
   "id": "b854db70",
   "metadata": {},
   "outputs": [
    {
     "data": {
      "image/png": "[encoded data removed]",
      "text/plain": [
       "<Figure size 1000x700 with 2 Axes>"
      ]
     },
     "metadata": {},
     "output_type": "display_data"
    }
   ],
   "source": [
    "fig, ax = plt.subplots(figsize=(10,7))\n",
    "y_pred = knn_clf_gridcv.best_estimator_.predict(X_train_scaled)\n",
    "\n",
    "cm = confusion_matrix(target_dataset_train, y_pred, labels=knn_clf_gridcv.best_estimator_.classes_)\n",
    "disp = ConfusionMatrixDisplay(confusion_matrix=cm,\n",
    "                             display_labels=knn_clf_gridcv.best_estimator_.classes_)\n",
    "disp.plot(ax=ax)\n",
    "ax.set_title(\"Train Check - After tuning\", fontsize=16)\n",
    "plt.show()"
   ]
  },
  {
   "cell_type": "markdown",
   "id": "706c383b",
   "metadata": {},
   "source": [
    "-  Test Check"
   ]
  },
  {
   "cell_type": "code",
   "execution_count": 47,
   "id": "b77c2a55",
   "metadata": {},
   "outputs": [
    {
     "data": {
      "image/png": "[encoded data removed]",
      "text/plain": [
       "<Figure size 1000x700 with 2 Axes>"
      ]
     },
     "metadata": {},
     "output_type": "display_data"
    }
   ],
   "source": [
    "fig, ax = plt.subplots(figsize=(10,7))\n",
    "y_pred = knn_clf_gridcv.best_estimator_.predict(X_test_scaled)\n",
    "\n",
    "cm = confusion_matrix(target_dataset_test, y_pred, labels=knn_clf_gridcv.best_estimator_.classes_)\n",
    "disp = ConfusionMatrixDisplay(confusion_matrix=cm,\n",
    "                             display_labels=knn_clf_gridcv.best_estimator_.classes_)\n",
    "disp.plot(ax=ax)\n",
    "ax.set_title(\"Test Check - After tuning\", fontsize=16)\n",
    "plt.show()"
   ]
  },
  {
   "cell_type": "markdown",
   "id": "ed7c2992",
   "metadata": {},
   "source": [
    "### **Explanation of Confusion Matrices (Before and After Hyperparameter Tuning for KNN)**\n",
    "\n",
    "#### **Before Hyperparameter Tuning:**\n",
    "\n",
    "- **Train Data Confusion Matrix:**\n",
    "    - **True negatives (12,752):** The model correctly predicted label 0 (negative instances).\n",
    "    - **False positives (79):** The model incorrectly predicted label 1 when the true label was 0.\n",
    "    - **False negatives (66):** The model incorrectly predicted label 0 when the true label was 1.\n",
    "    - **True positives (2,463):** The model correctly predicted label 1 (positive instances).\n",
    "  \n",
    "- **Test Data Confusion Matrix:**\n",
    "    - **True negatives (4,006):** The model correctly predicted label 0 (negative instances).\n",
    "    - **False positives (41):** The model incorrectly predicted label 1 when the true label was 0.\n",
    "    - **False negatives (23):** The model incorrectly predicted label 0 when the true label was 1.\n",
    "    - **True positives (730):** The model correctly predicted label 1 (positive instances).\n",
    "\n",
    "#### **After Hyperparameter Tuning:**\n",
    "\n",
    "- **Train Data Confusion Matrix:**\n",
    "    - **True negatives (12,752):** The model performed similarly in correctly predicting label 0 (negative class).\n",
    "    - **False positives (79):** There was no change in the number of false positives.\n",
    "    - **False negatives (66):** The number of false negatives remained the same.\n",
    "    - **True positives (2,463):** The true positives remained unchanged as well.\n",
    "\n",
    "- **Test Data Confusion Matrix:**\n",
    "    - **True negatives (4,006):** The model performed similarly in correctly predicting label 0 (negative class).\n",
    "    - **False positives (41):** There was no change in the number of false positives.\n",
    "    - **False negatives (23):** The number of false negatives remained the same.\n",
    "    - **True positives (730):** The true positives remained unchanged.\n",
    "\n",
    "#### **Summary:**\n",
    "\n",
    "- **No significant change:** There was no improvement or degradation in model performance after hyperparameter tuning. Both the true positives, true negatives, false positives, and false negatives remained the same across the before and after models.\n"
   ]
  },
  {
   "cell_type": "markdown",
   "id": "1f8ea446",
   "metadata": {},
   "source": [
    "> ### Classification Report"
   ]
  },
  {
   "cell_type": "markdown",
   "id": "01b510ab",
   "metadata": {},
   "source": [
    "- Before Tuning, Train check"
   ]
  },
  {
   "cell_type": "code",
   "execution_count": 48,
   "id": "7929f560",
   "metadata": {},
   "outputs": [
    {
     "name": "stdout",
     "output_type": "stream",
     "text": [
      "Classification Report for Train data (Before Tuning):\n",
      "              precision    recall  f1-score   support\n",
      "\n",
      "           0       1.00      0.99      1.00     12831\n",
      "           1       0.97      0.98      0.98      2529\n",
      "\n",
      "    accuracy                           0.99     15360\n",
      "   macro avg       0.98      0.99      0.99     15360\n",
      "weighted avg       0.99      0.99      0.99     15360\n",
      "\n",
      "ROC AUC - Train Check (Before Tuning): 0.9995037534978476\n"
     ]
    }
   ],
   "source": [
    "from sklearn.neighbors import KNeighborsClassifier\n",
    "from sklearn.metrics import classification_report, roc_auc_score\n",
    "\n",
    "# Default KNN model (Before Tuning)\n",
    "knn_clf_default = KNeighborsClassifier(n_neighbors=5)  # Default n_neighbors=5\n",
    "knn_clf_default.fit(X_train_scaled, target_dataset_train.values.ravel())\n",
    "\n",
    "# Predict and evaluate (Before Tuning)\n",
    "y_pred_default = knn_clf_default.predict(X_train_scaled)\n",
    "print(\"Classification Report for Train data (Before Tuning):\")\n",
    "print(classification_report(target_dataset_train, y_pred_default))\n",
    "\n",
    "# Predicted probabilities for ROC AUC (for binary classification)\n",
    "y_prob_default = knn_clf_default.predict_proba(X_train_scaled)[:, 1]\n",
    "\n",
    "# Calculate ROC AUC for the default model\n",
    "roc_auc_default = roc_auc_score(target_dataset_train, y_prob_default)\n",
    "print(f\"ROC AUC - Train Check (Before Tuning): {roc_auc_default}\")\n"
   ]
  },
  {
   "cell_type": "markdown",
   "id": "33498224",
   "metadata": {},
   "source": [
    "- Train Check"
   ]
  },
  {
   "cell_type": "code",
   "execution_count": 49,
   "id": "62d7b374",
   "metadata": {},
   "outputs": [
    {
     "name": "stdout",
     "output_type": "stream",
     "text": [
      "Classification Report Test data (Before Tuning):\n",
      "              precision    recall  f1-score   support\n",
      "\n",
      "           0       0.99      0.99      0.99      4047\n",
      "           1       0.95      0.97      0.96       753\n",
      "\n",
      "    accuracy                           0.99      4800\n",
      "   macro avg       0.97      0.98      0.98      4800\n",
      "weighted avg       0.99      0.99      0.99      4800\n",
      "\n",
      "ROC AUC - Test Data(Before Tuning): 0.9961424379083617\n"
     ]
    }
   ],
   "source": [
    "# Default KNN model (Before Tuning) - Using the already trained model\n",
    "y_pred_default = knn_clf_default.predict(X_test_scaled)\n",
    "print(\"Classification Report Test data (Before Tuning):\")\n",
    "print(classification_report(target_dataset_test, y_pred_default))\n",
    "\n",
    "# Predicted probabilities for ROC AUC (for binary classification)\n",
    "y_prob_default = knn_clf_default.predict_proba(X_test_scaled)[:, 1]\n",
    "\n",
    "# Calculate ROC AUC for the default model\n",
    "roc_auc_default = roc_auc_score(target_dataset_test, y_prob_default)\n",
    "print(f\"ROC AUC - Test Data(Before Tuning): {roc_auc_default}\")\n"
   ]
  },
  {
   "cell_type": "markdown",
   "id": "c689ef45",
   "metadata": {},
   "source": [
    "- After Tuning, Train check"
   ]
  },
  {
   "cell_type": "code",
   "execution_count": 50,
   "id": "4e35fee4",
   "metadata": {},
   "outputs": [
    {
     "name": "stdout",
     "output_type": "stream",
     "text": [
      "Classification Report (After Tuning) - Train Data:\n",
      "              precision    recall  f1-score   support\n",
      "\n",
      "           0       0.99      0.99      0.99     12831\n",
      "           1       0.97      0.97      0.97      2529\n",
      "\n",
      "    accuracy                           0.99     15360\n",
      "   macro avg       0.98      0.98      0.98     15360\n",
      "weighted avg       0.99      0.99      0.99     15360\n",
      "\n",
      "ROC AUC (After Tuning) - Train Data: 0.999424291807119\n"
     ]
    }
   ],
   "source": [
    "# Predict labels for the training data (After Tuning)\n",
    "y_pred_train = knn_clf_gridcv.best_estimator_.predict(X_train_scaled)\n",
    "print(\"Classification Report (After Tuning) - Train Data:\")\n",
    "# Print classification report for training data\n",
    "print(classification_report(target_dataset_train, y_pred_train))\n",
    "\n",
    "# Get predicted probabilities for training data\n",
    "y_prob_train = knn_clf_gridcv.best_estimator_.predict_proba(X_train_scaled)[:, 1]\n",
    "\n",
    "# Calculate and print ROC AUC for training data\n",
    "roc_auc_train = roc_auc_score(target_dataset_train, y_prob_train)\n",
    "print(f\"ROC AUC (After Tuning) - Train Data: {roc_auc_train}\")\n"
   ]
  },
  {
   "cell_type": "markdown",
   "id": "c2efb3bc",
   "metadata": {},
   "source": [
    "- Test Check"
   ]
  },
  {
   "cell_type": "code",
   "execution_count": 51,
   "id": "a8f680af",
   "metadata": {},
   "outputs": [
    {
     "name": "stdout",
     "output_type": "stream",
     "text": [
      "Classification Report (After Tuning):\n",
      "              precision    recall  f1-score   support\n",
      "\n",
      "           0       0.99      0.99      0.99      4047\n",
      "           1       0.95      0.97      0.96       753\n",
      "\n",
      "    accuracy                           0.99      4800\n",
      "   macro avg       0.97      0.98      0.98      4800\n",
      "weighted avg       0.99      0.99      0.99      4800\n",
      "\n",
      "ROC AUC - Test Data(After Tuning): 0.9962289053160556\n"
     ]
    }
   ],
   "source": [
    "# Predict labels\n",
    "y_pred = knn_clf_gridcv.best_estimator_.predict(X_test_scaled)\n",
    "print(\"Classification Report (After Tuning):\")\n",
    "# Print classification report\n",
    "print(classification_report(target_dataset_test, y_pred))\n",
    "\n",
    "# Get predicted probabilities\n",
    "y_prob = knn_clf_gridcv.best_estimator_.predict_proba(X_test_scaled)[:, 1]\n",
    "\n",
    "# Calculate and print ROC AUC\n",
    "roc_auc = roc_auc_score(target_dataset_test, y_prob)\n",
    "print(f\"ROC AUC - Test Data(After Tuning): {roc_auc}\")"
   ]
  },
  {
   "cell_type": "markdown",
   "id": "8ba685b6",
   "metadata": {},
   "source": [
    "### Explanation Based on the Classification Report and ROC AUC:\n",
    "\n",
    "#### **Before and After Hyperparameter Tuning:**\n",
    "\n",
    "1. **Precision** for **Rejected (class 0)** is **99%**, and **recall** is **99%** in both cases, indicating the model performs excellently in identifying rejected instances with high precision and recall.\n",
    "2. **Precision** for **Approved (class 1)** is **95%** for precision and **97%** for recall before tuning, and **97%** precision and **97%** recall after tuning, showing consistent and slightly improved performance in predicting approved instances after tuning.\n",
    "3. **Accuracy** remains **99%** in both models, meaning the model is correct 99% of the time across both classes.\n",
    "4. **Macro Average** precision, recall, and F1-score are **98%**, **98%**, and **98%** respectively, both before and after tuning, showing strong, balanced performance across both classes.\n",
    "5. **Weighted Average** precision, recall, and F1-score are **99%**, **99%**, and **99%** respectively, showing excellent performance when considering class distribution.\n",
    "6. **ROC AUC** after tuning is **0.9994**, which is an exceptionally high value, indicating the model's ability to distinguish between approved and rejected instances with almost perfect separation.\n",
    "\n",
    "---\n",
    "\n",
    "### Key Observations:\n",
    "\n",
    "- **For Rejected (class 0)**: The model performs very well with **high precision** and **high recall**, meaning it can accurately predict rejected instances while minimizing false positives and false negatives.\n",
    "- **For Approved (class 1)**: The model has **97% precision** and **97% recall**, showing strong consistency and reliability in predicting approved instances, with a slight improvement after tuning.\n",
    "- **ROC AUC** is very high at **0.9994**, signifying near-perfect ability to distinguish between approved and rejected instances, slightly better after tuning compared to before.\n",
    "\n",
    "---\n",
    "\n",
    "### Conclusion:\n",
    "\n",
    "- **No significant change**: After hyperparameter tuning, the model's performance in terms of precision, recall, F1-score, accuracy, and ROC AUC did not change dramatically. However, there was a slight improvement in precision for **approved (class 1)**, which indicates a marginal gain after tuning.\n",
    "- The **ROC AUC of 0.9994** confirms that the model still has an **outstanding ability** to separate the two classes (Approved and Rejected) with almost perfect accuracy.\n",
    "- **Hyperparameter tuning** resulted in a very small performance increase, confirming that the model was already performing optimally. The model remains highly accurate and reliable for predicting approval decisions.\n",
    "\n",
    "---\n",
    "\n",
    "### Is the Model Overfitting or Underfitting?\n",
    "\n",
    "- The model shows **no signs of overfitting or underfitting**. Both the training and test data performance are **consistent**, with only a very minor difference in performance between them, which is normal for high-performing models.\n",
    "- **High accuracy**, **high precision**, **high recall**, and **ROC AUC** values across both training and test data confirm the model's ability to generalize well to unseen data without overfitting.\n",
    "\n",
    "---\n",
    "\n",
    "### Use the Hyperparameter-Tuned Model!\n",
    "\n",
    "- Given that the model’s performance has slightly improved after tuning (especially for class 1), the **hyperparameter-tuned model** can be used. The **ROC-AUC** is slightly better than before tuning, confirming that the model is even more capable of distinguishing between classes. The results are consistent and optimal for accurate predictions. Thus, the model is ready for deployment with enhanced performance.\n"
   ]
  },
  {
   "cell_type": "code",
   "execution_count": 52,
   "id": "fa5a9092",
   "metadata": {},
   "outputs": [
    {
     "name": "stdout",
     "output_type": "stream",
     "text": [
      "Average Credit Score based on Approval:\n",
      "Approval\n",
      "0    550.875224\n",
      "1    701.565045\n",
      "Name: Credit_Score, dtype: float64\n",
      "\n",
      "Average DTI Ratio based on Approval:\n",
      "Approval\n",
      "0    33.372795\n",
      "1    21.951578\n",
      "Name: DTI_Ratio, dtype: float64\n"
     ]
    },
    {
     "data": {
      "image/png": "[encoded data removed]",
      "text/plain": [
       "<Figure size 1000x400 with 1 Axes>"
      ]
     },
     "metadata": {},
     "output_type": "display_data"
    },
    {
     "data": {
      "image/png": "[encoded data removed]",
      "text/plain": [
       "<Figure size 1000x400 with 1 Axes>"
      ]
     },
     "metadata": {},
     "output_type": "display_data"
    }
   ],
   "source": [
    "# Recombine features and targets for analysis\n",
    "train_data = feature_dataset_train.copy()\n",
    "train_data['Approval'] = target_dataset_train.values\n",
    "\n",
    "# Display average Credit Score and DTI Ratio based on Approval\n",
    "print(\"Average Credit Score based on Approval:\")\n",
    "print(train_data.groupby('Approval')['Credit_Score'].mean())\n",
    "\n",
    "print(\"\\nAverage DTI Ratio based on Approval:\")\n",
    "print(train_data.groupby('Approval')['DTI_Ratio'].mean())\n",
    "\n",
    "# --- Credit Score Visualization ---\n",
    "plt.figure(figsize=(10, 4))\n",
    "sns.kdeplot(train_data[train_data['Approval'] == 1]['Credit_Score'], label='Approved', shade=True)\n",
    "sns.kdeplot(train_data[train_data['Approval'] == 0]['Credit_Score'], label='Rejected', shade=True)\n",
    "plt.title('Credit Score Distribution based on Approval')\n",
    "plt.xlabel('Credit Score')\n",
    "plt.ylabel('Density')\n",
    "plt.legend()\n",
    "plt.grid(True)\n",
    "plt.show()\n",
    "\n",
    "# --- DTI Ratio Visualization ---\n",
    "plt.figure(figsize=(10, 4))\n",
    "sns.kdeplot(train_data[train_data['Approval'] == 1]['DTI_Ratio'], label='Approved', shade=True)\n",
    "sns.kdeplot(train_data[train_data['Approval'] == 0]['DTI_Ratio'], label='Rejected', shade=True)\n",
    "plt.title('DTI Ratio Distribution based on Approval')\n",
    "plt.xlabel('DTI Ratio')\n",
    "plt.ylabel('Density')\n",
    "plt.legend()\n",
    "plt.grid(True)\n",
    "plt.show()"
   ]
  },
  {
   "cell_type": "markdown",
   "id": "80b44500",
   "metadata": {},
   "source": [
    "---\n",
    "### 1. Credit Score\n",
    "\n",
    "- **Curve for Approved (blue)**: Centered around high credit scores (around 700–800).\n",
    "- **Curve for Rejected (orange)**: Centered around low credit scores (around 400–600).\n",
    "\n",
    "**Concordance**:\n",
    "- **Average Credit Score of Approved**: 701.565045\n",
    "- The Approved curve is indeed centered around this value.\n",
    "- **Average Credit Score of Rejected**: 550.875224\n",
    "- The Rejected curve also matches this average.\n",
    "\n",
    "**Conclusion**:\n",
    "- The Credit Score visualization closely matches the statistics provided. The distribution of the KDE curves reflects that borrowers with higher credit scores are more likely to get loan approvals.\n",
    "\n",
    "---\n",
    "\n",
    "### 2. DTI Ratio\n",
    "\n",
    "- **Curve for Approved (blue)**: Centered around low DTI Ratios (around 0–20).\n",
    "- **Curve for Rejected (orange)**: Centered around higher DTI Ratios (around 0–50), but with a long tail to very high values ​​(e.g. >80).\n",
    "\n",
    "**Concordance**:\n",
    "- **Approved Average DTI Ratio**: 21.951578\n",
    "- The Approved curve is indeed centered around this value.\n",
    "- **Rejected Average DTI Ratio**: 33.372795\n",
    "- The Rejected curve also fits this average, although there are outliers at very high DTI Ratio values."
   ]
  },
  {
   "cell_type": "markdown",
   "id": "6fb52a3f",
   "metadata": {},
   "source": [
    "> ## FINAL DECISION!\n",
    "\n",
    "### **Why KNN Default is the Best Option:**\n",
    "\n",
    "The **K-Nearest Neighbors (KNN)** model is often chosen for its simplicity, efficiency, and high performance in many machine learning tasks. Here’s why the **default KNN** settings may be the best option for your model:\n",
    "\n",
    "#### **1. High Performance from the Start:**\n",
    "- **Accuracy and ROC AUC**: The default KNN model already achieves a **99% accuracy** and an exceptional **0.996 ROC AUC**. These results indicate that the model performs excellently in distinguishing between classes without needing further adjustments.\n",
    "- **Precision and Recall**: For both the **Rejected (class 0)** and **Approved (class 1)** classes, the model maintains very high **precision (99%)** and **recall (97%)**. This shows that KNN effectively minimizes both false positives and false negatives right out of the gate.\n",
    "\n",
    "#### **2. No Need for Hyperparameter Tuning:**\n",
    "- **Stable Performance**: After hyperparameter tuning, the results of KNN do not change significantly. This suggests that the default settings already provide an optimal balance of performance across all metrics (accuracy, precision, recall, and ROC AUC).\n",
    "- **Simplicity and Efficiency**: The default KNN model does not require additional tuning steps, making it a **simple and efficient choice** for many applications. This is particularly useful when model interpretability and training time are important considerations.\n",
    "\n",
    "#### **3. Robust Across Various Datasets:**\n",
    "- **Consistency**: KNN’s default parameters—such as the number of neighbors (k) and distance metric—are robust and typically work well in a wide range of datasets. The model does not overfit or underfit in most cases, making it an excellent starting point for classification tasks.\n",
    "\n",
    "#### **4. Easy to Implement and Interpret:**\n",
    "- **User-friendly**: The simplicity of KNN, where the algorithm only requires a small number of parameters, makes it **easy to implement and interpret**. This is particularly beneficial for users with limited experience in hyperparameter tuning or model complexity.\n",
    "- **Intuitive Understanding**: The KNN algorithm is conceptually simple, as it classifies data points based on their proximity to others. This intuitive approach ensures that the model’s predictions are easy to explain and understand.\n",
    "\n",
    "#### **5. Avoiding Unnecessary Complexity:**\n",
    "- **No Extra Tuning Complexity**: Since the performance of the default KNN model is already excellent, attempting to fine-tune its parameters would introduce unnecessary complexity without significant improvements. Using the default model keeps the process straightforward and computationally efficient.\n",
    "- **Efficiency**: Hyperparameter tuning can be computationally expensive and time-consuming, especially for large datasets. By using the default settings, you save time and resources while achieving high-quality results.\n",
    "\n",
    "#### **Conclusion:**\n",
    "The **KNN default** model is the **best option** because it already provides **excellent performance** across key metrics like accuracy, precision, recall, and ROC AUC. It does not require extensive hyperparameter tuning, saving you time while still delivering high-quality predictions. Its simplicity, robustness, and efficiency make it a great starting point for classification tasks, especially when the goal is to balance accuracy with ease of implementation.\n"
   ]
  },
  {
   "cell_type": "markdown",
   "id": "e2c30174",
   "metadata": {},
   "source": [
    "> ### Model Deployment"
   ]
  },
  {
   "cell_type": "markdown",
   "id": "00b637c1",
   "metadata": {},
   "source": [
    "- KNN"
   ]
  },
  {
   "cell_type": "code",
   "execution_count": 53,
   "id": "2f08c9dd",
   "metadata": {},
   "outputs": [],
   "source": [
    "# import joblib\n",
    "\n",
    "# # Assuming the tuned model is stored in 'knn_clf_gridcv.best_estimator_'\n",
    "# joblib.dump(knn_clf_default, 'knn_model.pkl')\n"
   ]
  },
  {
   "cell_type": "markdown",
   "id": "22bce06f",
   "metadata": {},
   "source": [
    "- Random Forest"
   ]
  },
  {
   "cell_type": "code",
   "execution_count": null,
   "id": "7b167a3a",
   "metadata": {},
   "outputs": [
    {
     "data": {
      "text/plain": [
       "['rf_model.pkl']"
      ]
     },
     "execution_count": 54,
     "metadata": {},
     "output_type": "execute_result"
    }
   ],
   "source": [
    "# import joblib\n",
    "\n",
    "# # Assuming the tuned model is stored in 'knn_clf_gridcv.best_estimator_'\n",
    "# joblib.dump(rf_clf_gridcv.best_estimator_, 'rf_model.pkl')"
   ]
  },
  {
   "cell_type": "code",
   "execution_count": 55,
   "id": "2af451c6",
   "metadata": {},
   "outputs": [],
   "source": [
    "# joblib.dump(scaler, 'scaler.pkl')\n"
   ]
  }
 ],
 "metadata": {
  "kernelspec": {
   "display_name": "Python 3",
   "language": "python",
   "name": "python3"
  },
  "language_info": {
   "codemirror_mode": {
    "name": "ipython",
    "version": 3
   },
   "file_extension": ".py",
   "mimetype": "text/x-python",
   "name": "python",
   "nbconvert_exporter": "python",
   "pygments_lexer": "ipython3",
   "version": "3.9.10"
  }
 },
 "nbformat": 4,
 "nbformat_minor": 5
}
