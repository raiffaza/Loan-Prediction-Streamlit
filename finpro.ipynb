{
 "cells": [
  {
   "cell_type": "markdown",
   "id": "f9922382",
   "metadata": {},
   "source": [
    "> ## Business Problem\n",
    "\n",
    "Companies or financial institutions need to determine whether a loan application from a potential borrower should be approved or rejected. This process is important to minimize the risk of non-performing loans and ensure that only financially viable borrowers are approved. If done manually, this process can be time-consuming, prone to bias, and inefficient, especially if the volume of applications is high.\n",
    "\n",
    "> ## Purpose of Machine Learning\n",
    "\n",
    "The purpose of using machine learning in this case is to automate the loan application evaluation process by building a predictive model that can classify loan applications into two categories: `Approved` or `Rejected`. The model uses features such as Income, Credit Score, Loan Amount, DTI Ratio, and Employment Status to predict loan eligibility.\n",
    "\n",
    "Specifically, the machine learning objectives of this project are:\n",
    "- Help decide automatically whether a loan application will be approved or rejected based on the prospective borrower's data.\n",
    "- Improve accuracy and consistency in the loan approval process by reducing human subjectivity and bias.\n",
    "- Speed up the loan application evaluation process so that it is more efficient and scalable.\n",
    "\n",
    "The model used is `K-Nearest Neighbors (KNN)`, which has been optimized with GridSearchCV to determine the best parameters, and trained to recognize patterns from historical loan application data with the label `Approved` or `Rejected`.\n",
    "\n",
    "----"
   ]
  },
  {
   "cell_type": "markdown",
   "id": "febc3aa6",
   "metadata": {},
   "source": [
    "> ### Import Library"
   ]
  },
  {
   "cell_type": "code",
   "execution_count": 1,
   "id": "81d09200",
   "metadata": {},
   "outputs": [],
   "source": [
    "import warnings\n",
    "warnings.filterwarnings('ignore')\n",
    "\n",
    "import numpy as np\n",
    "import pandas as pd\n",
    "import seaborn as sns\n",
    "import matplotlib.pyplot as plt\n",
    "%matplotlib inline\n",
    "from sklearn.impute import KNNImputer\n",
    "from sklearn.preprocessing import StandardScaler\n",
    "from sklearn.cluster import KMeans\n",
    "from sklearn.metrics import classification_report, roc_auc_score\n",
    "\n",
    "\n",
    "pd.set_option(\"display.max_columns\", None) #untuk menampilkan semua kolom dataframe\n",
    "pd.set_option(\"display.max_rows\", None) #untuk menampilkan semua baris dataframe"
   ]
  },
  {
   "cell_type": "markdown",
   "id": "40501d78",
   "metadata": {},
   "source": [
    "> ### Load the dataset"
   ]
  },
  {
   "cell_type": "code",
   "execution_count": 2,
   "id": "c697808a",
   "metadata": {},
   "outputs": [
    {
     "data": {
      "text/html": [
       "<div>\n",
       "<style scoped>\n",
       "    .dataframe tbody tr th:only-of-type {\n",
       "        vertical-align: middle;\n",
       "    }\n",
       "\n",
       "    .dataframe tbody tr th {\n",
       "        vertical-align: top;\n",
       "    }\n",
       "\n",
       "    .dataframe thead th {\n",
       "        text-align: right;\n",
       "    }\n",
       "</style>\n",
       "<table border=\"1\" class=\"dataframe\">\n",
       "  <thead>\n",
       "    <tr style=\"text-align: right;\">\n",
       "      <th></th>\n",
       "      <th>Text</th>\n",
       "      <th>Income</th>\n",
       "      <th>Credit_Score</th>\n",
       "      <th>Loan_Amount</th>\n",
       "      <th>DTI_Ratio</th>\n",
       "      <th>Employment_Status</th>\n",
       "      <th>Approval</th>\n",
       "    </tr>\n",
       "  </thead>\n",
       "  <tbody>\n",
       "    <tr>\n",
       "      <th>0</th>\n",
       "      <td>I need a loan to pay for an international vaca...</td>\n",
       "      <td>26556</td>\n",
       "      <td>581</td>\n",
       "      <td>8314</td>\n",
       "      <td>79.26</td>\n",
       "      <td>employed</td>\n",
       "      <td>Rejected</td>\n",
       "    </tr>\n",
       "    <tr>\n",
       "      <th>1</th>\n",
       "      <td>I want to make home improvements like installi...</td>\n",
       "      <td>197392</td>\n",
       "      <td>389</td>\n",
       "      <td>111604</td>\n",
       "      <td>22.14</td>\n",
       "      <td>employed</td>\n",
       "      <td>Rejected</td>\n",
       "    </tr>\n",
       "    <tr>\n",
       "      <th>2</th>\n",
       "      <td>I need a loan for home renovation, including a...</td>\n",
       "      <td>44561</td>\n",
       "      <td>523</td>\n",
       "      <td>34118</td>\n",
       "      <td>45.44</td>\n",
       "      <td>employed</td>\n",
       "      <td>Rejected</td>\n",
       "    </tr>\n",
       "    <tr>\n",
       "      <th>3</th>\n",
       "      <td>I need funds to buy new furniture and applianc...</td>\n",
       "      <td>190363</td>\n",
       "      <td>729</td>\n",
       "      <td>118757</td>\n",
       "      <td>10.22</td>\n",
       "      <td>unemployed</td>\n",
       "      <td>Rejected</td>\n",
       "    </tr>\n",
       "    <tr>\n",
       "      <th>4</th>\n",
       "      <td>I need a loan to start a small business.</td>\n",
       "      <td>61853</td>\n",
       "      <td>732</td>\n",
       "      <td>19210</td>\n",
       "      <td>44.13</td>\n",
       "      <td>employed</td>\n",
       "      <td>Approved</td>\n",
       "    </tr>\n",
       "  </tbody>\n",
       "</table>\n",
       "</div>"
      ],
      "text/plain": [
       "                                                Text  Income  Credit_Score  \\\n",
       "0  I need a loan to pay for an international vaca...   26556           581   \n",
       "1  I want to make home improvements like installi...  197392           389   \n",
       "2  I need a loan for home renovation, including a...   44561           523   \n",
       "3  I need funds to buy new furniture and applianc...  190363           729   \n",
       "4           I need a loan to start a small business.   61853           732   \n",
       "\n",
       "   Loan_Amount  DTI_Ratio Employment_Status  Approval  \n",
       "0         8314      79.26          employed  Rejected  \n",
       "1       111604      22.14          employed  Rejected  \n",
       "2        34118      45.44          employed  Rejected  \n",
       "3       118757      10.22        unemployed  Rejected  \n",
       "4        19210      44.13          employed  Approved  "
      ]
     },
     "execution_count": 2,
     "metadata": {},
     "output_type": "execute_result"
    }
   ],
   "source": [
    "df = pd.read_csv('loan_data.csv')\n",
    "df.head()"
   ]
  },
  {
   "cell_type": "markdown",
   "id": "21019368",
   "metadata": {},
   "source": [
    "> ### Dataset Explanation\n",
    "---\n",
    "### 🔍 Dataset Overview\n",
    "The dataset consists of 24,000 entries and 7 columns:\n",
    "- `Text` (string): User-provided reason for requesting a loan.\n",
    "- `Income` (numeric): Applicant's income.\n",
    "- `Credit_Score` (numeric): Applicant’s credit score.\n",
    "- `Loan_Amount` (numeric): Amount of loan requested.\n",
    "- `DTI_Ratio` (numeric): Debt-to-Income ratio.\n",
    "- `Employment_Status` (categorical): Employment status (`employed` / `unemployed`).\n",
    "- `Approval` (categorical): Target variable – whether the loan was `Approved` or `Rejected`.\n",
    "---"
   ]
  },
  {
   "cell_type": "markdown",
   "id": "cb690ff3",
   "metadata": {},
   "source": [
    "> ### Goals!\n",
    "The primary goal of this project is to build a machine learning model that can predict whether a loan application will be accepted or rejected based on available information such as income, credit score, loan amount, and employment status.\n",
    "\n"
   ]
  },
  {
   "cell_type": "code",
   "execution_count": 3,
   "id": "6a656828",
   "metadata": {},
   "outputs": [
    {
     "data": {
      "text/plain": [
       "Approval\n",
       "Rejected    20067\n",
       "Approved     3933\n",
       "Name: count, dtype: int64"
      ]
     },
     "execution_count": 3,
     "metadata": {},
     "output_type": "execute_result"
    }
   ],
   "source": [
    "df['Approval'].value_counts()"
   ]
  },
  {
   "cell_type": "code",
   "execution_count": 37,
   "id": "4a78e90e",
   "metadata": {},
   "outputs": [
    {
     "data": {
      "image/png": "[encoded data removed]",
      "text/plain": [
       "<Figure size 1200x600 with 2 Axes>"
      ]
     },
     "metadata": {},
     "output_type": "display_data"
    }
   ],
   "source": [
    "import matplotlib.pyplot as plt\n",
    "import seaborn as sns\n",
    "\n",
    "# Convert 'Approval' column to a numeric binary value for easier plotting\n",
    "df['Approval_Binary'] = df['Approval'].apply(lambda x: 1 if x == 'Approved' else 0)\n",
    "\n",
    "# Set up the figure for subplots\n",
    "plt.figure(figsize=(12, 6))\n",
    "\n",
    "# Plot Credit Score vs Approval\n",
    "plt.subplot(1, 2, 1)\n",
    "sns.boxplot(x='Approval', y='Credit_Score', data=df)\n",
    "plt.title('Credit Score Distribution by Loan Approval')\n",
    "\n",
    "# Plot DTI Ratio vs Approval\n",
    "plt.subplot(1, 2, 2)\n",
    "sns.boxplot(x='Approval', y='DTI_Ratio', data=df)\n",
    "plt.title('DTI Ratio Distribution by Loan Approval')\n",
    "\n",
    "# Show the plots\n",
    "plt.tight_layout()\n",
    "plt.show()\n"
   ]
  },
  {
   "cell_type": "markdown",
   "id": "515d6f9f",
   "metadata": {},
   "source": [
    "- The majority of customers, the loan are being rejected!"
   ]
  },
  {
   "cell_type": "markdown",
   "id": "a887fa95",
   "metadata": {},
   "source": [
    "> ### Drop the column that not gonna be used"
   ]
  },
  {
   "cell_type": "code",
   "execution_count": 4,
   "id": "ad683a26",
   "metadata": {},
   "outputs": [],
   "source": [
    "# Remove 'customerID' as it is not informative for modeling\n",
    "df.drop(columns=['Text'], inplace=True)"
   ]
  },
  {
   "cell_type": "code",
   "execution_count": 5,
   "id": "e9644219",
   "metadata": {},
   "outputs": [
    {
     "data": {
      "text/html": [
       "<div>\n",
       "<style scoped>\n",
       "    .dataframe tbody tr th:only-of-type {\n",
       "        vertical-align: middle;\n",
       "    }\n",
       "\n",
       "    .dataframe tbody tr th {\n",
       "        vertical-align: top;\n",
       "    }\n",
       "\n",
       "    .dataframe thead th {\n",
       "        text-align: right;\n",
       "    }\n",
       "</style>\n",
       "<table border=\"1\" class=\"dataframe\">\n",
       "  <thead>\n",
       "    <tr style=\"text-align: right;\">\n",
       "      <th></th>\n",
       "      <th>Income</th>\n",
       "      <th>Credit_Score</th>\n",
       "      <th>Loan_Amount</th>\n",
       "      <th>DTI_Ratio</th>\n",
       "      <th>Employment_Status</th>\n",
       "      <th>Approval</th>\n",
       "    </tr>\n",
       "  </thead>\n",
       "  <tbody>\n",
       "    <tr>\n",
       "      <th>0</th>\n",
       "      <td>26556</td>\n",
       "      <td>581</td>\n",
       "      <td>8314</td>\n",
       "      <td>79.26</td>\n",
       "      <td>employed</td>\n",
       "      <td>Rejected</td>\n",
       "    </tr>\n",
       "    <tr>\n",
       "      <th>1</th>\n",
       "      <td>197392</td>\n",
       "      <td>389</td>\n",
       "      <td>111604</td>\n",
       "      <td>22.14</td>\n",
       "      <td>employed</td>\n",
       "      <td>Rejected</td>\n",
       "    </tr>\n",
       "    <tr>\n",
       "      <th>2</th>\n",
       "      <td>44561</td>\n",
       "      <td>523</td>\n",
       "      <td>34118</td>\n",
       "      <td>45.44</td>\n",
       "      <td>employed</td>\n",
       "      <td>Rejected</td>\n",
       "    </tr>\n",
       "    <tr>\n",
       "      <th>3</th>\n",
       "      <td>190363</td>\n",
       "      <td>729</td>\n",
       "      <td>118757</td>\n",
       "      <td>10.22</td>\n",
       "      <td>unemployed</td>\n",
       "      <td>Rejected</td>\n",
       "    </tr>\n",
       "    <tr>\n",
       "      <th>4</th>\n",
       "      <td>61853</td>\n",
       "      <td>732</td>\n",
       "      <td>19210</td>\n",
       "      <td>44.13</td>\n",
       "      <td>employed</td>\n",
       "      <td>Approved</td>\n",
       "    </tr>\n",
       "  </tbody>\n",
       "</table>\n",
       "</div>"
      ],
      "text/plain": [
       "   Income  Credit_Score  Loan_Amount  DTI_Ratio Employment_Status  Approval\n",
       "0   26556           581         8314      79.26          employed  Rejected\n",
       "1  197392           389       111604      22.14          employed  Rejected\n",
       "2   44561           523        34118      45.44          employed  Rejected\n",
       "3  190363           729       118757      10.22        unemployed  Rejected\n",
       "4   61853           732        19210      44.13          employed  Approved"
      ]
     },
     "execution_count": 5,
     "metadata": {},
     "output_type": "execute_result"
    }
   ],
   "source": [
    "df.head()"
   ]
  },
  {
   "cell_type": "code",
   "execution_count": 6,
   "id": "02b9b59b",
   "metadata": {},
   "outputs": [
    {
     "data": {
      "text/html": [
       "<div>\n",
       "<style scoped>\n",
       "    .dataframe tbody tr th:only-of-type {\n",
       "        vertical-align: middle;\n",
       "    }\n",
       "\n",
       "    .dataframe tbody tr th {\n",
       "        vertical-align: top;\n",
       "    }\n",
       "\n",
       "    .dataframe thead th {\n",
       "        text-align: right;\n",
       "    }\n",
       "</style>\n",
       "<table border=\"1\" class=\"dataframe\">\n",
       "  <thead>\n",
       "    <tr style=\"text-align: right;\">\n",
       "      <th></th>\n",
       "      <th>Income</th>\n",
       "      <th>Credit_Score</th>\n",
       "      <th>Loan_Amount</th>\n",
       "      <th>DTI_Ratio</th>\n",
       "      <th>Employment_Status</th>\n",
       "      <th>Approval</th>\n",
       "    </tr>\n",
       "  </thead>\n",
       "  <tbody>\n",
       "    <tr>\n",
       "      <th>23995</th>\n",
       "      <td>195242</td>\n",
       "      <td>817</td>\n",
       "      <td>16403</td>\n",
       "      <td>24.32</td>\n",
       "      <td>employed</td>\n",
       "      <td>Approved</td>\n",
       "    </tr>\n",
       "    <tr>\n",
       "      <th>23996</th>\n",
       "      <td>150246</td>\n",
       "      <td>729</td>\n",
       "      <td>101572</td>\n",
       "      <td>9.97</td>\n",
       "      <td>employed</td>\n",
       "      <td>Rejected</td>\n",
       "    </tr>\n",
       "    <tr>\n",
       "      <th>23997</th>\n",
       "      <td>64571</td>\n",
       "      <td>650</td>\n",
       "      <td>30533</td>\n",
       "      <td>57.35</td>\n",
       "      <td>employed</td>\n",
       "      <td>Rejected</td>\n",
       "    </tr>\n",
       "    <tr>\n",
       "      <th>23998</th>\n",
       "      <td>115825</td>\n",
       "      <td>418</td>\n",
       "      <td>89837</td>\n",
       "      <td>10.37</td>\n",
       "      <td>unemployed</td>\n",
       "      <td>Rejected</td>\n",
       "    </tr>\n",
       "    <tr>\n",
       "      <th>23999</th>\n",
       "      <td>180440</td>\n",
       "      <td>769</td>\n",
       "      <td>15259</td>\n",
       "      <td>15.06</td>\n",
       "      <td>employed</td>\n",
       "      <td>Approved</td>\n",
       "    </tr>\n",
       "  </tbody>\n",
       "</table>\n",
       "</div>"
      ],
      "text/plain": [
       "       Income  Credit_Score  Loan_Amount  DTI_Ratio Employment_Status  \\\n",
       "23995  195242           817        16403      24.32          employed   \n",
       "23996  150246           729       101572       9.97          employed   \n",
       "23997   64571           650        30533      57.35          employed   \n",
       "23998  115825           418        89837      10.37        unemployed   \n",
       "23999  180440           769        15259      15.06          employed   \n",
       "\n",
       "       Approval  \n",
       "23995  Approved  \n",
       "23996  Rejected  \n",
       "23997  Rejected  \n",
       "23998  Rejected  \n",
       "23999  Approved  "
      ]
     },
     "execution_count": 6,
     "metadata": {},
     "output_type": "execute_result"
    }
   ],
   "source": [
    "df.tail()"
   ]
  },
  {
   "cell_type": "markdown",
   "id": "e647eb1f",
   "metadata": {},
   "source": [
    "> ### Check Duplicated Data"
   ]
  },
  {
   "cell_type": "code",
   "execution_count": 7,
   "id": "c0b8172f",
   "metadata": {},
   "outputs": [
    {
     "data": {
      "text/plain": [
       "1.0"
      ]
     },
     "execution_count": 7,
     "metadata": {},
     "output_type": "execute_result"
    }
   ],
   "source": [
    "len(df.drop_duplicates()) / len(df)"
   ]
  },
  {
   "cell_type": "markdown",
   "id": "e487fd51",
   "metadata": {},
   "source": [
    "- The dataset are safe from duplicated data!"
   ]
  },
  {
   "cell_type": "markdown",
   "id": "241a797e",
   "metadata": {},
   "source": [
    "> ### Check Missing Values"
   ]
  },
  {
   "cell_type": "code",
   "execution_count": 8,
   "id": "de05f3ee",
   "metadata": {},
   "outputs": [
    {
     "name": "stdout",
     "output_type": "stream",
     "text": [
      "Income               0\n",
      "Credit_Score         0\n",
      "Loan_Amount          0\n",
      "DTI_Ratio            0\n",
      "Employment_Status    0\n",
      "Approval             0\n",
      "dtype: int64\n"
     ]
    }
   ],
   "source": [
    "print(df.isnull().sum())"
   ]
  },
  {
   "cell_type": "markdown",
   "id": "1df873f9",
   "metadata": {},
   "source": [
    "- The dataset are safe from missing value!"
   ]
  },
  {
   "cell_type": "markdown",
   "id": "acd9a12e",
   "metadata": {},
   "source": [
    "> ### Categorical Columns"
   ]
  },
  {
   "cell_type": "code",
   "execution_count": 9,
   "id": "43da0df8",
   "metadata": {},
   "outputs": [],
   "source": [
    "categorical_columns = [\n",
    "    'Employment_Status', 'Approval'\n",
    "]"
   ]
  },
  {
   "cell_type": "markdown",
   "id": "a2d1cb7a",
   "metadata": {},
   "source": [
    "> ### Numerical Columns"
   ]
  },
  {
   "cell_type": "code",
   "execution_count": 10,
   "id": "8b9369db",
   "metadata": {},
   "outputs": [],
   "source": [
    "# Define numerical columns\n",
    "numerical_columns = ['Income','Credit_Score','Loan_Amount','DTI_Ratio']\n",
    "\t\t\t"
   ]
  },
  {
   "cell_type": "markdown",
   "id": "d5892a32",
   "metadata": {},
   "source": [
    "> ### Target Distribution"
   ]
  },
  {
   "cell_type": "code",
   "execution_count": 11,
   "id": "d10619ce",
   "metadata": {},
   "outputs": [
    {
     "data": {
      "image/png": "[encoded data removed]",
      "text/plain": [
       "<Figure size 600x400 with 1 Axes>"
      ]
     },
     "metadata": {},
     "output_type": "display_data"
    }
   ],
   "source": [
    "# Plot the distribution of the target variable\n",
    "plt.figure(figsize=(6, 4))\n",
    "sns.countplot(x='Approval', data=df)\n",
    "plt.title('Target Variable Distribution: Approval')\n",
    "plt.xlabel('Approval')\n",
    "plt.ylabel('Count')\n",
    "plt.tight_layout()\n",
    "plt.show()"
   ]
  },
  {
   "cell_type": "markdown",
   "id": "6c3efc79",
   "metadata": {},
   "source": [
    "- Conclusion\n",
    "    - The bar chart shows the class distribution of the target variable (likely \"Loan Approval\" or similar).\n",
    "    - There are two classes: \"Rejected\" and \"Approved\" .\n",
    "    - The \"Rejected\" class is significantly more frequent than the \"Approved\" class.\n",
    "    - This indicates a clear class imbalance , which may affect model performance if not handled properl"
   ]
  },
  {
   "cell_type": "code",
   "execution_count": 12,
   "id": "c256fd25",
   "metadata": {},
   "outputs": [
    {
     "data": {
      "text/html": [
       "<div>\n",
       "<style scoped>\n",
       "    .dataframe tbody tr th:only-of-type {\n",
       "        vertical-align: middle;\n",
       "    }\n",
       "\n",
       "    .dataframe tbody tr th {\n",
       "        vertical-align: top;\n",
       "    }\n",
       "\n",
       "    .dataframe thead th {\n",
       "        text-align: right;\n",
       "    }\n",
       "</style>\n",
       "<table border=\"1\" class=\"dataframe\">\n",
       "  <thead>\n",
       "    <tr style=\"text-align: right;\">\n",
       "      <th></th>\n",
       "      <th>Income</th>\n",
       "      <th>Credit_Score</th>\n",
       "      <th>Loan_Amount</th>\n",
       "      <th>DTI_Ratio</th>\n",
       "      <th>Employment_Status</th>\n",
       "      <th>Approval</th>\n",
       "    </tr>\n",
       "  </thead>\n",
       "  <tbody>\n",
       "    <tr>\n",
       "      <th>0</th>\n",
       "      <td>26556</td>\n",
       "      <td>581</td>\n",
       "      <td>8314</td>\n",
       "      <td>79.26</td>\n",
       "      <td>employed</td>\n",
       "      <td>Rejected</td>\n",
       "    </tr>\n",
       "    <tr>\n",
       "      <th>1</th>\n",
       "      <td>197392</td>\n",
       "      <td>389</td>\n",
       "      <td>111604</td>\n",
       "      <td>22.14</td>\n",
       "      <td>employed</td>\n",
       "      <td>Rejected</td>\n",
       "    </tr>\n",
       "    <tr>\n",
       "      <th>2</th>\n",
       "      <td>44561</td>\n",
       "      <td>523</td>\n",
       "      <td>34118</td>\n",
       "      <td>45.44</td>\n",
       "      <td>employed</td>\n",
       "      <td>Rejected</td>\n",
       "    </tr>\n",
       "    <tr>\n",
       "      <th>3</th>\n",
       "      <td>190363</td>\n",
       "      <td>729</td>\n",
       "      <td>118757</td>\n",
       "      <td>10.22</td>\n",
       "      <td>unemployed</td>\n",
       "      <td>Rejected</td>\n",
       "    </tr>\n",
       "    <tr>\n",
       "      <th>4</th>\n",
       "      <td>61853</td>\n",
       "      <td>732</td>\n",
       "      <td>19210</td>\n",
       "      <td>44.13</td>\n",
       "      <td>employed</td>\n",
       "      <td>Approved</td>\n",
       "    </tr>\n",
       "  </tbody>\n",
       "</table>\n",
       "</div>"
      ],
      "text/plain": [
       "   Income  Credit_Score  Loan_Amount  DTI_Ratio Employment_Status  Approval\n",
       "0   26556           581         8314      79.26          employed  Rejected\n",
       "1  197392           389       111604      22.14          employed  Rejected\n",
       "2   44561           523        34118      45.44          employed  Rejected\n",
       "3  190363           729       118757      10.22        unemployed  Rejected\n",
       "4   61853           732        19210      44.13          employed  Approved"
      ]
     },
     "execution_count": 12,
     "metadata": {},
     "output_type": "execute_result"
    }
   ],
   "source": [
    "df.head()"
   ]
  },
  {
   "cell_type": "markdown",
   "id": "232ff8b8",
   "metadata": {},
   "source": [
    "> ### Data Manipulation, Feature Engineering\n",
    "- Encode the dataset with Label Encoder\n",
    "\n",
    "The reason why we using LabelEncoder because it is the best choice for binary and ordinal categorical variables in your dataset, as it preserves the relationship between categories and is computationally efficient."
   ]
  },
  {
   "cell_type": "code",
   "execution_count": 13,
   "id": "8022bcfb",
   "metadata": {},
   "outputs": [],
   "source": [
    "df['Approval'] = df['Approval'].apply(lambda x: 1 if x == 'Approved' else 0)\n",
    "df['Employment_Status'] = df['Employment_Status'].apply(lambda x: 1 if x == 'employed' else 0)"
   ]
  },
  {
   "cell_type": "code",
   "execution_count": 14,
   "id": "a542f5ca",
   "metadata": {},
   "outputs": [
    {
     "data": {
      "text/html": [
       "<div>\n",
       "<style scoped>\n",
       "    .dataframe tbody tr th:only-of-type {\n",
       "        vertical-align: middle;\n",
       "    }\n",
       "\n",
       "    .dataframe tbody tr th {\n",
       "        vertical-align: top;\n",
       "    }\n",
       "\n",
       "    .dataframe thead th {\n",
       "        text-align: right;\n",
       "    }\n",
       "</style>\n",
       "<table border=\"1\" class=\"dataframe\">\n",
       "  <thead>\n",
       "    <tr style=\"text-align: right;\">\n",
       "      <th></th>\n",
       "      <th>Income</th>\n",
       "      <th>Credit_Score</th>\n",
       "      <th>Loan_Amount</th>\n",
       "      <th>DTI_Ratio</th>\n",
       "      <th>Employment_Status</th>\n",
       "      <th>Approval</th>\n",
       "    </tr>\n",
       "  </thead>\n",
       "  <tbody>\n",
       "    <tr>\n",
       "      <th>0</th>\n",
       "      <td>26556</td>\n",
       "      <td>581</td>\n",
       "      <td>8314</td>\n",
       "      <td>79.26</td>\n",
       "      <td>1</td>\n",
       "      <td>0</td>\n",
       "    </tr>\n",
       "    <tr>\n",
       "      <th>1</th>\n",
       "      <td>197392</td>\n",
       "      <td>389</td>\n",
       "      <td>111604</td>\n",
       "      <td>22.14</td>\n",
       "      <td>1</td>\n",
       "      <td>0</td>\n",
       "    </tr>\n",
       "    <tr>\n",
       "      <th>2</th>\n",
       "      <td>44561</td>\n",
       "      <td>523</td>\n",
       "      <td>34118</td>\n",
       "      <td>45.44</td>\n",
       "      <td>1</td>\n",
       "      <td>0</td>\n",
       "    </tr>\n",
       "    <tr>\n",
       "      <th>3</th>\n",
       "      <td>190363</td>\n",
       "      <td>729</td>\n",
       "      <td>118757</td>\n",
       "      <td>10.22</td>\n",
       "      <td>0</td>\n",
       "      <td>0</td>\n",
       "    </tr>\n",
       "    <tr>\n",
       "      <th>4</th>\n",
       "      <td>61853</td>\n",
       "      <td>732</td>\n",
       "      <td>19210</td>\n",
       "      <td>44.13</td>\n",
       "      <td>1</td>\n",
       "      <td>1</td>\n",
       "    </tr>\n",
       "  </tbody>\n",
       "</table>\n",
       "</div>"
      ],
      "text/plain": [
       "   Income  Credit_Score  Loan_Amount  DTI_Ratio  Employment_Status  Approval\n",
       "0   26556           581         8314      79.26                  1         0\n",
       "1  197392           389       111604      22.14                  1         0\n",
       "2   44561           523        34118      45.44                  1         0\n",
       "3  190363           729       118757      10.22                  0         0\n",
       "4   61853           732        19210      44.13                  1         1"
      ]
     },
     "execution_count": 14,
     "metadata": {},
     "output_type": "execute_result"
    }
   ],
   "source": [
    "df.head()"
   ]
  },
  {
   "cell_type": "code",
   "execution_count": 15,
   "id": "514a36fc",
   "metadata": {},
   "outputs": [],
   "source": [
    "df.to_csv(\"X_train.csv\")"
   ]
  },
  {
   "cell_type": "markdown",
   "id": "9e1a2c41",
   "metadata": {},
   "source": [
    "---\n",
    "> ### Split the dataset"
   ]
  },
  {
   "cell_type": "code",
   "execution_count": 16,
   "id": "421b0d1a",
   "metadata": {},
   "outputs": [],
   "source": [
    "# split train test\n",
    "from sklearn.model_selection import train_test_split\n",
    "\n",
    "feature = df.drop(columns='Approval')\n",
    "target = df[['Approval']]\n",
    "\n",
    "# First splitting: pretrain and test\n",
    "feature_dataset_pretrain, feature_dataset_test, target_dataset_pretrain, target_dataset_test = train_test_split(feature, target, test_size=0.20, random_state=42)\n",
    "\n",
    "# Second splitting: train and validation\n",
    "feature_dataset_train, feature_dataset_validation, target_dataset_train, target_dataset_validation = train_test_split(feature_dataset_pretrain, target_dataset_pretrain, test_size=0.20, random_state=42)"
   ]
  },
  {
   "cell_type": "markdown",
   "id": "86ed75b5",
   "metadata": {},
   "source": [
    "> #### Check the outlier"
   ]
  },
  {
   "cell_type": "code",
   "execution_count": 17,
   "id": "46d6381c",
   "metadata": {},
   "outputs": [],
   "source": [
    "import scipy.stats as stats\n",
    "\n",
    "def check_plot(x_train, variable):\n",
    "    # fungsi mengambil kerangka data (df) dan\n",
    "    # variabel yang diminati sebagai argumen\n",
    "\n",
    "    # tentukan ukuran gambar\n",
    "    plt.figure(figsize=(16, 4))\n",
    "\n",
    "\n",
    "    # box plot\n",
    "    plt.subplot(1, 3, 3)\n",
    "    sns.boxplot(y=x_train[variable])\n",
    "    plt.title('Boxplot')\n",
    "\n",
    "    plt.show()"
   ]
  },
  {
   "cell_type": "code",
   "execution_count": 18,
   "id": "8b018258",
   "metadata": {},
   "outputs": [
    {
     "data": {
      "image/png": "[encoded data removed]",
      "text/plain": [
       "<Figure size 1600x400 with 1 Axes>"
      ]
     },
     "metadata": {},
     "output_type": "display_data"
    },
    {
     "data": {
      "image/png": "[encoded data removed]",
      "text/plain": [
       "<Figure size 1600x400 with 1 Axes>"
      ]
     },
     "metadata": {},
     "output_type": "display_data"
    },
    {
     "data": {
      "image/png": "[encoded data removed]",
      "text/plain": [
       "<Figure size 1600x400 with 1 Axes>"
      ]
     },
     "metadata": {},
     "output_type": "display_data"
    },
    {
     "data": {
      "image/png": "[encoded data removed]",
      "text/plain": [
       "<Figure size 1600x400 with 1 Axes>"
      ]
     },
     "metadata": {},
     "output_type": "display_data"
    }
   ],
   "source": [
    "numeric_columns = feature_dataset_train.select_dtypes(include=['number']).columns\n",
    "for col in numeric_columns:\n",
    "    if col in ['Income','Credit_Score','Loan_Amount','DTI_Ratio']:\n",
    "        check_plot(feature_dataset_train, col)"
   ]
  },
  {
   "cell_type": "markdown",
   "id": "64e54283",
   "metadata": {},
   "source": [
    "- There is outliers on loan_amount and DTI_ratio"
   ]
  },
  {
   "cell_type": "code",
   "execution_count": 19,
   "id": "5aa42c4f",
   "metadata": {},
   "outputs": [
    {
     "name": "stdout",
     "output_type": "stream",
     "text": [
      "Loan Amount column in training set: Min = 1005.0, Max = 138968.625\n",
      "Loan Amount column in test set: Min = 1010.0, Max = 138968.625\n",
      "DTI Ratio column in training set: Min = 2.53, Max = 82.84875\n",
      "DTI Ratio column in test set: Min = 2.62, Max = 82.84875\n"
     ]
    }
   ],
   "source": [
    "import numpy as np\n",
    "\n",
    "# Handle outliers for Loan Amount using IQR (Interquartile Range)\n",
    "Q1_loan = feature_dataset_train['Loan_Amount'].quantile(0.25)\n",
    "Q3_loan = feature_dataset_train['Loan_Amount'].quantile(0.75)\n",
    "IQR_loan = Q3_loan - Q1_loan\n",
    "lower_bound_loan = Q1_loan - 1.5 * IQR_loan\n",
    "upper_bound_loan = Q3_loan + 1.5 * IQR_loan\n",
    "\n",
    "# Cap outliers in the Loan Amount feature\n",
    "feature_dataset_train['Loan_Amount'] = np.where(feature_dataset_train['Loan_Amount'] < lower_bound_loan, lower_bound_loan,\n",
    "                                   np.where(feature_dataset_train['Loan_Amount'] > upper_bound_loan, upper_bound_loan, feature_dataset_train['Loan_Amount']))\n",
    "\n",
    "# Repeat the same for the test set\n",
    "feature_dataset_test['Loan_Amount'] = np.where(feature_dataset_test['Loan_Amount'] < lower_bound_loan, lower_bound_loan,\n",
    "                                  np.where(feature_dataset_test['Loan_Amount'] > upper_bound_loan, upper_bound_loan, feature_dataset_test['Loan_Amount']))\n",
    "\n",
    "# Handle outliers for DTI Ratio using IQR (Interquartile Range)\n",
    "Q1_dti = feature_dataset_train['DTI_Ratio'].quantile(0.25)\n",
    "Q3_dti = feature_dataset_train['DTI_Ratio'].quantile(0.75)\n",
    "IQR_dti = Q3_dti - Q1_dti\n",
    "lower_bound_dti = Q1_dti - 1.5 * IQR_dti\n",
    "upper_bound_dti = Q3_dti + 1.5 * IQR_dti\n",
    "\n",
    "# Cap outliers in the DTI Ratio feature\n",
    "feature_dataset_train['DTI_Ratio'] = np.where(feature_dataset_train['DTI_Ratio'] < lower_bound_dti, lower_bound_dti,\n",
    "                                 np.where(feature_dataset_train['DTI_Ratio'] > upper_bound_dti, upper_bound_dti, feature_dataset_train['DTI_Ratio']))\n",
    "\n",
    "# Repeat the same for the test set\n",
    "feature_dataset_test['DTI_Ratio'] = np.where(feature_dataset_test['DTI_Ratio'] < lower_bound_dti, lower_bound_dti,\n",
    "                                np.where(feature_dataset_test['DTI_Ratio'] > upper_bound_dti, upper_bound_dti, feature_dataset_test['DTI_Ratio']))\n",
    "\n",
    "# Check the values after capping outliers for Loan Amount and DTI Ratio\n",
    "print(f\"Loan Amount column in training set: Min = {feature_dataset_train['Loan_Amount'].min()}, Max = {feature_dataset_train['Loan_Amount'].max()}\")\n",
    "print(f\"Loan Amount column in test set: Min = {feature_dataset_test['Loan_Amount'].min()}, Max = {feature_dataset_test['Loan_Amount'].max()}\")\n",
    "print(f\"DTI Ratio column in training set: Min = {feature_dataset_train['DTI_Ratio'].min()}, Max = {feature_dataset_train['DTI_Ratio'].max()}\")\n",
    "print(f\"DTI Ratio column in test set: Min = {feature_dataset_test['DTI_Ratio'].min()}, Max = {feature_dataset_test['DTI_Ratio'].max()}\")\n"
   ]
  },
  {
   "cell_type": "code",
   "execution_count": 20,
   "id": "21e684cf",
   "metadata": {},
   "outputs": [
    {
     "data": {
      "image/png": "[encoded data removed]",
      "text/plain": [
       "<Figure size 1600x400 with 1 Axes>"
      ]
     },
     "metadata": {},
     "output_type": "display_data"
    },
    {
     "data": {
      "image/png": "[encoded data removed]",
      "text/plain": [
       "<Figure size 1600x400 with 1 Axes>"
      ]
     },
     "metadata": {},
     "output_type": "display_data"
    },
    {
     "data": {
      "image/png": "[encoded data removed]",
      "text/plain": [
       "<Figure size 1600x400 with 1 Axes>"
      ]
     },
     "metadata": {},
     "output_type": "display_data"
    },
    {
     "data": {
      "image/png": "[encoded data removed]",
      "text/plain": [
       "<Figure size 1600x400 with 1 Axes>"
      ]
     },
     "metadata": {},
     "output_type": "display_data"
    }
   ],
   "source": [
    "numeric_columns = feature_dataset_train.select_dtypes(include=['number']).columns\n",
    "for col in numeric_columns:\n",
    "    if col in ['Income','Credit_Score','Loan_Amount','DTI_Ratio']:\n",
    "        check_plot(feature_dataset_train, col)"
   ]
  },
  {
   "cell_type": "markdown",
   "id": "a5d7c8f9",
   "metadata": {},
   "source": [
    "- The dataset are safe from Outliers"
   ]
  },
  {
   "cell_type": "markdown",
   "id": "57d28e57",
   "metadata": {},
   "source": [
    "> ### Scaling"
   ]
  },
  {
   "cell_type": "code",
   "execution_count": 21,
   "id": "d771f744",
   "metadata": {},
   "outputs": [
    {
     "data": {
      "text/html": [
       "<div>\n",
       "<style scoped>\n",
       "    .dataframe tbody tr th:only-of-type {\n",
       "        vertical-align: middle;\n",
       "    }\n",
       "\n",
       "    .dataframe tbody tr th {\n",
       "        vertical-align: top;\n",
       "    }\n",
       "\n",
       "    .dataframe thead th {\n",
       "        text-align: right;\n",
       "    }\n",
       "</style>\n",
       "<table border=\"1\" class=\"dataframe\">\n",
       "  <thead>\n",
       "    <tr style=\"text-align: right;\">\n",
       "      <th></th>\n",
       "      <th>Income</th>\n",
       "      <th>Credit_Score</th>\n",
       "      <th>Loan_Amount</th>\n",
       "      <th>DTI_Ratio</th>\n",
       "      <th>Employment_Status</th>\n",
       "    </tr>\n",
       "  </thead>\n",
       "  <tbody>\n",
       "    <tr>\n",
       "      <th>3111</th>\n",
       "      <td>88429</td>\n",
       "      <td>559</td>\n",
       "      <td>66289.0</td>\n",
       "      <td>48.46000</td>\n",
       "      <td>1</td>\n",
       "    </tr>\n",
       "    <tr>\n",
       "      <th>18679</th>\n",
       "      <td>109533</td>\n",
       "      <td>420</td>\n",
       "      <td>82072.0</td>\n",
       "      <td>22.94000</td>\n",
       "      <td>1</td>\n",
       "    </tr>\n",
       "    <tr>\n",
       "      <th>17472</th>\n",
       "      <td>77025</td>\n",
       "      <td>365</td>\n",
       "      <td>6527.0</td>\n",
       "      <td>7.73000</td>\n",
       "      <td>1</td>\n",
       "    </tr>\n",
       "    <tr>\n",
       "      <th>21451</th>\n",
       "      <td>87875</td>\n",
       "      <td>396</td>\n",
       "      <td>41918.0</td>\n",
       "      <td>17.35000</td>\n",
       "      <td>0</td>\n",
       "    </tr>\n",
       "    <tr>\n",
       "      <th>20800</th>\n",
       "      <td>38908</td>\n",
       "      <td>502</td>\n",
       "      <td>13872.0</td>\n",
       "      <td>82.84875</td>\n",
       "      <td>1</td>\n",
       "    </tr>\n",
       "  </tbody>\n",
       "</table>\n",
       "</div>"
      ],
      "text/plain": [
       "       Income  Credit_Score  Loan_Amount  DTI_Ratio  Employment_Status\n",
       "3111    88429           559      66289.0   48.46000                  1\n",
       "18679  109533           420      82072.0   22.94000                  1\n",
       "17472   77025           365       6527.0    7.73000                  1\n",
       "21451   87875           396      41918.0   17.35000                  0\n",
       "20800   38908           502      13872.0   82.84875                  1"
      ]
     },
     "execution_count": 21,
     "metadata": {},
     "output_type": "execute_result"
    }
   ],
   "source": [
    "feature_dataset_test.head()"
   ]
  },
  {
   "cell_type": "code",
   "execution_count": 22,
   "id": "e2b828bc",
   "metadata": {},
   "outputs": [
    {
     "data": {
      "text/html": [
       "<div>\n",
       "<style scoped>\n",
       "    .dataframe tbody tr th:only-of-type {\n",
       "        vertical-align: middle;\n",
       "    }\n",
       "\n",
       "    .dataframe tbody tr th {\n",
       "        vertical-align: top;\n",
       "    }\n",
       "\n",
       "    .dataframe thead th {\n",
       "        text-align: right;\n",
       "    }\n",
       "</style>\n",
       "<table border=\"1\" class=\"dataframe\">\n",
       "  <thead>\n",
       "    <tr style=\"text-align: right;\">\n",
       "      <th></th>\n",
       "      <th>Income</th>\n",
       "      <th>Credit_Score</th>\n",
       "      <th>Loan_Amount</th>\n",
       "      <th>DTI_Ratio</th>\n",
       "      <th>Employment_Status</th>\n",
       "    </tr>\n",
       "  </thead>\n",
       "  <tbody>\n",
       "    <tr>\n",
       "      <th>5670</th>\n",
       "      <td>80724</td>\n",
       "      <td>662</td>\n",
       "      <td>22371.0</td>\n",
       "      <td>41.35000</td>\n",
       "      <td>0</td>\n",
       "    </tr>\n",
       "    <tr>\n",
       "      <th>16258</th>\n",
       "      <td>26373</td>\n",
       "      <td>477</td>\n",
       "      <td>10227.0</td>\n",
       "      <td>82.84875</td>\n",
       "      <td>1</td>\n",
       "    </tr>\n",
       "    <tr>\n",
       "      <th>3162</th>\n",
       "      <td>58831</td>\n",
       "      <td>331</td>\n",
       "      <td>23460.0</td>\n",
       "      <td>20.55000</td>\n",
       "      <td>1</td>\n",
       "    </tr>\n",
       "    <tr>\n",
       "      <th>17194</th>\n",
       "      <td>35428</td>\n",
       "      <td>639</td>\n",
       "      <td>13692.0</td>\n",
       "      <td>79.01000</td>\n",
       "      <td>0</td>\n",
       "    </tr>\n",
       "    <tr>\n",
       "      <th>5874</th>\n",
       "      <td>41154</td>\n",
       "      <td>330</td>\n",
       "      <td>11866.0</td>\n",
       "      <td>32.50000</td>\n",
       "      <td>1</td>\n",
       "    </tr>\n",
       "  </tbody>\n",
       "</table>\n",
       "</div>"
      ],
      "text/plain": [
       "       Income  Credit_Score  Loan_Amount  DTI_Ratio  Employment_Status\n",
       "5670    80724           662      22371.0   41.35000                  0\n",
       "16258   26373           477      10227.0   82.84875                  1\n",
       "3162    58831           331      23460.0   20.55000                  1\n",
       "17194   35428           639      13692.0   79.01000                  0\n",
       "5874    41154           330      11866.0   32.50000                  1"
      ]
     },
     "execution_count": 22,
     "metadata": {},
     "output_type": "execute_result"
    }
   ],
   "source": [
    "feature_dataset_train.head()"
   ]
  },
  {
   "cell_type": "code",
   "execution_count": 23,
   "id": "87ff5b57",
   "metadata": {},
   "outputs": [],
   "source": [
    "# min-max scaler based on training data\n",
    "from sklearn.preprocessing import MinMaxScaler\n",
    "\n",
    "scaler = MinMaxScaler()\n",
    "\n",
    "minmax_scaler = scaler.fit(feature_dataset_train)\n",
    "X_train_scaled = minmax_scaler.transform(feature_dataset_train)\n",
    "X_test_scaled = minmax_scaler.transform(feature_dataset_test)"
   ]
  },
  {
   "cell_type": "code",
   "execution_count": 24,
   "id": "90ba2142",
   "metadata": {},
   "outputs": [
    {
     "data": {
      "text/plain": [
       "Approval\n",
       "0    20067\n",
       "1     3933\n",
       "Name: count, dtype: int64"
      ]
     },
     "execution_count": 24,
     "metadata": {},
     "output_type": "execute_result"
    }
   ],
   "source": [
    "df['Approval'].value_counts()"
   ]
  },
  {
   "cell_type": "markdown",
   "id": "70cead8f",
   "metadata": {},
   "source": [
    "> The class distribution is IMBALANCE, so need NOT to use `accuracy`. Use `recall` (sensitivity)"
   ]
  },
  {
   "cell_type": "markdown",
   "id": "fdcc91ed",
   "metadata": {},
   "source": [
    "> ### Model Training and Evaluation"
   ]
  },
  {
   "cell_type": "markdown",
   "id": "ad16b7d0",
   "metadata": {},
   "source": [
    "--------\n",
    "- #### Hyperparameters\n",
    "    - We will **scale** the features using **StandardScaler** to normalize the data, which is important for distance-based models like KNN.\n",
    "    - We train KNN model because the loan dataset contains several numeric features that can be compared using distance metrics, such as:\n",
    "        - **Income**\n",
    "        - **Credit_Score**\n",
    "        - **Loan_Amount**\n",
    "        - **DTI_Ratio** (Debt-to-Income Ratio)\n",
    "\n",
    "KNN uses distance metrics (such as Euclidean Distance) to measure how similar two borrowers are this fits well with the structure of this dataset.\n"
   ]
  },
  {
   "cell_type": "markdown",
   "id": "c65b8240",
   "metadata": {},
   "source": [
    "> ### KNN"
   ]
  },
  {
   "cell_type": "code",
   "execution_count": 25,
   "id": "f200994a",
   "metadata": {},
   "outputs": [],
   "source": [
    "# define the estimator/model\n",
    "from sklearn.neighbors import KNeighborsClassifier\n",
    "\n",
    "knn_clf = KNeighborsClassifier()"
   ]
  },
  {
   "cell_type": "code",
   "execution_count": 26,
   "id": "8c7da11e",
   "metadata": {},
   "outputs": [
    {
     "data": {
      "text/html": [
       "<style>#sk-container-id-1 {\n",
       "  /* Definition of color scheme common for light and dark mode */\n",
       "  --sklearn-color-text: #000;\n",
       "  --sklearn-color-text-muted: #666;\n",
       "  --sklearn-color-line: gray;\n",
       "  /* Definition of color scheme for unfitted estimators */\n",
       "  --sklearn-color-unfitted-level-0: #fff5e6;\n",
       "  --sklearn-color-unfitted-level-1: #f6e4d2;\n",
       "  --sklearn-color-unfitted-level-2: #ffe0b3;\n",
       "  --sklearn-color-unfitted-level-3: chocolate;\n",
       "  /* Definition of color scheme for fitted estimators */\n",
       "  --sklearn-color-fitted-level-0: #f0f8ff;\n",
       "  --sklearn-color-fitted-level-1: #d4ebff;\n",
       "  --sklearn-color-fitted-level-2: #b3dbfd;\n",
       "  --sklearn-color-fitted-level-3: cornflowerblue;\n",
       "\n",
       "  /* Specific color for light theme */\n",
       "  --sklearn-color-text-on-default-background: var(--sg-text-color, var(--theme-code-foreground, var(--jp-content-font-color1, black)));\n",
       "  --sklearn-color-background: var(--sg-background-color, var(--theme-background, var(--jp-layout-color0, white)));\n",
       "  --sklearn-color-border-box: var(--sg-text-color, var(--theme-code-foreground, var(--jp-content-font-color1, black)));\n",
       "  --sklearn-color-icon: #696969;\n",
       "\n",
       "  @media (prefers-color-scheme: dark) {\n",
       "    /* Redefinition of color scheme for dark theme */\n",
       "    --sklearn-color-text-on-default-background: var(--sg-text-color, var(--theme-code-foreground, var(--jp-content-font-color1, white)));\n",
       "    --sklearn-color-background: var(--sg-background-color, var(--theme-background, var(--jp-layout-color0, #111)));\n",
       "    --sklearn-color-border-box: var(--sg-text-color, var(--theme-code-foreground, var(--jp-content-font-color1, white)));\n",
       "    --sklearn-color-icon: #878787;\n",
       "  }\n",
       "}\n",
       "\n",
       "#sk-container-id-1 {\n",
       "  color: var(--sklearn-color-text);\n",
       "}\n",
       "\n",
       "#sk-container-id-1 pre {\n",
       "  padding: 0;\n",
       "}\n",
       "\n",
       "#sk-container-id-1 input.sk-hidden--visually {\n",
       "  border: 0;\n",
       "  clip: rect(1px 1px 1px 1px);\n",
       "  clip: rect(1px, 1px, 1px, 1px);\n",
       "  height: 1px;\n",
       "  margin: -1px;\n",
       "  overflow: hidden;\n",
       "  padding: 0;\n",
       "  position: absolute;\n",
       "  width: 1px;\n",
       "}\n",
       "\n",
       "#sk-container-id-1 div.sk-dashed-wrapped {\n",
       "  border: 1px dashed var(--sklearn-color-line);\n",
       "  margin: 0 0.4em 0.5em 0.4em;\n",
       "  box-sizing: border-box;\n",
       "  padding-bottom: 0.4em;\n",
       "  background-color: var(--sklearn-color-background);\n",
       "}\n",
       "\n",
       "#sk-container-id-1 div.sk-container {\n",
       "  /* jupyter's `normalize.less` sets `[hidden] { display: none; }`\n",
       "     but bootstrap.min.css set `[hidden] { display: none !important; }`\n",
       "     so we also need the `!important` here to be able to override the\n",
       "     default hidden behavior on the sphinx rendered scikit-learn.org.\n",
       "     See: https://github.com/scikit-learn/scikit-learn/issues/21755 */\n",
       "  display: inline-block !important;\n",
       "  position: relative;\n",
       "}\n",
       "\n",
       "#sk-container-id-1 div.sk-text-repr-fallback {\n",
       "  display: none;\n",
       "}\n",
       "\n",
       "div.sk-parallel-item,\n",
       "div.sk-serial,\n",
       "div.sk-item {\n",
       "  /* draw centered vertical line to link estimators */\n",
       "  background-image: linear-gradient(var(--sklearn-color-text-on-default-background), var(--sklearn-color-text-on-default-background));\n",
       "  background-size: 2px 100%;\n",
       "  background-repeat: no-repeat;\n",
       "  background-position: center center;\n",
       "}\n",
       "\n",
       "/* Parallel-specific style estimator block */\n",
       "\n",
       "#sk-container-id-1 div.sk-parallel-item::after {\n",
       "  content: \"\";\n",
       "  width: 100%;\n",
       "  border-bottom: 2px solid var(--sklearn-color-text-on-default-background);\n",
       "  flex-grow: 1;\n",
       "}\n",
       "\n",
       "#sk-container-id-1 div.sk-parallel {\n",
       "  display: flex;\n",
       "  align-items: stretch;\n",
       "  justify-content: center;\n",
       "  background-color: var(--sklearn-color-background);\n",
       "  position: relative;\n",
       "}\n",
       "\n",
       "#sk-container-id-1 div.sk-parallel-item {\n",
       "  display: flex;\n",
       "  flex-direction: column;\n",
       "}\n",
       "\n",
       "#sk-container-id-1 div.sk-parallel-item:first-child::after {\n",
       "  align-self: flex-end;\n",
       "  width: 50%;\n",
       "}\n",
       "\n",
       "#sk-container-id-1 div.sk-parallel-item:last-child::after {\n",
       "  align-self: flex-start;\n",
       "  width: 50%;\n",
       "}\n",
       "\n",
       "#sk-container-id-1 div.sk-parallel-item:only-child::after {\n",
       "  width: 0;\n",
       "}\n",
       "\n",
       "/* Serial-specific style estimator block */\n",
       "\n",
       "#sk-container-id-1 div.sk-serial {\n",
       "  display: flex;\n",
       "  flex-direction: column;\n",
       "  align-items: center;\n",
       "  background-color: var(--sklearn-color-background);\n",
       "  padding-right: 1em;\n",
       "  padding-left: 1em;\n",
       "}\n",
       "\n",
       "\n",
       "/* Toggleable style: style used for estimator/Pipeline/ColumnTransformer box that is\n",
       "clickable and can be expanded/collapsed.\n",
       "- Pipeline and ColumnTransformer use this feature and define the default style\n",
       "- Estimators will overwrite some part of the style using the `sk-estimator` class\n",
       "*/\n",
       "\n",
       "/* Pipeline and ColumnTransformer style (default) */\n",
       "\n",
       "#sk-container-id-1 div.sk-toggleable {\n",
       "  /* Default theme specific background. It is overwritten whether we have a\n",
       "  specific estimator or a Pipeline/ColumnTransformer */\n",
       "  background-color: var(--sklearn-color-background);\n",
       "}\n",
       "\n",
       "/* Toggleable label */\n",
       "#sk-container-id-1 label.sk-toggleable__label {\n",
       "  cursor: pointer;\n",
       "  display: flex;\n",
       "  width: 100%;\n",
       "  margin-bottom: 0;\n",
       "  padding: 0.5em;\n",
       "  box-sizing: border-box;\n",
       "  text-align: center;\n",
       "  align-items: start;\n",
       "  justify-content: space-between;\n",
       "  gap: 0.5em;\n",
       "}\n",
       "\n",
       "#sk-container-id-1 label.sk-toggleable__label .caption {\n",
       "  font-size: 0.6rem;\n",
       "  font-weight: lighter;\n",
       "  color: var(--sklearn-color-text-muted);\n",
       "}\n",
       "\n",
       "#sk-container-id-1 label.sk-toggleable__label-arrow:before {\n",
       "  /* Arrow on the left of the label */\n",
       "  content: \"▸\";\n",
       "  float: left;\n",
       "  margin-right: 0.25em;\n",
       "  color: var(--sklearn-color-icon);\n",
       "}\n",
       "\n",
       "#sk-container-id-1 label.sk-toggleable__label-arrow:hover:before {\n",
       "  color: var(--sklearn-color-text);\n",
       "}\n",
       "\n",
       "/* Toggleable content - dropdown */\n",
       "\n",
       "#sk-container-id-1 div.sk-toggleable__content {\n",
       "  max-height: 0;\n",
       "  max-width: 0;\n",
       "  overflow: hidden;\n",
       "  text-align: left;\n",
       "  /* unfitted */\n",
       "  background-color: var(--sklearn-color-unfitted-level-0);\n",
       "}\n",
       "\n",
       "#sk-container-id-1 div.sk-toggleable__content.fitted {\n",
       "  /* fitted */\n",
       "  background-color: var(--sklearn-color-fitted-level-0);\n",
       "}\n",
       "\n",
       "#sk-container-id-1 div.sk-toggleable__content pre {\n",
       "  margin: 0.2em;\n",
       "  border-radius: 0.25em;\n",
       "  color: var(--sklearn-color-text);\n",
       "  /* unfitted */\n",
       "  background-color: var(--sklearn-color-unfitted-level-0);\n",
       "}\n",
       "\n",
       "#sk-container-id-1 div.sk-toggleable__content.fitted pre {\n",
       "  /* unfitted */\n",
       "  background-color: var(--sklearn-color-fitted-level-0);\n",
       "}\n",
       "\n",
       "#sk-container-id-1 input.sk-toggleable__control:checked~div.sk-toggleable__content {\n",
       "  /* Expand drop-down */\n",
       "  max-height: 200px;\n",
       "  max-width: 100%;\n",
       "  overflow: auto;\n",
       "}\n",
       "\n",
       "#sk-container-id-1 input.sk-toggleable__control:checked~label.sk-toggleable__label-arrow:before {\n",
       "  content: \"▾\";\n",
       "}\n",
       "\n",
       "/* Pipeline/ColumnTransformer-specific style */\n",
       "\n",
       "#sk-container-id-1 div.sk-label input.sk-toggleable__control:checked~label.sk-toggleable__label {\n",
       "  color: var(--sklearn-color-text);\n",
       "  background-color: var(--sklearn-color-unfitted-level-2);\n",
       "}\n",
       "\n",
       "#sk-container-id-1 div.sk-label.fitted input.sk-toggleable__control:checked~label.sk-toggleable__label {\n",
       "  background-color: var(--sklearn-color-fitted-level-2);\n",
       "}\n",
       "\n",
       "/* Estimator-specific style */\n",
       "\n",
       "/* Colorize estimator box */\n",
       "#sk-container-id-1 div.sk-estimator input.sk-toggleable__control:checked~label.sk-toggleable__label {\n",
       "  /* unfitted */\n",
       "  background-color: var(--sklearn-color-unfitted-level-2);\n",
       "}\n",
       "\n",
       "#sk-container-id-1 div.sk-estimator.fitted input.sk-toggleable__control:checked~label.sk-toggleable__label {\n",
       "  /* fitted */\n",
       "  background-color: var(--sklearn-color-fitted-level-2);\n",
       "}\n",
       "\n",
       "#sk-container-id-1 div.sk-label label.sk-toggleable__label,\n",
       "#sk-container-id-1 div.sk-label label {\n",
       "  /* The background is the default theme color */\n",
       "  color: var(--sklearn-color-text-on-default-background);\n",
       "}\n",
       "\n",
       "/* On hover, darken the color of the background */\n",
       "#sk-container-id-1 div.sk-label:hover label.sk-toggleable__label {\n",
       "  color: var(--sklearn-color-text);\n",
       "  background-color: var(--sklearn-color-unfitted-level-2);\n",
       "}\n",
       "\n",
       "/* Label box, darken color on hover, fitted */\n",
       "#sk-container-id-1 div.sk-label.fitted:hover label.sk-toggleable__label.fitted {\n",
       "  color: var(--sklearn-color-text);\n",
       "  background-color: var(--sklearn-color-fitted-level-2);\n",
       "}\n",
       "\n",
       "/* Estimator label */\n",
       "\n",
       "#sk-container-id-1 div.sk-label label {\n",
       "  font-family: monospace;\n",
       "  font-weight: bold;\n",
       "  display: inline-block;\n",
       "  line-height: 1.2em;\n",
       "}\n",
       "\n",
       "#sk-container-id-1 div.sk-label-container {\n",
       "  text-align: center;\n",
       "}\n",
       "\n",
       "/* Estimator-specific */\n",
       "#sk-container-id-1 div.sk-estimator {\n",
       "  font-family: monospace;\n",
       "  border: 1px dotted var(--sklearn-color-border-box);\n",
       "  border-radius: 0.25em;\n",
       "  box-sizing: border-box;\n",
       "  margin-bottom: 0.5em;\n",
       "  /* unfitted */\n",
       "  background-color: var(--sklearn-color-unfitted-level-0);\n",
       "}\n",
       "\n",
       "#sk-container-id-1 div.sk-estimator.fitted {\n",
       "  /* fitted */\n",
       "  background-color: var(--sklearn-color-fitted-level-0);\n",
       "}\n",
       "\n",
       "/* on hover */\n",
       "#sk-container-id-1 div.sk-estimator:hover {\n",
       "  /* unfitted */\n",
       "  background-color: var(--sklearn-color-unfitted-level-2);\n",
       "}\n",
       "\n",
       "#sk-container-id-1 div.sk-estimator.fitted:hover {\n",
       "  /* fitted */\n",
       "  background-color: var(--sklearn-color-fitted-level-2);\n",
       "}\n",
       "\n",
       "/* Specification for estimator info (e.g. \"i\" and \"?\") */\n",
       "\n",
       "/* Common style for \"i\" and \"?\" */\n",
       "\n",
       ".sk-estimator-doc-link,\n",
       "a:link.sk-estimator-doc-link,\n",
       "a:visited.sk-estimator-doc-link {\n",
       "  float: right;\n",
       "  font-size: smaller;\n",
       "  line-height: 1em;\n",
       "  font-family: monospace;\n",
       "  background-color: var(--sklearn-color-background);\n",
       "  border-radius: 1em;\n",
       "  height: 1em;\n",
       "  width: 1em;\n",
       "  text-decoration: none !important;\n",
       "  margin-left: 0.5em;\n",
       "  text-align: center;\n",
       "  /* unfitted */\n",
       "  border: var(--sklearn-color-unfitted-level-1) 1pt solid;\n",
       "  color: var(--sklearn-color-unfitted-level-1);\n",
       "}\n",
       "\n",
       ".sk-estimator-doc-link.fitted,\n",
       "a:link.sk-estimator-doc-link.fitted,\n",
       "a:visited.sk-estimator-doc-link.fitted {\n",
       "  /* fitted */\n",
       "  border: var(--sklearn-color-fitted-level-1) 1pt solid;\n",
       "  color: var(--sklearn-color-fitted-level-1);\n",
       "}\n",
       "\n",
       "/* On hover */\n",
       "div.sk-estimator:hover .sk-estimator-doc-link:hover,\n",
       ".sk-estimator-doc-link:hover,\n",
       "div.sk-label-container:hover .sk-estimator-doc-link:hover,\n",
       ".sk-estimator-doc-link:hover {\n",
       "  /* unfitted */\n",
       "  background-color: var(--sklearn-color-unfitted-level-3);\n",
       "  color: var(--sklearn-color-background);\n",
       "  text-decoration: none;\n",
       "}\n",
       "\n",
       "div.sk-estimator.fitted:hover .sk-estimator-doc-link.fitted:hover,\n",
       ".sk-estimator-doc-link.fitted:hover,\n",
       "div.sk-label-container:hover .sk-estimator-doc-link.fitted:hover,\n",
       ".sk-estimator-doc-link.fitted:hover {\n",
       "  /* fitted */\n",
       "  background-color: var(--sklearn-color-fitted-level-3);\n",
       "  color: var(--sklearn-color-background);\n",
       "  text-decoration: none;\n",
       "}\n",
       "\n",
       "/* Span, style for the box shown on hovering the info icon */\n",
       ".sk-estimator-doc-link span {\n",
       "  display: none;\n",
       "  z-index: 9999;\n",
       "  position: relative;\n",
       "  font-weight: normal;\n",
       "  right: .2ex;\n",
       "  padding: .5ex;\n",
       "  margin: .5ex;\n",
       "  width: min-content;\n",
       "  min-width: 20ex;\n",
       "  max-width: 50ex;\n",
       "  color: var(--sklearn-color-text);\n",
       "  box-shadow: 2pt 2pt 4pt #999;\n",
       "  /* unfitted */\n",
       "  background: var(--sklearn-color-unfitted-level-0);\n",
       "  border: .5pt solid var(--sklearn-color-unfitted-level-3);\n",
       "}\n",
       "\n",
       ".sk-estimator-doc-link.fitted span {\n",
       "  /* fitted */\n",
       "  background: var(--sklearn-color-fitted-level-0);\n",
       "  border: var(--sklearn-color-fitted-level-3);\n",
       "}\n",
       "\n",
       ".sk-estimator-doc-link:hover span {\n",
       "  display: block;\n",
       "}\n",
       "\n",
       "/* \"?\"-specific style due to the `<a>` HTML tag */\n",
       "\n",
       "#sk-container-id-1 a.estimator_doc_link {\n",
       "  float: right;\n",
       "  font-size: 1rem;\n",
       "  line-height: 1em;\n",
       "  font-family: monospace;\n",
       "  background-color: var(--sklearn-color-background);\n",
       "  border-radius: 1rem;\n",
       "  height: 1rem;\n",
       "  width: 1rem;\n",
       "  text-decoration: none;\n",
       "  /* unfitted */\n",
       "  color: var(--sklearn-color-unfitted-level-1);\n",
       "  border: var(--sklearn-color-unfitted-level-1) 1pt solid;\n",
       "}\n",
       "\n",
       "#sk-container-id-1 a.estimator_doc_link.fitted {\n",
       "  /* fitted */\n",
       "  border: var(--sklearn-color-fitted-level-1) 1pt solid;\n",
       "  color: var(--sklearn-color-fitted-level-1);\n",
       "}\n",
       "\n",
       "/* On hover */\n",
       "#sk-container-id-1 a.estimator_doc_link:hover {\n",
       "  /* unfitted */\n",
       "  background-color: var(--sklearn-color-unfitted-level-3);\n",
       "  color: var(--sklearn-color-background);\n",
       "  text-decoration: none;\n",
       "}\n",
       "\n",
       "#sk-container-id-1 a.estimator_doc_link.fitted:hover {\n",
       "  /* fitted */\n",
       "  background-color: var(--sklearn-color-fitted-level-3);\n",
       "}\n",
       "</style><div id=\"sk-container-id-1\" class=\"sk-top-container\"><div class=\"sk-text-repr-fallback\"><pre>GridSearchCV(cv=5, estimator=KNeighborsClassifier(),\n",
       "             param_grid={&#x27;n_neighbors&#x27;: (2, 3, 4, 5, 6, 7, 8)},\n",
       "             scoring=&#x27;recall&#x27;)</pre><b>In a Jupyter environment, please rerun this cell to show the HTML representation or trust the notebook. <br />On GitHub, the HTML representation is unable to render, please try loading this page with nbviewer.org.</b></div><div class=\"sk-container\" hidden><div class=\"sk-item sk-dashed-wrapped\"><div class=\"sk-label-container\"><div class=\"sk-label fitted sk-toggleable\"><input class=\"sk-toggleable__control sk-hidden--visually\" id=\"sk-estimator-id-1\" type=\"checkbox\" ><label for=\"sk-estimator-id-1\" class=\"sk-toggleable__label fitted sk-toggleable__label-arrow\"><div><div>GridSearchCV</div></div><div><a class=\"sk-estimator-doc-link fitted\" rel=\"noreferrer\" target=\"_blank\" href=\"https://scikit-learn.org/1.6/modules/generated/sklearn.model_selection.GridSearchCV.html\">?<span>Documentation for GridSearchCV</span></a><span class=\"sk-estimator-doc-link fitted\">i<span>Fitted</span></span></div></label><div class=\"sk-toggleable__content fitted\"><pre>GridSearchCV(cv=5, estimator=KNeighborsClassifier(),\n",
       "             param_grid={&#x27;n_neighbors&#x27;: (2, 3, 4, 5, 6, 7, 8)},\n",
       "             scoring=&#x27;recall&#x27;)</pre></div> </div></div><div class=\"sk-parallel\"><div class=\"sk-parallel-item\"><div class=\"sk-item\"><div class=\"sk-label-container\"><div class=\"sk-label fitted sk-toggleable\"><input class=\"sk-toggleable__control sk-hidden--visually\" id=\"sk-estimator-id-2\" type=\"checkbox\" ><label for=\"sk-estimator-id-2\" class=\"sk-toggleable__label fitted sk-toggleable__label-arrow\"><div><div>best_estimator_: KNeighborsClassifier</div></div></label><div class=\"sk-toggleable__content fitted\"><pre>KNeighborsClassifier(n_neighbors=7)</pre></div> </div></div><div class=\"sk-serial\"><div class=\"sk-item\"><div class=\"sk-estimator fitted sk-toggleable\"><input class=\"sk-toggleable__control sk-hidden--visually\" id=\"sk-estimator-id-3\" type=\"checkbox\" ><label for=\"sk-estimator-id-3\" class=\"sk-toggleable__label fitted sk-toggleable__label-arrow\"><div><div>KNeighborsClassifier</div></div><div><a class=\"sk-estimator-doc-link fitted\" rel=\"noreferrer\" target=\"_blank\" href=\"https://scikit-learn.org/1.6/modules/generated/sklearn.neighbors.KNeighborsClassifier.html\">?<span>Documentation for KNeighborsClassifier</span></a></div></label><div class=\"sk-toggleable__content fitted\"><pre>KNeighborsClassifier(n_neighbors=7)</pre></div> </div></div></div></div></div></div></div></div></div>"
      ],
      "text/plain": [
       "GridSearchCV(cv=5, estimator=KNeighborsClassifier(),\n",
       "             param_grid={'n_neighbors': (2, 3, 4, 5, 6, 7, 8)},\n",
       "             scoring='recall')"
      ]
     },
     "execution_count": 26,
     "metadata": {},
     "output_type": "execute_result"
    }
   ],
   "source": [
    "# hyperparameter tuning\n",
    "from sklearn.model_selection import GridSearchCV\n",
    "\n",
    "parameters = {\n",
    "    'n_neighbors': (2,3,4,5,6,7,8)\n",
    "}\n",
    "\n",
    "knn_clf_gridcv = GridSearchCV(knn_clf, parameters, cv=5, scoring='recall')\n",
    "knn_clf_gridcv.fit(X_train_scaled, target_dataset_train)"
   ]
  },
  {
   "cell_type": "code",
   "execution_count": 27,
   "id": "349adcb2",
   "metadata": {},
   "outputs": [
    {
     "data": {
      "text/html": [
       "<div>\n",
       "<style scoped>\n",
       "    .dataframe tbody tr th:only-of-type {\n",
       "        vertical-align: middle;\n",
       "    }\n",
       "\n",
       "    .dataframe tbody tr th {\n",
       "        vertical-align: top;\n",
       "    }\n",
       "\n",
       "    .dataframe thead th {\n",
       "        text-align: right;\n",
       "    }\n",
       "</style>\n",
       "<table border=\"1\" class=\"dataframe\">\n",
       "  <thead>\n",
       "    <tr style=\"text-align: right;\">\n",
       "      <th></th>\n",
       "      <th>params</th>\n",
       "      <th>mean_test_score</th>\n",
       "      <th>rank_test_score</th>\n",
       "    </tr>\n",
       "  </thead>\n",
       "  <tbody>\n",
       "    <tr>\n",
       "      <th>0</th>\n",
       "      <td>{'n_neighbors': 2}</td>\n",
       "      <td>0.892056</td>\n",
       "      <td>7</td>\n",
       "    </tr>\n",
       "    <tr>\n",
       "      <th>1</th>\n",
       "      <td>{'n_neighbors': 3}</td>\n",
       "      <td>0.949789</td>\n",
       "      <td>2</td>\n",
       "    </tr>\n",
       "    <tr>\n",
       "      <th>2</th>\n",
       "      <td>{'n_neighbors': 4}</td>\n",
       "      <td>0.914198</td>\n",
       "      <td>6</td>\n",
       "    </tr>\n",
       "    <tr>\n",
       "      <th>3</th>\n",
       "      <td>{'n_neighbors': 5}</td>\n",
       "      <td>0.948205</td>\n",
       "      <td>3</td>\n",
       "    </tr>\n",
       "    <tr>\n",
       "      <th>4</th>\n",
       "      <td>{'n_neighbors': 6}</td>\n",
       "      <td>0.929620</td>\n",
       "      <td>5</td>\n",
       "    </tr>\n",
       "    <tr>\n",
       "      <th>5</th>\n",
       "      <td>{'n_neighbors': 7}</td>\n",
       "      <td>0.952554</td>\n",
       "      <td>1</td>\n",
       "    </tr>\n",
       "    <tr>\n",
       "      <th>6</th>\n",
       "      <td>{'n_neighbors': 8}</td>\n",
       "      <td>0.933577</td>\n",
       "      <td>4</td>\n",
       "    </tr>\n",
       "  </tbody>\n",
       "</table>\n",
       "</div>"
      ],
      "text/plain": [
       "               params  mean_test_score  rank_test_score\n",
       "0  {'n_neighbors': 2}         0.892056                7\n",
       "1  {'n_neighbors': 3}         0.949789                2\n",
       "2  {'n_neighbors': 4}         0.914198                6\n",
       "3  {'n_neighbors': 5}         0.948205                3\n",
       "4  {'n_neighbors': 6}         0.929620                5\n",
       "5  {'n_neighbors': 7}         0.952554                1\n",
       "6  {'n_neighbors': 8}         0.933577                4"
      ]
     },
     "execution_count": 27,
     "metadata": {},
     "output_type": "execute_result"
    }
   ],
   "source": [
    "# the compact results\n",
    "cv_result = pd.DataFrame(knn_clf_gridcv.cv_results_)\n",
    "retain_cols = ['params','mean_test_score','rank_test_score']\n",
    "cv_result[retain_cols]"
   ]
  },
  {
   "cell_type": "markdown",
   "id": "1dbc1916",
   "metadata": {},
   "source": [
    "- The best n_neighbors is 7"
   ]
  },
  {
   "cell_type": "markdown",
   "id": "4d63a5fc",
   "metadata": {},
   "source": [
    "> #### Evaluation metrics on test data"
   ]
  },
  {
   "cell_type": "markdown",
   "id": "e33fdaf2",
   "metadata": {},
   "source": [
    "- Before Tuning"
   ]
  },
  {
   "cell_type": "code",
   "execution_count": 28,
   "id": "16fd8285",
   "metadata": {},
   "outputs": [
    {
     "data": {
      "image/png": "[encoded data removed]",
      "text/plain": [
       "<Figure size 1000x700 with 2 Axes>"
      ]
     },
     "metadata": {},
     "output_type": "display_data"
    }
   ],
   "source": [
    "import matplotlib.pyplot as plt\n",
    "from sklearn.metrics import confusion_matrix, ConfusionMatrixDisplay\n",
    "from sklearn.neighbors import KNeighborsClassifier\n",
    "\n",
    "# Train the default KNN model (Before tuning)\n",
    "knn_clf_default = KNeighborsClassifier(n_neighbors=7)  # Default n_neighbors=5\n",
    "knn_clf_default.fit(X_train_scaled, target_dataset_train.values.ravel())\n",
    "\n",
    "# Make predictions using the default model\n",
    "y_pred_default = knn_clf_default.predict(X_test_scaled)\n",
    "\n",
    "# Plot confusion matrix for the default model\n",
    "fig, ax = plt.subplots(figsize=(10, 7))\n",
    "cm_default = confusion_matrix(target_dataset_test, y_pred_default, labels=knn_clf_default.classes_)\n",
    "\n",
    "# Display the confusion matrix\n",
    "disp_default = ConfusionMatrixDisplay(confusion_matrix=cm_default,\n",
    "                                      display_labels=knn_clf_default.classes_)\n",
    "disp_default.plot(ax=ax)\n",
    "plt.show()\n"
   ]
  },
  {
   "cell_type": "markdown",
   "id": "a70e6e29",
   "metadata": {},
   "source": [
    "- After Tuning"
   ]
  },
  {
   "cell_type": "code",
   "execution_count": 29,
   "id": "0631eb15",
   "metadata": {},
   "outputs": [
    {
     "data": {
      "text/html": [
       "<div>\n",
       "<style scoped>\n",
       "    .dataframe tbody tr th:only-of-type {\n",
       "        vertical-align: middle;\n",
       "    }\n",
       "\n",
       "    .dataframe tbody tr th {\n",
       "        vertical-align: top;\n",
       "    }\n",
       "\n",
       "    .dataframe thead th {\n",
       "        text-align: right;\n",
       "    }\n",
       "</style>\n",
       "<table border=\"1\" class=\"dataframe\">\n",
       "  <thead>\n",
       "    <tr style=\"text-align: right;\">\n",
       "      <th></th>\n",
       "      <th>Income</th>\n",
       "      <th>Credit_Score</th>\n",
       "      <th>Loan_Amount</th>\n",
       "      <th>DTI_Ratio</th>\n",
       "      <th>Employment_Status</th>\n",
       "    </tr>\n",
       "  </thead>\n",
       "  <tbody>\n",
       "    <tr>\n",
       "      <th>5670</th>\n",
       "      <td>80724</td>\n",
       "      <td>662</td>\n",
       "      <td>22371.0</td>\n",
       "      <td>41.35000</td>\n",
       "      <td>0</td>\n",
       "    </tr>\n",
       "    <tr>\n",
       "      <th>16258</th>\n",
       "      <td>26373</td>\n",
       "      <td>477</td>\n",
       "      <td>10227.0</td>\n",
       "      <td>82.84875</td>\n",
       "      <td>1</td>\n",
       "    </tr>\n",
       "    <tr>\n",
       "      <th>3162</th>\n",
       "      <td>58831</td>\n",
       "      <td>331</td>\n",
       "      <td>23460.0</td>\n",
       "      <td>20.55000</td>\n",
       "      <td>1</td>\n",
       "    </tr>\n",
       "    <tr>\n",
       "      <th>17194</th>\n",
       "      <td>35428</td>\n",
       "      <td>639</td>\n",
       "      <td>13692.0</td>\n",
       "      <td>79.01000</td>\n",
       "      <td>0</td>\n",
       "    </tr>\n",
       "    <tr>\n",
       "      <th>5874</th>\n",
       "      <td>41154</td>\n",
       "      <td>330</td>\n",
       "      <td>11866.0</td>\n",
       "      <td>32.50000</td>\n",
       "      <td>1</td>\n",
       "    </tr>\n",
       "  </tbody>\n",
       "</table>\n",
       "</div>"
      ],
      "text/plain": [
       "       Income  Credit_Score  Loan_Amount  DTI_Ratio  Employment_Status\n",
       "5670    80724           662      22371.0   41.35000                  0\n",
       "16258   26373           477      10227.0   82.84875                  1\n",
       "3162    58831           331      23460.0   20.55000                  1\n",
       "17194   35428           639      13692.0   79.01000                  0\n",
       "5874    41154           330      11866.0   32.50000                  1"
      ]
     },
     "execution_count": 29,
     "metadata": {},
     "output_type": "execute_result"
    }
   ],
   "source": [
    "feature_dataset_train.head()"
   ]
  },
  {
   "cell_type": "code",
   "execution_count": 30,
   "id": "b854db70",
   "metadata": {},
   "outputs": [
    {
     "data": {
      "image/png": "[encoded data removed]",
      "text/plain": [
       "<Figure size 1000x700 with 2 Axes>"
      ]
     },
     "metadata": {},
     "output_type": "display_data"
    }
   ],
   "source": [
    "fig, ax = plt.subplots(figsize=(10,7))\n",
    "y_pred = knn_clf_gridcv.best_estimator_.predict(X_test_scaled)\n",
    "\n",
    "cm = confusion_matrix(target_dataset_test, y_pred, labels=knn_clf_gridcv.best_estimator_.classes_)\n",
    "disp = ConfusionMatrixDisplay(confusion_matrix=cm,\n",
    "                             display_labels=knn_clf_gridcv.best_estimator_.classes_)\n",
    "disp.plot(ax=ax)\n",
    "plt.show()"
   ]
  },
  {
   "cell_type": "markdown",
   "id": "4919cb95",
   "metadata": {},
   "source": [
    "> ### Explanation of Confusion Matrices (Before and After Hyperparameter Tuning for KNN)\n",
    "\n",
    "- #### **Before Hyperparameter Tuning:**\n",
    "\n",
    "    - **True negatives (4006):** The model correctly predicted label 0 (negative instances).\n",
    "    - **False positives (41):** The model incorrectly predicted label 1 when the true label was 0.\n",
    "    - **False negatives (23):** The model incorrectly predicted label 0 when the true label was 1.\n",
    "    - **True positives (730):** The model correctly predicted label 1 (positive instances).\n",
    "\n",
    "- #### **After Hyperparameter Tuning:**\n",
    "\n",
    "    - **True negatives (4006):** The model performed similarly in correctly predicting label 0 (negative class).\n",
    "    - **False positives (41):** There was no change in the number of false positives.\n",
    "    - **False negatives (23):** The number of false negatives remained the same.\n",
    "    - **True positives (730):** The true positives remained unchanged as well.\n",
    "\n",
    "#### **Summary:**\n",
    "- **No significant change:** There was no improvement or degradation in model performance after hyperparameter tuning. Both the true positives, true negatives, false positives, and false negatives remained the same across the before and after models.\n",
    "\n",
    "----\n"
   ]
  },
  {
   "cell_type": "code",
   "execution_count": 31,
   "id": "332d51db",
   "metadata": {},
   "outputs": [
    {
     "name": "stdout",
     "output_type": "stream",
     "text": [
      "Classification Report (Before Tuning):\n",
      "              precision    recall  f1-score   support\n",
      "\n",
      "           0       0.99      0.99      0.99      4047\n",
      "           1       0.95      0.97      0.96       753\n",
      "\n",
      "    accuracy                           0.99      4800\n",
      "   macro avg       0.97      0.98      0.98      4800\n",
      "weighted avg       0.99      0.99      0.99      4800\n",
      "\n",
      "ROC AUC (Before Tuning): 0.9961424379083617\n"
     ]
    }
   ],
   "source": [
    "# Default KNN model (Before Tuning)\n",
    "knn_clf_default = KNeighborsClassifier(n_neighbors=5)  # Default n_neighbors=5\n",
    "knn_clf_default.fit(X_train_scaled, target_dataset_train.values.ravel())\n",
    "\n",
    "# Predict and evaluate (Before Tuning)\n",
    "y_pred_default = knn_clf_default.predict(X_test_scaled)\n",
    "print(\"Classification Report (Before Tuning):\")\n",
    "print(classification_report(target_dataset_test, y_pred_default))\n",
    "\n",
    "# Predicted probabilities for ROC AUC\n",
    "y_prob_default = knn_clf_default.predict_proba(X_test_scaled)[:, 1]\n",
    "\n",
    "# Calculate ROC AUC for the default model\n",
    "roc_auc_default = roc_auc_score(target_dataset_test, y_prob_default)\n",
    "print(f\"ROC AUC (Before Tuning): {roc_auc_default}\")\n"
   ]
  },
  {
   "cell_type": "code",
   "execution_count": 32,
   "id": "62d7b374",
   "metadata": {},
   "outputs": [
    {
     "name": "stdout",
     "output_type": "stream",
     "text": [
      "Classification Report (After Tuning):\n",
      "              precision    recall  f1-score   support\n",
      "\n",
      "           0       0.99      0.99      0.99      4047\n",
      "           1       0.95      0.97      0.96       753\n",
      "\n",
      "    accuracy                           0.99      4800\n",
      "   macro avg       0.97      0.98      0.98      4800\n",
      "weighted avg       0.99      0.99      0.99      4800\n",
      "\n",
      "ROC AUC (After Tuning): 0.9962289053160556\n"
     ]
    }
   ],
   "source": [
    "# Predict labels\n",
    "y_pred = knn_clf_gridcv.best_estimator_.predict(X_test_scaled)\n",
    "print(\"Classification Report (After Tuning):\")\n",
    "# Print classification report\n",
    "print(classification_report(target_dataset_test, y_pred))\n",
    "\n",
    "# Get predicted probabilities\n",
    "y_prob = knn_clf_gridcv.best_estimator_.predict_proba(X_test_scaled)[:, 1]\n",
    "\n",
    "# Calculate and print ROC AUC\n",
    "roc_auc = roc_auc_score(target_dataset_test, y_prob)\n",
    "print(f\"ROC AUC (After Tuning): {roc_auc}\")\n"
   ]
  },
  {
   "cell_type": "markdown",
   "id": "8ba685b6",
   "metadata": {},
   "source": [
    "### Explanation Based on the Classification Report and ROC AUC:\n",
    "\n",
    "- #### **Before and After Hyperparameter Tuning:**\n",
    "\n",
    "1. **Precision** for **Rejected (class 0)** is **99%**, and **recall** is **99%** in both cases, indicating the model performs excellently in identifying rejected instances with high precision and recall.\n",
    "2. **Precision** for **Approved (class 1)** is **95%** for precision and **97%** for recall before tuning, and **95%** precision and **97%** recall after tuning, showing consistent performance in predicting approved instances.\n",
    "3. **Accuracy** remains **99%** in both models, meaning the model is correct 99% of the time across both classes.\n",
    "4. **Macro Average** precision, recall, and F1-score are **97%**, **98%**, and **98%** respectively, both before and after tuning, showing strong, balanced performance across both classes.\n",
    "5. **Weighted Average** precision, recall, and F1-score are **99%**, **99%**, and **99%** respectively, showing excellent performance when considering class distribution.\n",
    "6. **ROC AUC** after tuning is **0.9962**, which is an exceptionally high value, indicating the model's ability to distinguish between approved and rejected instances with almost perfect separation.\n",
    "\n",
    "---\n",
    "\n",
    "### Key Observations:\n",
    "\n",
    "- **For Rejected (class 0)**: The model performs very well with **high precision** and **high recall**, meaning it can accurately predict rejected instances while minimizing false positives and false negatives.\n",
    "- **For Approved (class 1)**: The model maintains a solid performance with **95% precision** and **97% recall**, demonstrating reliable accuracy in predicting approved instances.\n",
    "- **ROC AUC** is very high at **0.996**, signifying near-perfect ability to distinguish between approved and rejected instances.\n",
    "\n",
    "---\n",
    "\n",
    "### Conclusion:\n",
    "\n",
    "- **No significant change**: After hyperparameter tuning, the model's performance in terms of precision, recall, F1-score, accuracy, and ROC AUC did not change significantly. It maintained the same high performance.\n",
    "- The **ROC AUC of 0.996** confirms that the model still has an **outstanding ability** to separate the two classes (Approved and Rejected).\n",
    "- **Hyperparameter tuning** did not result in a substantial improvement or degradation, indicating that the model was already performing optimally. The model remains highly accurate and reliable for predicting approval decisions.\n",
    "\n",
    "---\n",
    "\n",
    "### Use the Hyperparameter-Tuned Model!\n",
    "\n",
    "- The hyperparameter-tuned model can be used because the `ROC-AUC` is slightly better than before tuning. The performance is already very strong, with consistent results across both before and after tuning, and the model demonstrates a **high ability** to distinguish between approved and rejected instances. Thus, the model is already optimized for accurate predictions.\n"
   ]
  },
  {
   "cell_type": "code",
   "execution_count": 53,
   "id": "fa5a9092",
   "metadata": {},
   "outputs": [
    {
     "name": "stdout",
     "output_type": "stream",
     "text": [
      "Average Credit Score based on Approval:\n",
      "Approval\n",
      "0    550.875224\n",
      "1    701.565045\n",
      "Name: Credit_Score, dtype: float64\n",
      "\n",
      "Average DTI Ratio based on Approval:\n",
      "Approval\n",
      "0    33.372795\n",
      "1    21.951578\n",
      "Name: DTI_Ratio, dtype: float64\n"
     ]
    },
    {
     "data": {
      "image/png": "[encoded data removed]",
      "text/plain": [
       "<Figure size 1000x400 with 1 Axes>"
      ]
     },
     "metadata": {},
     "output_type": "display_data"
    },
    {
     "data": {
      "image/png": "[encoded data removed]",
      "text/plain": [
       "<Figure size 1000x400 with 1 Axes>"
      ]
     },
     "metadata": {},
     "output_type": "display_data"
    }
   ],
   "source": [
    "# Recombine features and targets for analysis\n",
    "train_data = feature_dataset_train.copy()\n",
    "train_data['Approval'] = target_dataset_train.values\n",
    "\n",
    "# Display average Credit Score and DTI Ratio based on Approval\n",
    "print(\"Average Credit Score based on Approval:\")\n",
    "print(train_data.groupby('Approval')['Credit_Score'].mean())\n",
    "\n",
    "print(\"\\nAverage DTI Ratio based on Approval:\")\n",
    "print(train_data.groupby('Approval')['DTI_Ratio'].mean())\n",
    "\n",
    "# --- Credit Score Visualization ---\n",
    "plt.figure(figsize=(10, 4))\n",
    "sns.kdeplot(train_data[train_data['Approval'] == 1]['Credit_Score'], label='Approved', shade=True)\n",
    "sns.kdeplot(train_data[train_data['Approval'] == 0]['Credit_Score'], label='Rejected', shade=True)\n",
    "plt.title('Credit Score Distribution based on Approval')\n",
    "plt.xlabel('Credit Score')\n",
    "plt.ylabel('Density')\n",
    "plt.legend()\n",
    "plt.grid(True)\n",
    "plt.show()\n",
    "\n",
    "# --- DTI Ratio Visualization ---\n",
    "plt.figure(figsize=(10, 4))\n",
    "sns.kdeplot(train_data[train_data['Approval'] == 1]['DTI_Ratio'], label='Approved', shade=True)\n",
    "sns.kdeplot(train_data[train_data['Approval'] == 0]['DTI_Ratio'], label='Rejected', shade=True)\n",
    "plt.title('DTI Ratio Distribution based on Approval')\n",
    "plt.xlabel('DTI Ratio')\n",
    "plt.ylabel('Density')\n",
    "plt.legend()\n",
    "plt.grid(True)\n",
    "plt.show()"
   ]
  },
  {
   "cell_type": "markdown",
   "id": "80b44500",
   "metadata": {},
   "source": [
    "---\n",
    "### 1. Credit Score\n",
    "\n",
    "- **Curve for Approved (blue)**: Centered around high credit scores (around 700–800).\n",
    "- **Curve for Rejected (orange)**: Centered around low credit scores (around 400–600).\n",
    "\n",
    "**Concordance**:\n",
    "- **Average Credit Score of Approved**: 701.565045\n",
    "- The Approved curve is indeed centered around this value.\n",
    "- **Average Credit Score of Rejected**: 550.875224\n",
    "- The Rejected curve also matches this average.\n",
    "\n",
    "**Conclusion**:\n",
    "- The Credit Score visualization closely matches the statistics provided. The distribution of the KDE curves reflects that borrowers with higher credit scores are more likely to get loan approvals.\n",
    "\n",
    "---\n",
    "\n",
    "### 2. DTI Ratio\n",
    "\n",
    "- **Curve for Approved (blue)**: Centered around low DTI Ratios (around 0–20).\n",
    "- **Curve for Rejected (orange)**: Centered around higher DTI Ratios (around 0–50), but with a long tail to very high values ​​(e.g. >80).\n",
    "\n",
    "**Concordance**:\n",
    "- **Approved Average DTI Ratio**: 21.951578\n",
    "- The Approved curve is indeed centered around this value.\n",
    "- **Rejected Average DTI Ratio**: 33.372795\n",
    "- The Rejected curve also fits this average, although there are outliers at very high DTI Ratio values."
   ]
  },
  {
   "cell_type": "markdown",
   "id": "e2c30174",
   "metadata": {},
   "source": [
    "> ### Model Deployment"
   ]
  },
  {
   "cell_type": "code",
   "execution_count": 33,
   "id": "2f08c9dd",
   "metadata": {},
   "outputs": [
    {
     "data": {
      "text/plain": [
       "['knn_model.pkl']"
      ]
     },
     "execution_count": 33,
     "metadata": {},
     "output_type": "execute_result"
    }
   ],
   "source": [
    "import joblib\n",
    "\n",
    "# Assuming the tuned model is stored in 'knn_clf_gridcv.best_estimator_'\n",
    "joblib.dump(knn_clf_gridcv.best_estimator_, 'knn_model.pkl')\n"
   ]
  },
  {
   "cell_type": "code",
   "execution_count": 34,
   "id": "2af451c6",
   "metadata": {},
   "outputs": [
    {
     "data": {
      "text/plain": [
       "['scaler.pkl']"
      ]
     },
     "execution_count": 34,
     "metadata": {},
     "output_type": "execute_result"
    }
   ],
   "source": [
    "joblib.dump(scaler, 'scaler.pkl')\n"
   ]
  }
 ],
 "metadata": {
  "kernelspec": {
   "display_name": "Python 3",
   "language": "python",
   "name": "python3"
  },
  "language_info": {
   "codemirror_mode": {
    "name": "ipython",
    "version": 3
   },
   "file_extension": ".py",
   "mimetype": "text/x-python",
   "name": "python",
   "nbconvert_exporter": "python",
   "pygments_lexer": "ipython3",
   "version": "3.9.10"
  }
 },
 "nbformat": 4,
 "nbformat_minor": 5
}
